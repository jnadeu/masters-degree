{
 "cells": [
  {
   "cell_type": "markdown",
   "metadata": {
    "id": "v9xx4W0hXQ45"
   },
   "source": [
    "# Lab: Learning about Convolutional Neural Networks\n",
    "\n",
    "\n",
    "In this notebook, you will learn how to use a Convolutional Neural Network (CNN) to classify digits from the MNIST dataset. This assignment will introduce the concept of convolutional layers, filters, and pooling layers, and how they differ from the simple feedforward neural network you used in the previous assignment.\n",
    "\n",
    "\n",
    "## 1. Learning objectives\n",
    "\n",
    "1. Implement a convolutional architecture\n",
    "2. Understand convolutional filters and pooling layers\n",
    "3. Compare performance with a feedforward network"
   ]
  },
  {
   "cell_type": "markdown",
   "metadata": {
    "id": "y6bUlsG5Yh3s"
   },
   "source": [
    "## 2. Import the required libraries and data\n",
    "\n",
    "We will use Keras again to build the convolutional model."
   ]
  },
  {
   "cell_type": "code",
   "execution_count": 1,
   "metadata": {
    "id": "nUO7b0GGYphE"
   },
   "outputs": [
    {
     "name": "stderr",
     "output_type": "stream",
     "text": [
      "2024-11-11 18:50:40.949150: I external/local_xla/xla/tsl/cuda/cudart_stub.cc:32] Could not find cuda drivers on your machine, GPU will not be used.\n",
      "2024-11-11 18:50:40.952718: I external/local_xla/xla/tsl/cuda/cudart_stub.cc:32] Could not find cuda drivers on your machine, GPU will not be used.\n",
      "2024-11-11 18:50:40.964631: E external/local_xla/xla/stream_executor/cuda/cuda_fft.cc:477] Unable to register cuFFT factory: Attempting to register factory for plugin cuFFT when one has already been registered\n",
      "WARNING: All log messages before absl::InitializeLog() is called are written to STDERR\n",
      "E0000 00:00:1731347440.982612   10014 cuda_dnn.cc:8310] Unable to register cuDNN factory: Attempting to register factory for plugin cuDNN when one has already been registered\n",
      "E0000 00:00:1731347440.987407   10014 cuda_blas.cc:1418] Unable to register cuBLAS factory: Attempting to register factory for plugin cuBLAS when one has already been registered\n",
      "2024-11-11 18:50:41.003121: I tensorflow/core/platform/cpu_feature_guard.cc:210] This TensorFlow binary is optimized to use available CPU instructions in performance-critical operations.\n",
      "To enable the following instructions: AVX2 FMA, in other operations, rebuild TensorFlow with the appropriate compiler flags.\n"
     ]
    }
   ],
   "source": [
    "import numpy as np\n",
    "import tensorflow as tf\n",
    "from tensorflow import keras\n",
    "import matplotlib.pyplot as plt"
   ]
  },
  {
   "cell_type": "markdown",
   "metadata": {
    "id": "JRUZygHQc2Cw"
   },
   "source": [
    "Import the MNIST dataset."
   ]
  },
  {
   "cell_type": "code",
   "execution_count": 2,
   "metadata": {
    "id": "HoWadVwac4DF"
   },
   "outputs": [],
   "source": [
    "# Load the MNIST dataset\n",
    "(x_train, y_train), (x_test, y_test) = keras.datasets.mnist.load_data()"
   ]
  },
  {
   "cell_type": "markdown",
   "metadata": {
    "id": "DTqEN9iGalkY"
   },
   "source": [
    "We are going to normalize the dataset to pixel values between 0 and 1. In addition, convolutional networks take 3-D arrays as inputs. They use arrays of the form width x height x nb of channels. The number of channels refers to the color channels: RGB has three channels, greyscale (the case of MNIST) has 1 channel.\n",
    "\n",
    "Since we are operating in greyscale, we are transforming the input into a 3-D array, but effectively it contains the same information as the 2-D array.\n",
    "\n",
    "Each input in its original form looks like:\n",
    "[[pixel_0, pixel_1, pixel_2, ..., pixel_27],\n",
    " [pixel_28, pixel_29, pixel_30, ..., pixel_55],\n",
    " ...\n",
    " [pixel_756, pixel_757, pixel_758, ..., pixel_783]]\n",
    "\n",
    " After turning it into a 3-D array:\n",
    " [[[pixel_0, pixel_1, pixel_2, ..., pixel_27],\n",
    "  [pixel_28, pixel_29, pixel_30, ..., pixel_55],\n",
    "  ...\n",
    "  [pixel_756, pixel_757, pixel_758, ..., pixel_783]]]\n",
    "\n",
    "If the pixels has RGB values, the 3-D array would look like:\n",
    "[\n",
    "    [[R_pixel_0, G_pixel_0, B_pixel_0], [R_pixel_1, G_pixel_1, B_pixel_1], ..., [R_pixel_27, G_pixel_27, B_pixel_27]],\n",
    "    [[R_pixel_28, G_pixel_28, B_pixel_28], [R_pixel_29, G_pixel_29, B_pixel_29], ..., [R_pixel_55, G_pixel_55, B_pixel_55]],\n",
    "    ...\n",
    "    [[R_pixel_756, G_pixel_756, B_pixel_756], [R_pixel_757, G_pixel_757, B_pixel_757], ..., [R_pixel_783, G_pixel_783, B_pixel_783]]\n",
    "]\n",
    "\n"
   ]
  },
  {
   "cell_type": "code",
   "execution_count": 3,
   "metadata": {
    "id": "b7mS8mjFcmVt"
   },
   "outputs": [
    {
     "name": "stdout",
     "output_type": "stream",
     "text": [
      "Training data shape: (60000, 28, 28, 1)\n",
      "Test data shape: (10000, 28, 28, 1)\n"
     ]
    }
   ],
   "source": [
    "# Normalize the images to values between 0 and 1 by dividing by 255\n",
    "x_train = x_train.astype('float32') / 255\n",
    "x_test = x_test.astype('float32') / 255\n",
    "\n",
    "# Reshape the data to include the channel dimension\n",
    "x_train = x_train.reshape(-1, 28, 28, 1)\n",
    "x_test = x_test.reshape(-1, 28, 28, 1)\n",
    "\n",
    "# Check the shape of the data\n",
    "print(f'Training data shape: {x_train.shape}')\n",
    "print(f'Test data shape: {x_test.shape}')"
   ]
  },
  {
   "cell_type": "markdown",
   "metadata": {
    "id": "LJbYKGcLfqRc"
   },
   "source": [
    "## 3. Understanding Convolutional Neural Networks (CNNs)\n",
    "\n",
    "A **Convolutional Neural Network (CNN)** is a type of neural network designed to work with image data. Unlike the feedforward neural network from the first assignment, which treats the input as a flat vector, CNNs take advantage of the 2D structure of images. Instead of flattening the image, CNNs process the image in its original form (28x28 pixels, in this case).\n",
    "\n",
    "### What is a Convolutional Layer?\n",
    "\n",
    "A **Convolutional Layer** is the building block of a CNN. It works by applying a set of filters (also called kernels) to the input image. Each filter slides over the image and performs an operation called **convolution**.\n",
    "\n",
    "#### Filters and Feature Extraction:\n",
    "- **Filters (Kernels)**: A filter is a small matrix (e.g., 3x3, 5x5) that scans across the image. Each filter is designed to detect specific patterns in the image, such as edges, textures, or shapes.\n",
    "\n",
    "- **Convolution Operation**: When a filter passes over a portion of the image, it computes the dot product between the filter and the image pixels beneath it. This operation highlights certain features, such as vertical or horizontal edges.\n",
    "\n",
    "Let's visualize this. The following code will randomly initialize a 3x3 filter and apply it to an MNIST digit.\n"
   ]
  },
  {
   "cell_type": "code",
   "execution_count": 4,
   "metadata": {
    "id": "StJHt9R5lFSp"
   },
   "outputs": [
    {
     "data": {
      "image/png": "[encoded data removed]",
      "text/plain": [
       "<Figure size 1000x500 with 2 Axes>"
      ]
     },
     "metadata": {},
     "output_type": "display_data"
    }
   ],
   "source": [
    "# Visualizing how a convolution works with a 3x3 filter\n",
    "\n",
    "# Select a sample image from the dataset\n",
    "sample_image = x_train[0].reshape(28, 28)\n",
    "\n",
    "# Create a 3x3 filter\n",
    "filter_example = np.array([[1, 0, -1],\n",
    "                           [1, 0, -1],\n",
    "                           [1, 0, -1]])\n",
    "\n",
    "# Perform convolution operation manually\n",
    "def convolve(image, filter):\n",
    "    filter_size = filter.shape[0]\n",
    "    output = np.zeros((image.shape[0] - filter_size + 1, image.shape[1] - filter_size + 1))\n",
    "    for i in range(output.shape[0]):\n",
    "        for j in range(output.shape[1]):\n",
    "            output[i, j] = np.sum(image[i:i+filter_size, j:j+filter_size] * filter)\n",
    "    return output\n",
    "\n",
    "convolved_image = convolve(sample_image, filter_example)\n",
    "\n",
    "# Plot the original and convolved images\n",
    "plt.figure(figsize=(10, 5))\n",
    "plt.subplot(1, 2, 1)\n",
    "plt.imshow(sample_image, cmap='gray')\n",
    "plt.title('Original Image')\n",
    "\n",
    "plt.subplot(1, 2, 2)\n",
    "plt.imshow(convolved_image, cmap='gray')\n",
    "plt.title('Convolved Image (Edge Detection)')\n",
    "plt.show()\n"
   ]
  },
  {
   "cell_type": "markdown",
   "metadata": {
    "id": "Ri40KimKmKwl"
   },
   "source": [
    "### Pooling Layers\n",
    "\n",
    "After the convolutional layers extract features from the image, we often apply **Pooling Layers**. Pooling layers are used to reduce the spatial dimensions (height and width) of the convolved feature maps, which helps reduce the number of parameters and computations, and also makes the model more robust to small variations in the input.\n",
    "\n",
    "#### Max Pooling:\n",
    "- The most common type of pooling is **Max Pooling**, where we take the maximum value from a patch of the feature map.\n",
    "- For example, in a 2x2 max-pooling operation, a 2x2 patch of the feature map is reduced to a single value (the maximum in that patch).\n",
    "\n",
    "Let’s build a simple CNN with a convolutional layer and a max-pooling layer.\n"
   ]
  },
  {
   "cell_type": "code",
   "execution_count": 5,
   "metadata": {
    "id": "eHJTM6BXmWAv"
   },
   "outputs": [
    {
     "name": "stderr",
     "output_type": "stream",
     "text": [
      "/home/nad/Documents/Master/SharedFolderVB/masters-degree/.venv/lib/python3.11/site-packages/keras/src/layers/convolutional/base_conv.py:107: UserWarning: Do not pass an `input_shape`/`input_dim` argument to a layer. When using Sequential models, prefer using an `Input(shape)` object as the first layer in the model instead.\n",
      "  super().__init__(activity_regularizer=activity_regularizer, **kwargs)\n",
      "2024-11-11 18:50:43.913865: E external/local_xla/xla/stream_executor/cuda/cuda_driver.cc:152] failed call to cuInit: INTERNAL: CUDA error: Failed call to cuInit: UNKNOWN ERROR (303)\n"
     ]
    },
    {
     "data": {
      "text/html": [
       "<pre style=\"white-space:pre;overflow-x:auto;line-height:normal;font-family:Menlo,'DejaVu Sans Mono',consolas,'Courier New',monospace\"><span style=\"font-weight: bold\">Model: \"sequential\"</span>\n",
       "</pre>\n"
      ],
      "text/plain": [
       "\u001b[1mModel: \"sequential\"\u001b[0m\n"
      ]
     },
     "metadata": {},
     "output_type": "display_data"
    },
    {
     "data": {
      "text/html": [
       "<pre style=\"white-space:pre;overflow-x:auto;line-height:normal;font-family:Menlo,'DejaVu Sans Mono',consolas,'Courier New',monospace\">┏━━━━━━━━━━━━━━━━━━━━━━━━━━━━━━━━━┳━━━━━━━━━━━━━━━━━━━━━━━━┳━━━━━━━━━━━━━━━┓\n",
       "┃<span style=\"font-weight: bold\"> Layer (type)                    </span>┃<span style=\"font-weight: bold\"> Output Shape           </span>┃<span style=\"font-weight: bold\">       Param # </span>┃\n",
       "┡━━━━━━━━━━━━━━━━━━━━━━━━━━━━━━━━━╇━━━━━━━━━━━━━━━━━━━━━━━━╇━━━━━━━━━━━━━━━┩\n",
       "│ conv2d (<span style=\"color: #0087ff; text-decoration-color: #0087ff\">Conv2D</span>)                 │ (<span style=\"color: #00d7ff; text-decoration-color: #00d7ff\">None</span>, <span style=\"color: #00af00; text-decoration-color: #00af00\">26</span>, <span style=\"color: #00af00; text-decoration-color: #00af00\">26</span>, <span style=\"color: #00af00; text-decoration-color: #00af00\">32</span>)     │           <span style=\"color: #00af00; text-decoration-color: #00af00\">320</span> │\n",
       "├─────────────────────────────────┼────────────────────────┼───────────────┤\n",
       "│ max_pooling2d (<span style=\"color: #0087ff; text-decoration-color: #0087ff\">MaxPooling2D</span>)    │ (<span style=\"color: #00d7ff; text-decoration-color: #00d7ff\">None</span>, <span style=\"color: #00af00; text-decoration-color: #00af00\">13</span>, <span style=\"color: #00af00; text-decoration-color: #00af00\">13</span>, <span style=\"color: #00af00; text-decoration-color: #00af00\">32</span>)     │             <span style=\"color: #00af00; text-decoration-color: #00af00\">0</span> │\n",
       "├─────────────────────────────────┼────────────────────────┼───────────────┤\n",
       "│ conv2d_1 (<span style=\"color: #0087ff; text-decoration-color: #0087ff\">Conv2D</span>)               │ (<span style=\"color: #00d7ff; text-decoration-color: #00d7ff\">None</span>, <span style=\"color: #00af00; text-decoration-color: #00af00\">11</span>, <span style=\"color: #00af00; text-decoration-color: #00af00\">11</span>, <span style=\"color: #00af00; text-decoration-color: #00af00\">64</span>)     │        <span style=\"color: #00af00; text-decoration-color: #00af00\">18,496</span> │\n",
       "├─────────────────────────────────┼────────────────────────┼───────────────┤\n",
       "│ max_pooling2d_1 (<span style=\"color: #0087ff; text-decoration-color: #0087ff\">MaxPooling2D</span>)  │ (<span style=\"color: #00d7ff; text-decoration-color: #00d7ff\">None</span>, <span style=\"color: #00af00; text-decoration-color: #00af00\">5</span>, <span style=\"color: #00af00; text-decoration-color: #00af00\">5</span>, <span style=\"color: #00af00; text-decoration-color: #00af00\">64</span>)       │             <span style=\"color: #00af00; text-decoration-color: #00af00\">0</span> │\n",
       "├─────────────────────────────────┼────────────────────────┼───────────────┤\n",
       "│ flatten (<span style=\"color: #0087ff; text-decoration-color: #0087ff\">Flatten</span>)               │ (<span style=\"color: #00d7ff; text-decoration-color: #00d7ff\">None</span>, <span style=\"color: #00af00; text-decoration-color: #00af00\">1600</span>)           │             <span style=\"color: #00af00; text-decoration-color: #00af00\">0</span> │\n",
       "├─────────────────────────────────┼────────────────────────┼───────────────┤\n",
       "│ dense (<span style=\"color: #0087ff; text-decoration-color: #0087ff\">Dense</span>)                   │ (<span style=\"color: #00d7ff; text-decoration-color: #00d7ff\">None</span>, <span style=\"color: #00af00; text-decoration-color: #00af00\">128</span>)            │       <span style=\"color: #00af00; text-decoration-color: #00af00\">204,928</span> │\n",
       "├─────────────────────────────────┼────────────────────────┼───────────────┤\n",
       "│ dense_1 (<span style=\"color: #0087ff; text-decoration-color: #0087ff\">Dense</span>)                 │ (<span style=\"color: #00d7ff; text-decoration-color: #00d7ff\">None</span>, <span style=\"color: #00af00; text-decoration-color: #00af00\">10</span>)             │         <span style=\"color: #00af00; text-decoration-color: #00af00\">1,290</span> │\n",
       "└─────────────────────────────────┴────────────────────────┴───────────────┘\n",
       "</pre>\n"
      ],
      "text/plain": [
       "┏━━━━━━━━━━━━━━━━━━━━━━━━━━━━━━━━━┳━━━━━━━━━━━━━━━━━━━━━━━━┳━━━━━━━━━━━━━━━┓\n",
       "┃\u001b[1m \u001b[0m\u001b[1mLayer (type)                   \u001b[0m\u001b[1m \u001b[0m┃\u001b[1m \u001b[0m\u001b[1mOutput Shape          \u001b[0m\u001b[1m \u001b[0m┃\u001b[1m \u001b[0m\u001b[1m      Param #\u001b[0m\u001b[1m \u001b[0m┃\n",
       "┡━━━━━━━━━━━━━━━━━━━━━━━━━━━━━━━━━╇━━━━━━━━━━━━━━━━━━━━━━━━╇━━━━━━━━━━━━━━━┩\n",
       "│ conv2d (\u001b[38;5;33mConv2D\u001b[0m)                 │ (\u001b[38;5;45mNone\u001b[0m, \u001b[38;5;34m26\u001b[0m, \u001b[38;5;34m26\u001b[0m, \u001b[38;5;34m32\u001b[0m)     │           \u001b[38;5;34m320\u001b[0m │\n",
       "├─────────────────────────────────┼────────────────────────┼───────────────┤\n",
       "│ max_pooling2d (\u001b[38;5;33mMaxPooling2D\u001b[0m)    │ (\u001b[38;5;45mNone\u001b[0m, \u001b[38;5;34m13\u001b[0m, \u001b[38;5;34m13\u001b[0m, \u001b[38;5;34m32\u001b[0m)     │             \u001b[38;5;34m0\u001b[0m │\n",
       "├─────────────────────────────────┼────────────────────────┼───────────────┤\n",
       "│ conv2d_1 (\u001b[38;5;33mConv2D\u001b[0m)               │ (\u001b[38;5;45mNone\u001b[0m, \u001b[38;5;34m11\u001b[0m, \u001b[38;5;34m11\u001b[0m, \u001b[38;5;34m64\u001b[0m)     │        \u001b[38;5;34m18,496\u001b[0m │\n",
       "├─────────────────────────────────┼────────────────────────┼───────────────┤\n",
       "│ max_pooling2d_1 (\u001b[38;5;33mMaxPooling2D\u001b[0m)  │ (\u001b[38;5;45mNone\u001b[0m, \u001b[38;5;34m5\u001b[0m, \u001b[38;5;34m5\u001b[0m, \u001b[38;5;34m64\u001b[0m)       │             \u001b[38;5;34m0\u001b[0m │\n",
       "├─────────────────────────────────┼────────────────────────┼───────────────┤\n",
       "│ flatten (\u001b[38;5;33mFlatten\u001b[0m)               │ (\u001b[38;5;45mNone\u001b[0m, \u001b[38;5;34m1600\u001b[0m)           │             \u001b[38;5;34m0\u001b[0m │\n",
       "├─────────────────────────────────┼────────────────────────┼───────────────┤\n",
       "│ dense (\u001b[38;5;33mDense\u001b[0m)                   │ (\u001b[38;5;45mNone\u001b[0m, \u001b[38;5;34m128\u001b[0m)            │       \u001b[38;5;34m204,928\u001b[0m │\n",
       "├─────────────────────────────────┼────────────────────────┼───────────────┤\n",
       "│ dense_1 (\u001b[38;5;33mDense\u001b[0m)                 │ (\u001b[38;5;45mNone\u001b[0m, \u001b[38;5;34m10\u001b[0m)             │         \u001b[38;5;34m1,290\u001b[0m │\n",
       "└─────────────────────────────────┴────────────────────────┴───────────────┘\n"
      ]
     },
     "metadata": {},
     "output_type": "display_data"
    },
    {
     "data": {
      "text/html": [
       "<pre style=\"white-space:pre;overflow-x:auto;line-height:normal;font-family:Menlo,'DejaVu Sans Mono',consolas,'Courier New',monospace\"><span style=\"font-weight: bold\"> Total params: </span><span style=\"color: #00af00; text-decoration-color: #00af00\">225,034</span> (879.04 KB)\n",
       "</pre>\n"
      ],
      "text/plain": [
       "\u001b[1m Total params: \u001b[0m\u001b[38;5;34m225,034\u001b[0m (879.04 KB)\n"
      ]
     },
     "metadata": {},
     "output_type": "display_data"
    },
    {
     "data": {
      "text/html": [
       "<pre style=\"white-space:pre;overflow-x:auto;line-height:normal;font-family:Menlo,'DejaVu Sans Mono',consolas,'Courier New',monospace\"><span style=\"font-weight: bold\"> Trainable params: </span><span style=\"color: #00af00; text-decoration-color: #00af00\">225,034</span> (879.04 KB)\n",
       "</pre>\n"
      ],
      "text/plain": [
       "\u001b[1m Trainable params: \u001b[0m\u001b[38;5;34m225,034\u001b[0m (879.04 KB)\n"
      ]
     },
     "metadata": {},
     "output_type": "display_data"
    },
    {
     "data": {
      "text/html": [
       "<pre style=\"white-space:pre;overflow-x:auto;line-height:normal;font-family:Menlo,'DejaVu Sans Mono',consolas,'Courier New',monospace\"><span style=\"font-weight: bold\"> Non-trainable params: </span><span style=\"color: #00af00; text-decoration-color: #00af00\">0</span> (0.00 B)\n",
       "</pre>\n"
      ],
      "text/plain": [
       "\u001b[1m Non-trainable params: \u001b[0m\u001b[38;5;34m0\u001b[0m (0.00 B)\n"
      ]
     },
     "metadata": {},
     "output_type": "display_data"
    }
   ],
   "source": [
    "# Build a CNN model\n",
    "model_cnn = keras.Sequential()\n",
    "\n",
    "# Add a convolutional layer\n",
    "# Filters = 32 (number of filters), kernel_size = (3,3) means 3x3 filters, activation function = ReLU\n",
    "model_cnn.add(keras.layers.Conv2D(32, kernel_size=(3, 3), activation='relu', input_shape=(28, 28, 1)))\n",
    "\n",
    "# Add a max-pooling layer\n",
    "model_cnn.add(keras.layers.MaxPooling2D(pool_size=(2, 2)))\n",
    "\n",
    "# Add another convolutional layer\n",
    "model_cnn.add(keras.layers.Conv2D(64, kernel_size=(3, 3), activation='relu'))\n",
    "\n",
    "# Add another max-pooling layer\n",
    "model_cnn.add(keras.layers.MaxPooling2D(pool_size=(2, 2)))\n",
    "\n",
    "# Flatten the output and connect to a Dense layer for classification\n",
    "model_cnn.add(keras.layers.Flatten())\n",
    "model_cnn.add(keras.layers.Dense(128, activation='relu'))\n",
    "\n",
    "# Add the output layer with 10 neurons (for 10 digits) and softmax activation\n",
    "model_cnn.add(keras.layers.Dense(10, activation='softmax'))\n",
    "\n",
    "# Compile the model\n",
    "model_cnn.compile(optimizer='adam', loss='sparse_categorical_crossentropy', metrics=['accuracy'])\n",
    "\n",
    "# Summary of the model\n",
    "model_cnn.summary()\n"
   ]
  },
  {
   "cell_type": "markdown",
   "metadata": {
    "id": "7IFOvDP_43b_"
   },
   "source": [
    "Why is the output of the first convolutional layer of dimension (26, 26,32)? Why is the output of the first conv2d layer of dimension (13, 13, 32)?"
   ]
  },
  {
   "cell_type": "markdown",
   "metadata": {
    "id": "NyDLAXFEmThl"
   },
   "source": [
    "### Training the CNN\n",
    "\n",
    "We will now train the CNN on the MNIST dataset, just like in the first assignment, but this time with convolutional layers extracting features from the images.\n"
   ]
  },
  {
   "cell_type": "code",
   "execution_count": 6,
   "metadata": {
    "id": "eAoY5Yz_oTug"
   },
   "outputs": [
    {
     "name": "stdout",
     "output_type": "stream",
     "text": [
      "Epoch 1/5\n",
      "\u001b[1m1875/1875\u001b[0m \u001b[32m━━━━━━━━━━━━━━━━━━━━\u001b[0m\u001b[37m\u001b[0m \u001b[1m22s\u001b[0m 11ms/step - accuracy: 0.9121 - loss: 0.2902 - val_accuracy: 0.9869 - val_loss: 0.0369\n",
      "Epoch 2/5\n",
      "\u001b[1m1875/1875\u001b[0m \u001b[32m━━━━━━━━━━━━━━━━━━━━\u001b[0m\u001b[37m\u001b[0m \u001b[1m20s\u001b[0m 11ms/step - accuracy: 0.9861 - loss: 0.0436 - val_accuracy: 0.9888 - val_loss: 0.0357\n",
      "Epoch 3/5\n",
      "\u001b[1m1875/1875\u001b[0m \u001b[32m━━━━━━━━━━━━━━━━━━━━\u001b[0m\u001b[37m\u001b[0m \u001b[1m19s\u001b[0m 10ms/step - accuracy: 0.9914 - loss: 0.0274 - val_accuracy: 0.9920 - val_loss: 0.0247\n",
      "Epoch 4/5\n",
      "\u001b[1m1875/1875\u001b[0m \u001b[32m━━━━━━━━━━━━━━━━━━━━\u001b[0m\u001b[37m\u001b[0m \u001b[1m19s\u001b[0m 10ms/step - accuracy: 0.9943 - loss: 0.0174 - val_accuracy: 0.9884 - val_loss: 0.0357\n",
      "Epoch 5/5\n",
      "\u001b[1m1875/1875\u001b[0m \u001b[32m━━━━━━━━━━━━━━━━━━━━\u001b[0m\u001b[37m\u001b[0m \u001b[1m19s\u001b[0m 10ms/step - accuracy: 0.9958 - loss: 0.0125 - val_accuracy: 0.9914 - val_loss: 0.0270\n",
      "\u001b[1m313/313\u001b[0m \u001b[32m━━━━━━━━━━━━━━━━━━━━\u001b[0m\u001b[37m\u001b[0m \u001b[1m1s\u001b[0m 3ms/step - accuracy: 0.9883 - loss: 0.0345\n",
      "Test accuracy: 0.9914000034332275\n"
     ]
    }
   ],
   "source": [
    "# Train the model\n",
    "history = model_cnn.fit(x_train, y_train, epochs=5, validation_data=(x_test, y_test))\n",
    "\n",
    "# Evaluate the model\n",
    "test_loss, test_acc = model_cnn.evaluate(x_test, y_test)\n",
    "\n",
    "print(f\"Test accuracy: {test_acc}\")\n"
   ]
  },
  {
   "cell_type": "markdown",
   "metadata": {
    "id": "ewBU5ccDogiy"
   },
   "source": [
    "### Comparing CNNs to Feedforward Networks\n",
    "\n",
    "- In the first assignment, you used a feedforward neural network (fully connected layers) to classify the digits, and you might have noticed that the model achieved high accuracy but did not take the 2D structure of the image into account.\n",
    "- CNNs, on the other hand, are designed specifically for image data, and they use convolutional layers to automatically detect important features, such as edges, textures, and shapes.\n",
    "\n",
    "#### Key Differences Between CNNs and Feedforward Networks:\n",
    "- **Local Connectivity**: CNNs use small filters to connect only a local region of the input image (e.g., 3x3 or 5x5), while feedforward networks connect each neuron to every pixel in the image.\n",
    "- **Parameter Sharing**: In CNNs, the same filter is applied across the entire image, which reduces the number of parameters compared to a fully connected layer.\n",
    "- **Spatial Hierarchy**: CNNs learn hierarchical representations, where lower layers capture simple features (edges, corners), and higher layers capture more complex patterns (shapes, objects).\n",
    "\n",
    "CNNs are typically much better suited for image classification tasks, as you will see in the higher accuracy when compared to your previous feedforward network.\n",
    "\n"
   ]
  },
  {
   "cell_type": "markdown",
   "metadata": {
    "id": "heYJ_d7a7Fvh"
   },
   "source": [
    "# Visualising learnt filters\n",
    "\n",
    "We can visualise the 3x3 filters learnt by the first convolutional layer by obtaining the weights of that layer and plotting them. We will set dark squares to indicate small or inhibitory weights and light squares\n",
    " to represent large or excitatory weights.\n",
    "\n"
   ]
  },
  {
   "cell_type": "code",
   "execution_count": 7,
   "metadata": {
    "id": "Cr57CqXW5Oya"
   },
   "outputs": [
    {
     "data": {
      "image/png": "[encoded data removed]",
      "text/plain": [
       "<Figure size 640x480 with 9 Axes>"
      ]
     },
     "metadata": {},
     "output_type": "display_data"
    }
   ],
   "source": [
    "from matplotlib import pyplot\n",
    "\n",
    "# retrieve weights from the first convolutional layer\n",
    "filters, biases = model_cnn.layers[0].get_weights()\n",
    "# normalize filter values to 0-1 so we can visualize them\n",
    "f_min, f_max = filters.min(), filters.max()\n",
    "filters = (filters - f_min) / (f_max - f_min)\n",
    "# plot first n filters\n",
    "n_filters, ix = 9, 1\n",
    "for i in range(n_filters):\n",
    "\t# get the filter\n",
    "  f = filters[:, :, :, i]\n",
    "  # specify subplot and turn of axis\n",
    "  ax = pyplot.subplot(n_filters, 3, ix)\n",
    "  ax.set_xticks([])\n",
    "  ax.set_yticks([])\n",
    "  # plot filter channel in grayscale\n",
    "  pyplot.imshow(f[:, :, 0], cmap='gray')\n",
    "  ix += 1\n",
    "# show the figure\n",
    "pyplot.show()"
   ]
  },
  {
   "cell_type": "markdown",
   "metadata": {
    "id": "GWTFytk88Sfp"
   },
   "source": [
    "We can see, for example, that the third filter specifically looks for changes between the right upper corner and the pixels surrounding it."
   ]
  },
  {
   "cell_type": "code",
   "execution_count": 8,
   "metadata": {
    "id": "DDqLuyGH9QAH"
   },
   "outputs": [
    {
     "data": {
      "image/png": "[encoded data removed]",
      "text/plain": [
       "<Figure size 640x480 with 9 Axes>"
      ]
     },
     "metadata": {},
     "output_type": "display_data"
    }
   ],
   "source": [
    "# retrieve weights from the seconf convolutional layer\n",
    "filters, biases = model_cnn.layers[2].get_weights()\n",
    "# normalize filter values to 0-1 so we can visualize them\n",
    "f_min, f_max = filters.min(), filters.max()\n",
    "filters = (filters - f_min) / (f_max - f_min)\n",
    "# plot first n filters\n",
    "n_filters, ix = 9, 1\n",
    "for i in range(n_filters):\n",
    "\t# get the filter\n",
    "  f = filters[:, :, :, i]\n",
    "  # specify subplot and turn of axis\n",
    "  ax = pyplot.subplot(n_filters, 3, ix)\n",
    "  ax.set_xticks([])\n",
    "  ax.set_yticks([])\n",
    "  # plot filter channel in grayscale\n",
    "  pyplot.imshow(f[:, :, 0], cmap='gray')\n",
    "  ix += 1\n",
    "# show the figure\n",
    "pyplot.show()"
   ]
  }
 ],
 "metadata": {
  "colab": {
   "provenance": []
  },
  "kernelspec": {
   "display_name": ".venv",
   "language": "python",
   "name": "python3"
  },
  "language_info": {
   "codemirror_mode": {
    "name": "ipython",
    "version": 3
   },
   "file_extension": ".py",
   "mimetype": "text/x-python",
   "name": "python",
   "nbconvert_exporter": "python",
   "pygments_lexer": "ipython3",
   "version": "3.11.2"
  }
 },
 "nbformat": 4,
 "nbformat_minor": 0
}
