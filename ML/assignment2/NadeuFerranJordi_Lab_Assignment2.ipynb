{
  "cells": [
    {
      "cell_type": "markdown",
      "metadata": {
        "id": "JeVFI0KV_yP7"
      },
      "source": [
        "# Programming Assignment 2: Data preparation and unsupervised learning\n",
        "\n",
        "\n",
        "## Objectives\n",
        "* Apply data preparation techniques\n",
        "* Implement unsupervised learning algorithms\n",
        "* Understand visualization and insights gained from unsupervised learning methods\n",
        "\n"
      ]
    },
    {
      "cell_type": "markdown",
      "metadata": {
        "id": "rkkdVOuzARK5"
      },
      "source": [
        "## Hand-in instructions\n",
        "You are expected to hand-in a Jupyter notebook based on this one. Your notebook should contain running code and answer all questions posed in this assignment.\n",
        "\n",
        "You can structure your code as you wish, as long as it is well structured and commented. You can structure it in different files or in a single one. The code provided in this assignment is a suggestion, feel free to solve the exercises as you wish.\n",
        "\n",
        "Throughout the assignment, there are portions of code marked with ??. You have to complete that code with your own.\n",
        "\n",
        "## 1. Data preparation"
      ]
    },
    {
      "cell_type": "markdown",
      "metadata": {
        "id": "1IDfKWayAkl2"
      },
      "source": [
        "Download the Mall Customers dataset. Load the dataset ( [Mall_Customers.csv](https://www.kaggle.com/datasets/kandij/mall-customers?resource=download)) using pandas. Pandas is majorly focused on data processing, manipulation, cleaning, and visualization.\n",
        "\n",
        "When you load a dataset with pandas, it is loaded as a dataframe. Look up the documentation.\n"
      ]
    },
    {
      "cell_type": "code",
      "execution_count": 1,
      "metadata": {
        "id": "H5yWyk8vAORO"
      },
      "outputs": [],
      "source": [
        "import pandas as pd\n",
        "\n",
        "#Load dataset\n",
        "mall = pd.read_csv('Mall_Customers.csv')"
      ]
    },
    {
      "cell_type": "markdown",
      "metadata": {
        "id": "YaNsr4CXAxJ5"
      },
      "source": [
        "\n",
        "**What is a dataframe? Can you turn any dataset into a dataframe?**"
      ]
    },
    {
      "cell_type": "markdown",
      "metadata": {},
      "source": [
        "As the chatGPT says, a DataFrame is a two-dimensional, size-mutable, and potentially heterogeneous tabular data structure with labeled axes (rows and columns). Think of it as a table (like in Excel) where rows represent individual records and columns represent variables or attributes.\n",
        "\n",
        "Any dataset that follow the tabular format (rows and columns) can be convert into a dataframe."
      ]
    },
    {
      "cell_type": "markdown",
      "metadata": {
        "id": "B-iRUwHdDD02"
      },
      "source": [
        "__Display the first few rows, check data types, and get a summary of statistics (mean, median, mode).__  **What do the statistics indicate about the data?**\n"
      ]
    },
    {
      "cell_type": "markdown",
      "metadata": {
        "id": "9Azajm6eC36V"
      },
      "source": [
        "\n",
        "Firstly, the definition of each statistic:\n",
        "\n",
        "* Mean: The average value. This helps you understand the central tendency for the numerical features.\n",
        "* Median: The middle value when the data is sorted. For cases where the mean may be biased by extreme values, it provides a more robust view of the central value.\n",
        "* Mode: The value that appears most frequently. If certain values dominate a feature, it can be useful to identify it.\n",
        "\n",
        "Some interpretations of the statistics below:\n",
        "\n",
        "The mean and median of the Age column are close, cause mean = 38.85 and median = 36. It indicates that the data have a relatively symmetrical distribution.\n",
        "\n",
        "The mode of Genre may indicate which sex is the most common among clients. In our case are Female.\n",
        "\n",
        "For Annual Income and Expenditure Score, I'm not at all clear how to interpret them. We assume the same case as with age, having very similar values between the median and the mean, indicates that there will potentially be no outliers."
      ]
    },
    {
      "cell_type": "code",
      "execution_count": 2,
      "metadata": {
        "id": "ecID84w6X1MM"
      },
      "outputs": [
        {
          "name": "stdout",
          "output_type": "stream",
          "text": [
            "* First few rows of the dataset:\n",
            "\n",
            "   CustomerID   Genre  Age  Annual Income (k$)  Spending Score (1-100)\n",
            "0           1    Male   19                  15                      39\n",
            "1           2    Male   21                  15                      81\n",
            "2           3  Female   20                  16                       6\n",
            "3           4  Female   23                  16                      77\n",
            "4           5  Female   31                  17                      40\n",
            "\n",
            "* Data types of each column:\n",
            "\n",
            "CustomerID                 int64\n",
            "Genre                     object\n",
            "Age                        int64\n",
            "Annual Income (k$)         int64\n",
            "Spending Score (1-100)     int64\n",
            "dtype: object\n",
            "\n",
            "-------- Summary statistics --------\n",
            "\n",
            "* Mean of each column:\n",
            "\n",
            "CustomerID                100.50\n",
            "Age                        38.85\n",
            "Annual Income (k$)         60.56\n",
            "Spending Score (1-100)     50.20\n",
            "dtype: float64\n",
            "\n",
            "* Median of each column:\n",
            "\n",
            "CustomerID                100.5\n",
            "Age                        36.0\n",
            "Annual Income (k$)         61.5\n",
            "Spending Score (1-100)     50.0\n",
            "dtype: float64\n",
            "\n",
            "* Mode of each column:\n",
            "\n",
            "CustomerID                     1\n",
            "Genre                     Female\n",
            "Age                         32.0\n",
            "Annual Income (k$)          54.0\n",
            "Spending Score (1-100)      42.0\n",
            "Name: 0, dtype: object\n"
          ]
        }
      ],
      "source": [
        "# Display the first few rows of the DataFrame\n",
        "print(\"* First few rows of the dataset:\\n\")\n",
        "\n",
        "print(mall.head())\n",
        "\n",
        "# Check the data types of each column\n",
        "print(\"\\n* Data types of each column:\\n\")\n",
        "print(mall.dtypes)\n",
        "\n",
        "print(\"\\n-------- Summary statistics --------\")\n",
        "\n",
        "\n",
        "# Mean of the columns\n",
        "print(\"\\n* Mean of each column:\\n\")\n",
        "print(mall.mean(numeric_only=True))\n",
        "\n",
        "# Median of the columns\n",
        "print(\"\\n* Median of each column:\\n\")\n",
        "print(mall.median(numeric_only=True))\n",
        "\n",
        "# Mode of the columns (mode returns a DataFrame, hence we take the first mode value using .iloc[0])\n",
        "print(\"\\n* Mode of each column:\\n\")\n",
        "print(mall.mode().iloc[0])"
      ]
    },
    {
      "cell_type": "markdown",
      "metadata": {
        "id": "w6aAYP2ADzq0"
      },
      "source": [
        "Missing Data: Check for missing values in the dataset using isnull(). If there are missing values, decide on an appropriate strategy (e.g., mean/median imputation or removing rows)."
      ]
    },
    {
      "cell_type": "code",
      "execution_count": 3,
      "metadata": {
        "id": "mkza5kh9D0-Y"
      },
      "outputs": [
        {
          "name": "stdout",
          "output_type": "stream",
          "text": [
            "CustomerID                0\n",
            "Genre                     0\n",
            "Age                       0\n",
            "Annual Income (k$)        0\n",
            "Spending Score (1-100)    0\n",
            "dtype: int64\n"
          ]
        }
      ],
      "source": [
        "# Check for missing values in the entire DataFrame\n",
        "print(mall.isnull().sum())\n",
        "\n",
        "# If there are few cases, we will delete these data with the following code\n",
        "mall_cleaned = mall.dropna()"
      ]
    },
    {
      "cell_type": "markdown",
      "metadata": {
        "id": "tim8LXMTD1dV"
      },
      "source": [
        "Outliers: Plot histograms or boxplots for Age, Annual Income, and Spending Score. Identify and remove any outliers.\n",
        "\n"
      ]
    },
    {
      "cell_type": "code",
      "execution_count": 4,
      "metadata": {
        "id": "ALD5fEbwEauj"
      },
      "outputs": [
        {
          "data": {
            "image/png": "[encoded data removed]",
            "text/plain": [
              "<Figure size 1200x500 with 2 Axes>"
            ]
          },
          "metadata": {},
          "output_type": "display_data"
        },
        {
          "data": {
            "image/png": "[encoded data removed]",
            "text/plain": [
              "<Figure size 1200x500 with 2 Axes>"
            ]
          },
          "metadata": {},
          "output_type": "display_data"
        },
        {
          "data": {
            "image/png": "[encoded data removed]",
            "text/plain": [
              "<Figure size 1200x500 with 2 Axes>"
            ]
          },
          "metadata": {},
          "output_type": "display_data"
        }
      ],
      "source": [
        "\n",
        "import matplotlib.pyplot as plt\n",
        "import seaborn as sns\n",
        "\n",
        "# Define columns of interest\n",
        "columns_of_interest = ['Age', 'Annual Income (k$)', 'Spending Score (1-100)']\n",
        "\n",
        "# Plot histograms and boxplots for each column\n",
        "for col in columns_of_interest:\n",
        "    plt.figure(figsize=(12, 5))\n",
        "\n",
        "    # Plot histogram\n",
        "    plt.subplot(1, 2, 1)\n",
        "    sns.histplot(mall[col], bins=30, kde=True)\n",
        "    plt.title(f'{col} Histogram')\n",
        "\n",
        "    # Plot boxplot\n",
        "    plt.subplot(1, 2, 2)\n",
        "    sns.boxplot(x=mall[col])\n",
        "    plt.title(f'{col} Boxplot')\n",
        "\n",
        "    plt.tight_layout()\n",
        "    plt.show()\n"
      ]
    },
    {
      "cell_type": "markdown",
      "metadata": {
        "id": "PxgETWYZG-cx"
      },
      "source": [
        "Rescale the numerical columns (Age, Annual Income, Spending Score) using either Standardization (Z-score) or Min-Max Normalization to bring all features to a common scale. Use the sklearn.preprocessing library.\n",
        "Save the new scaled dataset as a csv.\n"
      ]
    },
    {
      "cell_type": "code",
      "execution_count": 5,
      "metadata": {
        "id": "8-qDslYzHBL9"
      },
      "outputs": [
        {
          "name": "stdout",
          "output_type": "stream",
          "text": [
            "Min-Max normalized data saved as 'scaled_data_normalization.csv'\n"
          ]
        }
      ],
      "source": [
        "\n",
        "import pandas as pd\n",
        "from sklearn.preprocessing import StandardScaler\n",
        "from sklearn.preprocessing import MinMaxScaler\n",
        "\n",
        "\n",
        "# Columns to scale\n",
        "columns_to_scale = ['Age', 'Annual Income (k$)', 'Spending Score (1-100)']\n",
        "\n",
        "# Initialize the MinMaxScaler\n",
        "scaler = MinMaxScaler()\n",
        "# Scale the specified columns\n",
        "mall[columns_to_scale] = scaler.fit_transform(mall[columns_to_scale])\n",
        "\n",
        "# Save the new scaled dataset to a CSV file\n",
        "mall.to_csv('scaled_data_normalization.csv', index=False)\n",
        "\n",
        "print(\"Min-Max normalized data saved as 'scaled_data_normalization.csv'\")\n",
        "\n",
        "# Initialize the StandardScaler\n",
        "#scaler = StandardScaler()\n",
        "# Scale the specified columns\n",
        "#mall[columns_to_scale] = scaler.fit_transform(mall[columns_to_scale])\n",
        "# Save the new scaled dataset to a CSV file\n",
        "#mall.to_csv('scaled_data_standardization.csv', index=False)\n",
        "#print(\"Standardized data saved as 'scaled_data_standardization.csv'\")"
      ]
    },
    {
      "cell_type": "markdown",
      "metadata": {
        "id": "Gh7PUJRHHV0E"
      },
      "source": [
        "# 2. Clustering\n",
        "\n",
        "Apply the K-Means algorithm on the scaled dataset, only on the numerical columns.\n",
        "Use the elbow method to determine the optimal number of clusters.\n",
        "Plot the inertia (within-cluster sum of squares) to visualize the elbow."
      ]
    },
    {
      "cell_type": "code",
      "execution_count": 6,
      "metadata": {
        "id": "CeKM1X3TJ2OV"
      },
      "outputs": [
        {
          "data": {
            "image/png": "[encoded data removed]",
            "text/plain": [
              "<Figure size 800x400 with 1 Axes>"
            ]
          },
          "metadata": {},
          "output_type": "display_data"
        }
      ],
      "source": [
        "from sklearn.cluster import KMeans\n",
        "import matplotlib.pyplot as plt\n",
        "\n",
        "# Select features for clustering\n",
        "X = mall[['Age', 'Annual Income (k$)', 'Spending Score (1-100)']]\n",
        "\n",
        "# Find the optimal number of clusters using the Elbow Method\n",
        "inertia = []\n",
        "K = range(1, 14)\n",
        "for k in K:\n",
        "    kmeans = KMeans(n_clusters=k, random_state=42)\n",
        "    kmeans.fit(X)\n",
        "    inertia.append(kmeans.inertia_)\n",
        "\n",
        "# Plot the Elbow Method\n",
        "plt.figure(figsize=(8, 4))\n",
        "plt.plot(K, inertia, 'bo-', markersize=8)\n",
        "plt.xlabel('Number of clusters, k')\n",
        "plt.ylabel('Inertia')\n",
        "plt.title('Elbow Method to determine optimal k')\n",
        "plt.show()\n"
      ]
    },
    {
      "cell_type": "markdown",
      "metadata": {
        "id": "Hx8-5ykKKzq5"
      },
      "source": [
        "Fit the K-Means model with the optimal number of clusters. Add the cluster labels to the original dataset."
      ]
    },
    {
      "cell_type": "code",
      "execution_count": 7,
      "metadata": {
        "id": "4t_hPc_UK17J"
      },
      "outputs": [
        {
          "name": "stdout",
          "output_type": "stream",
          "text": [
            "   CustomerID   Genre       Age  Annual Income (k$)  Spending Score (1-100)  \\\n",
            "0           1    Male  0.019231            0.000000                0.387755   \n",
            "1           2    Male  0.057692            0.000000                0.816327   \n",
            "2           3  Female  0.038462            0.008197                0.051020   \n",
            "3           4  Female  0.096154            0.008197                0.775510   \n",
            "4           5  Female  0.250000            0.016393                0.397959   \n",
            "\n",
            "   Cluster  \n",
            "0        2  \n",
            "1        4  \n",
            "2        2  \n",
            "3        4  \n",
            "4        2  \n"
          ]
        }
      ],
      "source": [
        "# Fit the KMeans model with the optimal number of clusters (e.g., k=5)\n",
        "kmeans = KMeans(n_clusters=6, random_state=42)\n",
        "mall['Cluster'] = kmeans.fit_predict(X)\n",
        "\n",
        "# Display the first few rows with cluster labels\n",
        "print(mall.head())\n"
      ]
    },
    {
      "cell_type": "markdown",
      "metadata": {
        "id": "UBfs2kjNLGS7"
      },
      "source": [
        "Plot the clusters using the Age, Annual Income, and Spending Score features.\n",
        "Use matplotlib or seaborn to create scatter plots."
      ]
    },
    {
      "cell_type": "code",
      "execution_count": 8,
      "metadata": {
        "id": "vd3DpJN2LG-t"
      },
      "outputs": [
        {
          "data": {
            "image/png": "[encoded data removed]",
            "text/plain": [
              "<Figure size 800x600 with 1 Axes>"
            ]
          },
          "metadata": {},
          "output_type": "display_data"
        },
        {
          "data": {
            "image/png": "[encoded data removed]",
            "text/plain": [
              "<Figure size 800x600 with 1 Axes>"
            ]
          },
          "metadata": {},
          "output_type": "display_data"
        },
        {
          "data": {
            "application/vnd.plotly.v1+json": {
              "config": {
                "plotlyServerURL": "https://plot.ly"
              },
              "data": [
                {
                  "hovertemplate": "Age=%{x}<br>Annual Income (k$)=%{y}<br>Spending Score (1-100)=%{z}<br>Cluster=%{marker.color}<extra></extra>",
                  "legendgroup": "",
                  "marker": {
                    "color": [
                      2,
                      4,
                      2,
                      4,
                      2,
                      4,
                      5,
                      4,
                      5,
                      4,
                      5,
                      4,
                      5,
                      4,
                      5,
                      4,
                      2,
                      4,
                      5,
                      4,
                      2,
                      4,
                      5,
                      4,
                      5,
                      4,
                      5,
                      4,
                      5,
                      4,
                      5,
                      4,
                      5,
                      4,
                      5,
                      4,
                      5,
                      4,
                      2,
                      4,
                      0,
                      4,
                      5,
                      2,
                      5,
                      4,
                      0,
                      2,
                      2,
                      2,
                      0,
                      2,
                      2,
                      0,
                      0,
                      0,
                      0,
                      0,
                      2,
                      0,
                      0,
                      2,
                      0,
                      0,
                      0,
                      2,
                      0,
                      0,
                      2,
                      2,
                      0,
                      0,
                      0,
                      0,
                      0,
                      2,
                      0,
                      2,
                      2,
                      0,
                      0,
                      2,
                      0,
                      0,
                      2,
                      0,
                      0,
                      2,
                      2,
                      0,
                      0,
                      2,
                      0,
                      2,
                      2,
                      2,
                      0,
                      2,
                      0,
                      2,
                      2,
                      0,
                      0,
                      2,
                      0,
                      2,
                      0,
                      0,
                      0,
                      0,
                      0,
                      2,
                      2,
                      2,
                      2,
                      2,
                      0,
                      0,
                      0,
                      0,
                      2,
                      2,
                      1,
                      1,
                      2,
                      1,
                      3,
                      1,
                      3,
                      1,
                      3,
                      1,
                      2,
                      1,
                      3,
                      1,
                      3,
                      1,
                      2,
                      1,
                      3,
                      1,
                      2,
                      1,
                      3,
                      1,
                      3,
                      1,
                      3,
                      1,
                      3,
                      1,
                      3,
                      1,
                      3,
                      1,
                      3,
                      1,
                      3,
                      1,
                      0,
                      1,
                      3,
                      1,
                      3,
                      1,
                      3,
                      1,
                      3,
                      1,
                      3,
                      1,
                      3,
                      1,
                      3,
                      1,
                      3,
                      1,
                      3,
                      1,
                      3,
                      1,
                      3,
                      1,
                      3,
                      1,
                      3,
                      1,
                      3,
                      1,
                      3,
                      1,
                      3,
                      1,
                      3,
                      1,
                      3,
                      1,
                      3,
                      1
                    ],
                    "coloraxis": "coloraxis",
                    "symbol": "circle"
                  },
                  "mode": "markers",
                  "name": "",
                  "scene": "scene",
                  "showlegend": false,
                  "type": "scatter3d",
                  "x": [
                    0.019230769230769273,
                    0.05769230769230771,
                    0.03846153846153849,
                    0.0961538461538462,
                    0.25,
                    0.07692307692307698,
                    0.326923076923077,
                    0.0961538461538462,
                    0.8846153846153847,
                    0.23076923076923084,
                    0.9423076923076924,
                    0.326923076923077,
                    0.7692307692307693,
                    0.11538461538461542,
                    0.3653846153846154,
                    0.07692307692307698,
                    0.326923076923077,
                    0.03846153846153849,
                    0.6538461538461539,
                    0.326923076923077,
                    0.326923076923077,
                    0.13461538461538464,
                    0.5384615384615385,
                    0.25,
                    0.6923076923076924,
                    0.21153846153846156,
                    0.5192307692307693,
                    0.326923076923077,
                    0.42307692307692313,
                    0.0961538461538462,
                    0.8076923076923078,
                    0.05769230769230771,
                    0.6730769230769232,
                    0,
                    0.5961538461538463,
                    0.05769230769230771,
                    0.46153846153846156,
                    0.23076923076923084,
                    0.34615384615384615,
                    0.03846153846153849,
                    0.9038461538461539,
                    0.11538461538461542,
                    0.576923076923077,
                    0.25,
                    0.5961538461538463,
                    0.11538461538461542,
                    0.6153846153846154,
                    0.17307692307692313,
                    0.21153846153846156,
                    0.25,
                    0.5961538461538463,
                    0.28846153846153855,
                    0.25,
                    0.7884615384615384,
                    0.6153846153846154,
                    0.5576923076923077,
                    0.6346153846153847,
                    0.980769230769231,
                    0.17307692307692313,
                    0.6730769230769232,
                    1,
                    0.019230769230769273,
                    0.9423076923076924,
                    0.6923076923076924,
                    0.8653846153846155,
                    0,
                    0.48076923076923084,
                    0.9615384615384616,
                    0.019230769230769273,
                    0.2692307692307693,
                    1,
                    0.5576923076923077,
                    0.8076923076923078,
                    0.8076923076923078,
                    0.7884615384615384,
                    0.15384615384615385,
                    0.5192307692307693,
                    0.42307692307692313,
                    0.0961538461538462,
                    0.5961538461538463,
                    0.7500000000000001,
                    0.3846153846153847,
                    0.9423076923076924,
                    0.5384615384615385,
                    0.05769230769230771,
                    0.576923076923077,
                    0.7115384615384616,
                    0.07692307692307698,
                    0.3076923076923077,
                    0.6153846153846154,
                    0.9615384615384616,
                    0,
                    0.576923076923077,
                    0.42307692307692313,
                    0.2692307692307693,
                    0.11538461538461542,
                    0.5576923076923077,
                    0.17307692307692313,
                    0.576923076923077,
                    0.03846153846153849,
                    0.0961538461538462,
                    0.5961538461538463,
                    0.9423076923076924,
                    0.15384615384615385,
                    0.5961538461538463,
                    0.05769230769230771,
                    0.9230769230769232,
                    0.6923076923076924,
                    0.9615384615384616,
                    0.9230769230769232,
                    0.9038461538461539,
                    0.019230769230769273,
                    0.3846153846153847,
                    0.019230769230769273,
                    0,
                    0.019230769230769273,
                    0.8653846153846155,
                    0.5961538461538463,
                    0.6346153846153847,
                    0.6153846153846154,
                    0.17307692307692313,
                    0.3846153846153847,
                    0.42307692307692313,
                    0.40384615384615385,
                    0.0961538461538462,
                    0.25,
                    0.48076923076923084,
                    0.42307692307692313,
                    0.7884615384615384,
                    0.3846153846153847,
                    0.5576923076923077,
                    0.40384615384615385,
                    0.13461538461538464,
                    0.25,
                    0.03846153846153849,
                    0.21153846153846156,
                    0.5000000000000001,
                    0.2692307692307693,
                    0.019230769230769273,
                    0.326923076923077,
                    0.7500000000000001,
                    0.2692307692307693,
                    0.1923076923076924,
                    0.2692307692307693,
                    0.13461538461538464,
                    0.1923076923076924,
                    0.576923076923077,
                    0.2692307692307693,
                    0.3076923076923077,
                    0.3076923076923077,
                    0.48076923076923084,
                    0.40384615384615385,
                    0.5000000000000001,
                    0.3846153846153847,
                    0.5576923076923077,
                    0.17307692307692313,
                    0.3653846153846154,
                    0.23076923076923084,
                    0.3076923076923077,
                    0.23076923076923084,
                    0.730769230769231,
                    0.21153846153846156,
                    0.019230769230769273,
                    0.25,
                    0.6153846153846154,
                    0.34615384615384615,
                    0.46153846153846156,
                    0.28846153846153855,
                    0.34615384615384615,
                    0.2692307692307693,
                    0.42307692307692313,
                    0.1923076923076924,
                    0.34615384615384615,
                    0.34615384615384615,
                    0.6538461538461539,
                    0.23076923076923084,
                    0.7692307692307693,
                    0.17307692307692313,
                    0.7884615384615384,
                    0.326923076923077,
                    0.3653846153846154,
                    0.2692307692307693,
                    0.5384615384615385,
                    0.21153846153846156,
                    0.4423076923076924,
                    0.23076923076923084,
                    0.6923076923076924,
                    0.1923076923076924,
                    0.4423076923076924,
                    0.34615384615384615,
                    0.3076923076923077,
                    0.2692307692307693,
                    0.28846153846153855,
                    0.3846153846153847,
                    0.5576923076923077,
                    0.326923076923077,
                    0.5192307692307693,
                    0.2692307692307693,
                    0.2692307692307693,
                    0.23076923076923084
                  ],
                  "y": [
                    0,
                    0,
                    0.008196721311475405,
                    0.008196721311475405,
                    0.016393442622950824,
                    0.016393442622950824,
                    0.024590163934426215,
                    0.024590163934426215,
                    0.032786885245901634,
                    0.032786885245901634,
                    0.032786885245901634,
                    0.032786885245901634,
                    0.04098360655737705,
                    0.04098360655737705,
                    0.04098360655737705,
                    0.04098360655737705,
                    0.049180327868852444,
                    0.049180327868852444,
                    0.06557377049180328,
                    0.06557377049180328,
                    0.07377049180327867,
                    0.07377049180327867,
                    0.08196721311475409,
                    0.08196721311475409,
                    0.10655737704918032,
                    0.10655737704918032,
                    0.10655737704918032,
                    0.10655737704918032,
                    0.11475409836065574,
                    0.11475409836065574,
                    0.12295081967213116,
                    0.12295081967213116,
                    0.14754098360655737,
                    0.14754098360655737,
                    0.14754098360655737,
                    0.14754098360655737,
                    0.1557377049180328,
                    0.1557377049180328,
                    0.180327868852459,
                    0.180327868852459,
                    0.1885245901639344,
                    0.1885245901639344,
                    0.19672131147540983,
                    0.19672131147540983,
                    0.19672131147540983,
                    0.19672131147540983,
                    0.20491803278688525,
                    0.20491803278688525,
                    0.20491803278688525,
                    0.20491803278688525,
                    0.22131147540983603,
                    0.22131147540983603,
                    0.22950819672131145,
                    0.22950819672131145,
                    0.22950819672131145,
                    0.22950819672131145,
                    0.23770491803278687,
                    0.23770491803278687,
                    0.2540983606557377,
                    0.2540983606557377,
                    0.2540983606557377,
                    0.2540983606557377,
                    0.26229508196721313,
                    0.26229508196721313,
                    0.2704918032786885,
                    0.2704918032786885,
                    0.2704918032786885,
                    0.2704918032786885,
                    0.2704918032786885,
                    0.2704918032786885,
                    0.2786885245901639,
                    0.2786885245901639,
                    0.28688524590163933,
                    0.28688524590163933,
                    0.319672131147541,
                    0.319672131147541,
                    0.319672131147541,
                    0.319672131147541,
                    0.319672131147541,
                    0.319672131147541,
                    0.319672131147541,
                    0.319672131147541,
                    0.319672131147541,
                    0.319672131147541,
                    0.319672131147541,
                    0.319672131147541,
                    0.3442622950819672,
                    0.3442622950819672,
                    0.3524590163934426,
                    0.3524590163934426,
                    0.36065573770491804,
                    0.36065573770491804,
                    0.36885245901639346,
                    0.36885245901639346,
                    0.36885245901639346,
                    0.36885245901639346,
                    0.36885245901639346,
                    0.36885245901639346,
                    0.3770491803278688,
                    0.3770491803278688,
                    0.38524590163934425,
                    0.38524590163934425,
                    0.38524590163934425,
                    0.38524590163934425,
                    0.38524590163934425,
                    0.38524590163934425,
                    0.39344262295081966,
                    0.39344262295081966,
                    0.39344262295081966,
                    0.39344262295081966,
                    0.39344262295081966,
                    0.39344262295081966,
                    0.4016393442622951,
                    0.4016393442622951,
                    0.4098360655737705,
                    0.4098360655737705,
                    0.4098360655737705,
                    0.4098360655737705,
                    0.42622950819672134,
                    0.42622950819672134,
                    0.42622950819672134,
                    0.42622950819672134,
                    0.4426229508196722,
                    0.4426229508196722,
                    0.4508196721311476,
                    0.4508196721311476,
                    0.4590163934426229,
                    0.4590163934426229,
                    0.4590163934426229,
                    0.4590163934426229,
                    0.4590163934426229,
                    0.4590163934426229,
                    0.4672131147540983,
                    0.4672131147540983,
                    0.47540983606557374,
                    0.47540983606557374,
                    0.47540983606557374,
                    0.47540983606557374,
                    0.48360655737704916,
                    0.48360655737704916,
                    0.4918032786885246,
                    0.4918032786885246,
                    0.5,
                    0.5,
                    0.5081967213114754,
                    0.5081967213114754,
                    0.5081967213114754,
                    0.5081967213114754,
                    0.5163934426229508,
                    0.5163934426229508,
                    0.5163934426229508,
                    0.5163934426229508,
                    0.5163934426229508,
                    0.5163934426229508,
                    0.5163934426229508,
                    0.5163934426229508,
                    0.5163934426229508,
                    0.5163934426229508,
                    0.5163934426229508,
                    0.5163934426229508,
                    0.5245901639344263,
                    0.5245901639344263,
                    0.5409836065573771,
                    0.5409836065573771,
                    0.5737704918032787,
                    0.5737704918032787,
                    0.5819672131147541,
                    0.5819672131147541,
                    0.5901639344262295,
                    0.5901639344262295,
                    0.5901639344262295,
                    0.5901639344262295,
                    0.5901639344262295,
                    0.5901639344262295,
                    0.5983606557377049,
                    0.5983606557377049,
                    0.5983606557377049,
                    0.5983606557377049,
                    0.639344262295082,
                    0.639344262295082,
                    0.6721311475409836,
                    0.6721311475409836,
                    0.680327868852459,
                    0.680327868852459,
                    0.6885245901639344,
                    0.6885245901639344,
                    0.7049180327868853,
                    0.7049180327868853,
                    0.7213114754098361,
                    0.7213114754098361,
                    0.7213114754098361,
                    0.7213114754098361,
                    0.8032786885245902,
                    0.8032786885245902,
                    0.8606557377049181,
                    0.8606557377049181,
                    0.9098360655737705,
                    0.9098360655737705,
                    1,
                    1
                  ],
                  "z": [
                    0.38775510204081626,
                    0.8163265306122448,
                    0.05102040816326531,
                    0.7755102040816326,
                    0.39795918367346933,
                    0.7653061224489796,
                    0.05102040816326531,
                    0.9489795918367346,
                    0.020408163265306124,
                    0.7244897959183673,
                    0.13265306122448978,
                    0.9999999999999999,
                    0.14285714285714282,
                    0.7755102040816326,
                    0.12244897959183672,
                    0.7959183673469387,
                    0.346938775510204,
                    0.6632653061224489,
                    0.2857142857142857,
                    0.9897959183673468,
                    0.346938775510204,
                    0.7346938775510203,
                    0.04081632653061224,
                    0.7346938775510203,
                    0.13265306122448978,
                    0.8265306122448979,
                    0.31632653061224486,
                    0.6122448979591836,
                    0.3061224489795918,
                    0.8775510204081631,
                    0.030612244897959183,
                    0.7346938775510203,
                    0.030612244897959183,
                    0.9285714285714285,
                    0.13265306122448978,
                    0.8163265306122448,
                    0.16326530612244897,
                    0.7346938775510203,
                    0.2551020408163265,
                    0.7551020408163265,
                    0.346938775510204,
                    0.9285714285714285,
                    0.3571428571428571,
                    0.6122448979591836,
                    0.2755102040816326,
                    0.6530612244897959,
                    0.5510204081632653,
                    0.4693877551020408,
                    0.4183673469387755,
                    0.4183673469387755,
                    0.520408163265306,
                    0.6020408163265305,
                    0.5408163265306122,
                    0.6020408163265305,
                    0.44897959183673464,
                    0.4081632653061224,
                    0.5,
                    0.4591836734693877,
                    0.510204081632653,
                    0.4591836734693877,
                    0.5612244897959183,
                    0.5510204081632653,
                    0.520408163265306,
                    0.5918367346938775,
                    0.510204081632653,
                    0.5918367346938775,
                    0.5,
                    0.47959183673469385,
                    0.5918367346938775,
                    0.4693877551020408,
                    0.5510204081632653,
                    0.4183673469387755,
                    0.48979591836734687,
                    0.5612244897959183,
                    0.4693877551020408,
                    0.5408163265306122,
                    0.5306122448979591,
                    0.47959183673469385,
                    0.520408163265306,
                    0.4183673469387755,
                    0.510204081632653,
                    0.5510204081632653,
                    0.4081632653061224,
                    0.43877551020408156,
                    0.5714285714285714,
                    0.4591836734693877,
                    0.5816326530612245,
                    0.5510204081632653,
                    0.6020408163265305,
                    0.4591836734693877,
                    0.5510204081632653,
                    0.4081632653061224,
                    0.48979591836734687,
                    0.39795918367346933,
                    0.4183673469387755,
                    0.520408163265306,
                    0.4693877551020408,
                    0.5,
                    0.4183673469387755,
                    0.48979591836734687,
                    0.4081632653061224,
                    0.47959183673469385,
                    0.5918367346938775,
                    0.5510204081632653,
                    0.5612244897959183,
                    0.4183673469387755,
                    0.5,
                    0.4591836734693877,
                    0.42857142857142855,
                    0.47959183673469385,
                    0.520408163265306,
                    0.5408163265306122,
                    0.4183673469387755,
                    0.4591836734693877,
                    0.47959183673469385,
                    0.5,
                    0.42857142857142855,
                    0.5918367346938775,
                    0.42857142857142855,
                    0.5714285714285714,
                    0.5612244897959183,
                    0.39795918367346933,
                    0.5816326530612245,
                    0.9183673469387754,
                    0.2857142857142857,
                    0.7755102040816326,
                    0.346938775510204,
                    0.9591836734693877,
                    0.1020408163265306,
                    0.7551020408163265,
                    0.08163265306122448,
                    0.7551020408163265,
                    0.336734693877551,
                    0.7142857142857142,
                    0.04081632653061224,
                    0.8877551020408162,
                    0.061224489795918366,
                    0.7346938775510203,
                    0.09183673469387754,
                    0.7244897959183673,
                    0.04081632653061224,
                    0.9387755102040816,
                    0.39795918367346933,
                    0.8775510204081631,
                    0.11224489795918367,
                    0.9795918367346937,
                    0.3571428571428571,
                    0.7448979591836734,
                    0.21428571428571425,
                    0.9081632653061223,
                    0.16326530612244897,
                    0.8877551020408162,
                    0.19387755102040813,
                    0.7653061224489796,
                    0.1530612244897959,
                    0.8979591836734693,
                    0,
                    0.7857142857142856,
                    0,
                    0.7346938775510203,
                    0.346938775510204,
                    0.836734693877551,
                    0.04081632653061224,
                    0.9387755102040816,
                    0.2551020408163265,
                    0.7551020408163265,
                    0.19387755102040813,
                    0.9591836734693877,
                    0.26530612244897955,
                    0.6326530612244897,
                    0.12244897959183672,
                    0.7551020408163265,
                    0.09183673469387754,
                    0.9285714285714285,
                    0.12244897959183672,
                    0.8673469387755102,
                    0.14285714285714282,
                    0.693877551020408,
                    0.13265306122448978,
                    0.9081632653061223,
                    0.31632653061224486,
                    0.8673469387755102,
                    0.14285714285714282,
                    0.8877551020408162,
                    0.38775510204081626,
                    0.9795918367346937,
                    0.2346938775510204,
                    0.6836734693877551,
                    0.16326530612244897,
                    0.8571428571428571,
                    0.22448979591836732,
                    0.693877551020408,
                    0.07142857142857142,
                    0.9183673469387754,
                    0.1530612244897959,
                    0.7959183673469387,
                    0.2755102040816326,
                    0.7448979591836734,
                    0.173469387755102,
                    0.836734693877551
                  ]
                }
              ],
              "layout": {
                "coloraxis": {
                  "colorbar": {
                    "title": {
                      "text": "Cluster"
                    }
                  },
                  "colorscale": [
                    [
                      0,
                      "#0d0887"
                    ],
                    [
                      0.1111111111111111,
                      "#46039f"
                    ],
                    [
                      0.2222222222222222,
                      "#7201a8"
                    ],
                    [
                      0.3333333333333333,
                      "#9c179e"
                    ],
                    [
                      0.4444444444444444,
                      "#bd3786"
                    ],
                    [
                      0.5555555555555556,
                      "#d8576b"
                    ],
                    [
                      0.6666666666666666,
                      "#ed7953"
                    ],
                    [
                      0.7777777777777778,
                      "#fb9f3a"
                    ],
                    [
                      0.8888888888888888,
                      "#fdca26"
                    ],
                    [
                      1,
                      "#f0f921"
                    ]
                  ]
                },
                "legend": {
                  "tracegroupgap": 0
                },
                "margin": {
                  "t": 60
                },
                "scene": {
                  "domain": {
                    "x": [
                      0,
                      1
                    ],
                    "y": [
                      0,
                      1
                    ]
                  },
                  "xaxis": {
                    "title": {
                      "text": "Age"
                    }
                  },
                  "yaxis": {
                    "title": {
                      "text": "Annual Income (k$)"
                    }
                  },
                  "zaxis": {
                    "title": {
                      "text": "Spending Score (1-100)"
                    }
                  }
                },
                "template": {
                  "data": {
                    "bar": [
                      {
                        "error_x": {
                          "color": "#2a3f5f"
                        },
                        "error_y": {
                          "color": "#2a3f5f"
                        },
                        "marker": {
                          "line": {
                            "color": "#E5ECF6",
                            "width": 0.5
                          },
                          "pattern": {
                            "fillmode": "overlay",
                            "size": 10,
                            "solidity": 0.2
                          }
                        },
                        "type": "bar"
                      }
                    ],
                    "barpolar": [
                      {
                        "marker": {
                          "line": {
                            "color": "#E5ECF6",
                            "width": 0.5
                          },
                          "pattern": {
                            "fillmode": "overlay",
                            "size": 10,
                            "solidity": 0.2
                          }
                        },
                        "type": "barpolar"
                      }
                    ],
                    "carpet": [
                      {
                        "aaxis": {
                          "endlinecolor": "#2a3f5f",
                          "gridcolor": "white",
                          "linecolor": "white",
                          "minorgridcolor": "white",
                          "startlinecolor": "#2a3f5f"
                        },
                        "baxis": {
                          "endlinecolor": "#2a3f5f",
                          "gridcolor": "white",
                          "linecolor": "white",
                          "minorgridcolor": "white",
                          "startlinecolor": "#2a3f5f"
                        },
                        "type": "carpet"
                      }
                    ],
                    "choropleth": [
                      {
                        "colorbar": {
                          "outlinewidth": 0,
                          "ticks": ""
                        },
                        "type": "choropleth"
                      }
                    ],
                    "contour": [
                      {
                        "colorbar": {
                          "outlinewidth": 0,
                          "ticks": ""
                        },
                        "colorscale": [
                          [
                            0,
                            "#0d0887"
                          ],
                          [
                            0.1111111111111111,
                            "#46039f"
                          ],
                          [
                            0.2222222222222222,
                            "#7201a8"
                          ],
                          [
                            0.3333333333333333,
                            "#9c179e"
                          ],
                          [
                            0.4444444444444444,
                            "#bd3786"
                          ],
                          [
                            0.5555555555555556,
                            "#d8576b"
                          ],
                          [
                            0.6666666666666666,
                            "#ed7953"
                          ],
                          [
                            0.7777777777777778,
                            "#fb9f3a"
                          ],
                          [
                            0.8888888888888888,
                            "#fdca26"
                          ],
                          [
                            1,
                            "#f0f921"
                          ]
                        ],
                        "type": "contour"
                      }
                    ],
                    "contourcarpet": [
                      {
                        "colorbar": {
                          "outlinewidth": 0,
                          "ticks": ""
                        },
                        "type": "contourcarpet"
                      }
                    ],
                    "heatmap": [
                      {
                        "colorbar": {
                          "outlinewidth": 0,
                          "ticks": ""
                        },
                        "colorscale": [
                          [
                            0,
                            "#0d0887"
                          ],
                          [
                            0.1111111111111111,
                            "#46039f"
                          ],
                          [
                            0.2222222222222222,
                            "#7201a8"
                          ],
                          [
                            0.3333333333333333,
                            "#9c179e"
                          ],
                          [
                            0.4444444444444444,
                            "#bd3786"
                          ],
                          [
                            0.5555555555555556,
                            "#d8576b"
                          ],
                          [
                            0.6666666666666666,
                            "#ed7953"
                          ],
                          [
                            0.7777777777777778,
                            "#fb9f3a"
                          ],
                          [
                            0.8888888888888888,
                            "#fdca26"
                          ],
                          [
                            1,
                            "#f0f921"
                          ]
                        ],
                        "type": "heatmap"
                      }
                    ],
                    "heatmapgl": [
                      {
                        "colorbar": {
                          "outlinewidth": 0,
                          "ticks": ""
                        },
                        "colorscale": [
                          [
                            0,
                            "#0d0887"
                          ],
                          [
                            0.1111111111111111,
                            "#46039f"
                          ],
                          [
                            0.2222222222222222,
                            "#7201a8"
                          ],
                          [
                            0.3333333333333333,
                            "#9c179e"
                          ],
                          [
                            0.4444444444444444,
                            "#bd3786"
                          ],
                          [
                            0.5555555555555556,
                            "#d8576b"
                          ],
                          [
                            0.6666666666666666,
                            "#ed7953"
                          ],
                          [
                            0.7777777777777778,
                            "#fb9f3a"
                          ],
                          [
                            0.8888888888888888,
                            "#fdca26"
                          ],
                          [
                            1,
                            "#f0f921"
                          ]
                        ],
                        "type": "heatmapgl"
                      }
                    ],
                    "histogram": [
                      {
                        "marker": {
                          "pattern": {
                            "fillmode": "overlay",
                            "size": 10,
                            "solidity": 0.2
                          }
                        },
                        "type": "histogram"
                      }
                    ],
                    "histogram2d": [
                      {
                        "colorbar": {
                          "outlinewidth": 0,
                          "ticks": ""
                        },
                        "colorscale": [
                          [
                            0,
                            "#0d0887"
                          ],
                          [
                            0.1111111111111111,
                            "#46039f"
                          ],
                          [
                            0.2222222222222222,
                            "#7201a8"
                          ],
                          [
                            0.3333333333333333,
                            "#9c179e"
                          ],
                          [
                            0.4444444444444444,
                            "#bd3786"
                          ],
                          [
                            0.5555555555555556,
                            "#d8576b"
                          ],
                          [
                            0.6666666666666666,
                            "#ed7953"
                          ],
                          [
                            0.7777777777777778,
                            "#fb9f3a"
                          ],
                          [
                            0.8888888888888888,
                            "#fdca26"
                          ],
                          [
                            1,
                            "#f0f921"
                          ]
                        ],
                        "type": "histogram2d"
                      }
                    ],
                    "histogram2dcontour": [
                      {
                        "colorbar": {
                          "outlinewidth": 0,
                          "ticks": ""
                        },
                        "colorscale": [
                          [
                            0,
                            "#0d0887"
                          ],
                          [
                            0.1111111111111111,
                            "#46039f"
                          ],
                          [
                            0.2222222222222222,
                            "#7201a8"
                          ],
                          [
                            0.3333333333333333,
                            "#9c179e"
                          ],
                          [
                            0.4444444444444444,
                            "#bd3786"
                          ],
                          [
                            0.5555555555555556,
                            "#d8576b"
                          ],
                          [
                            0.6666666666666666,
                            "#ed7953"
                          ],
                          [
                            0.7777777777777778,
                            "#fb9f3a"
                          ],
                          [
                            0.8888888888888888,
                            "#fdca26"
                          ],
                          [
                            1,
                            "#f0f921"
                          ]
                        ],
                        "type": "histogram2dcontour"
                      }
                    ],
                    "mesh3d": [
                      {
                        "colorbar": {
                          "outlinewidth": 0,
                          "ticks": ""
                        },
                        "type": "mesh3d"
                      }
                    ],
                    "parcoords": [
                      {
                        "line": {
                          "colorbar": {
                            "outlinewidth": 0,
                            "ticks": ""
                          }
                        },
                        "type": "parcoords"
                      }
                    ],
                    "pie": [
                      {
                        "automargin": true,
                        "type": "pie"
                      }
                    ],
                    "scatter": [
                      {
                        "fillpattern": {
                          "fillmode": "overlay",
                          "size": 10,
                          "solidity": 0.2
                        },
                        "type": "scatter"
                      }
                    ],
                    "scatter3d": [
                      {
                        "line": {
                          "colorbar": {
                            "outlinewidth": 0,
                            "ticks": ""
                          }
                        },
                        "marker": {
                          "colorbar": {
                            "outlinewidth": 0,
                            "ticks": ""
                          }
                        },
                        "type": "scatter3d"
                      }
                    ],
                    "scattercarpet": [
                      {
                        "marker": {
                          "colorbar": {
                            "outlinewidth": 0,
                            "ticks": ""
                          }
                        },
                        "type": "scattercarpet"
                      }
                    ],
                    "scattergeo": [
                      {
                        "marker": {
                          "colorbar": {
                            "outlinewidth": 0,
                            "ticks": ""
                          }
                        },
                        "type": "scattergeo"
                      }
                    ],
                    "scattergl": [
                      {
                        "marker": {
                          "colorbar": {
                            "outlinewidth": 0,
                            "ticks": ""
                          }
                        },
                        "type": "scattergl"
                      }
                    ],
                    "scattermapbox": [
                      {
                        "marker": {
                          "colorbar": {
                            "outlinewidth": 0,
                            "ticks": ""
                          }
                        },
                        "type": "scattermapbox"
                      }
                    ],
                    "scatterpolar": [
                      {
                        "marker": {
                          "colorbar": {
                            "outlinewidth": 0,
                            "ticks": ""
                          }
                        },
                        "type": "scatterpolar"
                      }
                    ],
                    "scatterpolargl": [
                      {
                        "marker": {
                          "colorbar": {
                            "outlinewidth": 0,
                            "ticks": ""
                          }
                        },
                        "type": "scatterpolargl"
                      }
                    ],
                    "scatterternary": [
                      {
                        "marker": {
                          "colorbar": {
                            "outlinewidth": 0,
                            "ticks": ""
                          }
                        },
                        "type": "scatterternary"
                      }
                    ],
                    "surface": [
                      {
                        "colorbar": {
                          "outlinewidth": 0,
                          "ticks": ""
                        },
                        "colorscale": [
                          [
                            0,
                            "#0d0887"
                          ],
                          [
                            0.1111111111111111,
                            "#46039f"
                          ],
                          [
                            0.2222222222222222,
                            "#7201a8"
                          ],
                          [
                            0.3333333333333333,
                            "#9c179e"
                          ],
                          [
                            0.4444444444444444,
                            "#bd3786"
                          ],
                          [
                            0.5555555555555556,
                            "#d8576b"
                          ],
                          [
                            0.6666666666666666,
                            "#ed7953"
                          ],
                          [
                            0.7777777777777778,
                            "#fb9f3a"
                          ],
                          [
                            0.8888888888888888,
                            "#fdca26"
                          ],
                          [
                            1,
                            "#f0f921"
                          ]
                        ],
                        "type": "surface"
                      }
                    ],
                    "table": [
                      {
                        "cells": {
                          "fill": {
                            "color": "#EBF0F8"
                          },
                          "line": {
                            "color": "white"
                          }
                        },
                        "header": {
                          "fill": {
                            "color": "#C8D4E3"
                          },
                          "line": {
                            "color": "white"
                          }
                        },
                        "type": "table"
                      }
                    ]
                  },
                  "layout": {
                    "annotationdefaults": {
                      "arrowcolor": "#2a3f5f",
                      "arrowhead": 0,
                      "arrowwidth": 1
                    },
                    "autotypenumbers": "strict",
                    "coloraxis": {
                      "colorbar": {
                        "outlinewidth": 0,
                        "ticks": ""
                      }
                    },
                    "colorscale": {
                      "diverging": [
                        [
                          0,
                          "#8e0152"
                        ],
                        [
                          0.1,
                          "#c51b7d"
                        ],
                        [
                          0.2,
                          "#de77ae"
                        ],
                        [
                          0.3,
                          "#f1b6da"
                        ],
                        [
                          0.4,
                          "#fde0ef"
                        ],
                        [
                          0.5,
                          "#f7f7f7"
                        ],
                        [
                          0.6,
                          "#e6f5d0"
                        ],
                        [
                          0.7,
                          "#b8e186"
                        ],
                        [
                          0.8,
                          "#7fbc41"
                        ],
                        [
                          0.9,
                          "#4d9221"
                        ],
                        [
                          1,
                          "#276419"
                        ]
                      ],
                      "sequential": [
                        [
                          0,
                          "#0d0887"
                        ],
                        [
                          0.1111111111111111,
                          "#46039f"
                        ],
                        [
                          0.2222222222222222,
                          "#7201a8"
                        ],
                        [
                          0.3333333333333333,
                          "#9c179e"
                        ],
                        [
                          0.4444444444444444,
                          "#bd3786"
                        ],
                        [
                          0.5555555555555556,
                          "#d8576b"
                        ],
                        [
                          0.6666666666666666,
                          "#ed7953"
                        ],
                        [
                          0.7777777777777778,
                          "#fb9f3a"
                        ],
                        [
                          0.8888888888888888,
                          "#fdca26"
                        ],
                        [
                          1,
                          "#f0f921"
                        ]
                      ],
                      "sequentialminus": [
                        [
                          0,
                          "#0d0887"
                        ],
                        [
                          0.1111111111111111,
                          "#46039f"
                        ],
                        [
                          0.2222222222222222,
                          "#7201a8"
                        ],
                        [
                          0.3333333333333333,
                          "#9c179e"
                        ],
                        [
                          0.4444444444444444,
                          "#bd3786"
                        ],
                        [
                          0.5555555555555556,
                          "#d8576b"
                        ],
                        [
                          0.6666666666666666,
                          "#ed7953"
                        ],
                        [
                          0.7777777777777778,
                          "#fb9f3a"
                        ],
                        [
                          0.8888888888888888,
                          "#fdca26"
                        ],
                        [
                          1,
                          "#f0f921"
                        ]
                      ]
                    },
                    "colorway": [
                      "#636efa",
                      "#EF553B",
                      "#00cc96",
                      "#ab63fa",
                      "#FFA15A",
                      "#19d3f3",
                      "#FF6692",
                      "#B6E880",
                      "#FF97FF",
                      "#FECB52"
                    ],
                    "font": {
                      "color": "#2a3f5f"
                    },
                    "geo": {
                      "bgcolor": "white",
                      "lakecolor": "white",
                      "landcolor": "#E5ECF6",
                      "showlakes": true,
                      "showland": true,
                      "subunitcolor": "white"
                    },
                    "hoverlabel": {
                      "align": "left"
                    },
                    "hovermode": "closest",
                    "mapbox": {
                      "style": "light"
                    },
                    "paper_bgcolor": "white",
                    "plot_bgcolor": "#E5ECF6",
                    "polar": {
                      "angularaxis": {
                        "gridcolor": "white",
                        "linecolor": "white",
                        "ticks": ""
                      },
                      "bgcolor": "#E5ECF6",
                      "radialaxis": {
                        "gridcolor": "white",
                        "linecolor": "white",
                        "ticks": ""
                      }
                    },
                    "scene": {
                      "xaxis": {
                        "backgroundcolor": "#E5ECF6",
                        "gridcolor": "white",
                        "gridwidth": 2,
                        "linecolor": "white",
                        "showbackground": true,
                        "ticks": "",
                        "zerolinecolor": "white"
                      },
                      "yaxis": {
                        "backgroundcolor": "#E5ECF6",
                        "gridcolor": "white",
                        "gridwidth": 2,
                        "linecolor": "white",
                        "showbackground": true,
                        "ticks": "",
                        "zerolinecolor": "white"
                      },
                      "zaxis": {
                        "backgroundcolor": "#E5ECF6",
                        "gridcolor": "white",
                        "gridwidth": 2,
                        "linecolor": "white",
                        "showbackground": true,
                        "ticks": "",
                        "zerolinecolor": "white"
                      }
                    },
                    "shapedefaults": {
                      "line": {
                        "color": "#2a3f5f"
                      }
                    },
                    "ternary": {
                      "aaxis": {
                        "gridcolor": "white",
                        "linecolor": "white",
                        "ticks": ""
                      },
                      "baxis": {
                        "gridcolor": "white",
                        "linecolor": "white",
                        "ticks": ""
                      },
                      "bgcolor": "#E5ECF6",
                      "caxis": {
                        "gridcolor": "white",
                        "linecolor": "white",
                        "ticks": ""
                      }
                    },
                    "title": {
                      "x": 0.05
                    },
                    "xaxis": {
                      "automargin": true,
                      "gridcolor": "white",
                      "linecolor": "white",
                      "ticks": "",
                      "title": {
                        "standoff": 15
                      },
                      "zerolinecolor": "white",
                      "zerolinewidth": 2
                    },
                    "yaxis": {
                      "automargin": true,
                      "gridcolor": "white",
                      "linecolor": "white",
                      "ticks": "",
                      "title": {
                        "standoff": 15
                      },
                      "zerolinecolor": "white",
                      "zerolinewidth": 2
                    }
                  }
                }
              }
            }
          },
          "metadata": {},
          "output_type": "display_data"
        }
      ],
      "source": [
        "import seaborn as sns\n",
        "\n",
        "# Visualize the clusters\n",
        "#2D using Income and Score\n",
        "plt.figure(figsize=(8, 6))\n",
        "sns.scatterplot(x=mall['Annual Income (k$)'], y=mall['Spending Score (1-100)'],\n",
        "                hue=mall['Cluster'], palette='Set1', s=100, legend='full')\n",
        "plt.title('Clusters of Customers')\n",
        "plt.xlabel('Annual Income (k$)')\n",
        "plt.ylabel('Spending Score (1-100)')\n",
        "plt.show()\n",
        "\n",
        "#2D using Age and Income\n",
        "plt.figure(figsize=(8, 6))\n",
        "sns.scatterplot(x=mall['Age'], y=mall['Annual Income (k$)'],\n",
        "                hue=mall['Cluster'], palette='Set1', s=100, legend='full')\n",
        "plt.title('Clusters of Customers')\n",
        "plt.xlabel('Age')\n",
        "plt.ylabel('Spending Score (1-100)')\n",
        "plt.show()\n",
        "\n",
        "#3D plot\n",
        "import plotly.express as px\n",
        "fig = px.scatter_3d(mall, x='Age', y='Annual Income (k$)', z='Spending Score (1-100)',\n",
        "              color='Cluster')\n",
        "fig.show()"
      ]
    },
    {
      "cell_type": "markdown",
      "metadata": {
        "id": "ZQZjKQbKN5HA"
      },
      "source": [
        " **How many clusters were optimal? Explain using the elbow plot.\n",
        "Do you have an idea of what each cluster represents in terms of customer segmentation?\n",
        "Describe the spending behavior of customers in each cluster (high income/high spending, low income/low spending, etc.).**"
      ]
    },
    {
      "cell_type": "markdown",
      "metadata": {},
      "source": [
        "In our case, the elbow was observed at k = 6, meaning that dividing the dataset into 6 clusters achieves a good balance between cluster compactness and model simplicity. After 6 clusters, the decrease in inertia is minimal. This is determined using elbow method.\n",
        "\n",
        "Follow we do a representation of each cluster in terms of customer segmentation:\n",
        "\n",
        "For cluster 0 and 2 we see that are customers with average Income and average Spending score. This is likely the middle-class customers groups, with balanced spending habits relative to their earnings. But the difference between this clusters are the age, where cluster 2 are old customers and cluster 0 are mainly young customers. For that cluster 0 have some low average Income and Spending score .\n",
        "\n",
        "For cluster 1 we see that are customers with high Income and high Spending score too. This group likely represents wealthy customers who are willing and able to spend heavily. They may be attracted to luxury goods, making them a valuable target for expensive products and services.\n",
        "\n",
        "For cluster 3 we see that are customers with high Income and low Spending. These customers earn a high annual income but have a relatively low spending score. This group may include individuals who are financially capable but cautious or selective in their spending.\n",
        "\n",
        "For cluster 4 we see that are customers with low Income but high Spending score. This group we see are young customers who don't earn much but are frequent shoppers.\n",
        "\n",
        "For cluster 5 we see that are customers with low Income and low Spending. These customers have limited financial resources and thus exhibit conservative spending behavior. They are less likely to make purchases."
      ]
    },
    {
      "cell_type": "markdown",
      "metadata": {
        "id": "SRO_JVi2qeEK"
      },
      "source": [
        "# Agglomerative clustering\n",
        "\n",
        "Using sklearn.cluster, fit an agglomerative clustering model to the scaled data."
      ]
    },
    {
      "cell_type": "code",
      "execution_count": 9,
      "metadata": {
        "id": "-epFJr4AtZW3"
      },
      "outputs": [],
      "source": [
        "from sklearn.cluster import AgglomerativeClustering\n",
        "# Fit Agglomerative Clustering\n",
        "agg_clustering = AgglomerativeClustering(n_clusters=5, metric='euclidean', linkage='ward')\n",
        "mall['ClusterAgg'] = agg_clustering.fit_predict(X)"
      ]
    },
    {
      "cell_type": "markdown",
      "metadata": {
        "id": "jcGXIk67uexY"
      },
      "source": [
        "Visualise the clustering in 3D. **Is it much different than the clustering obtained with k-means? Describe the demographics of each cluster.**"
      ]
    },
    {
      "cell_type": "code",
      "execution_count": 10,
      "metadata": {
        "id": "dew-RUlPvIKB"
      },
      "outputs": [
        {
          "data": {
            "application/vnd.plotly.v1+json": {
              "config": {
                "plotlyServerURL": "https://plot.ly"
              },
              "data": [
                {
                  "hovertemplate": "Age=%{x}<br>Annual Income (k$)=%{y}<br>Spending Score (1-100)=%{z}<br>ClusterAgg=%{marker.color}<extra></extra>",
                  "legendgroup": "",
                  "marker": {
                    "color": [
                      1,
                      4,
                      1,
                      4,
                      1,
                      4,
                      1,
                      4,
                      0,
                      4,
                      0,
                      4,
                      0,
                      4,
                      1,
                      4,
                      1,
                      4,
                      0,
                      4,
                      1,
                      4,
                      0,
                      4,
                      0,
                      4,
                      1,
                      1,
                      1,
                      4,
                      0,
                      4,
                      0,
                      4,
                      0,
                      4,
                      1,
                      4,
                      1,
                      4,
                      0,
                      4,
                      0,
                      1,
                      0,
                      4,
                      0,
                      1,
                      1,
                      1,
                      0,
                      1,
                      1,
                      0,
                      0,
                      0,
                      0,
                      0,
                      1,
                      0,
                      0,
                      1,
                      0,
                      0,
                      0,
                      1,
                      1,
                      0,
                      1,
                      1,
                      0,
                      0,
                      0,
                      0,
                      0,
                      1,
                      1,
                      1,
                      1,
                      0,
                      0,
                      1,
                      0,
                      0,
                      1,
                      0,
                      0,
                      1,
                      1,
                      0,
                      0,
                      1,
                      0,
                      1,
                      1,
                      1,
                      0,
                      1,
                      0,
                      1,
                      1,
                      0,
                      0,
                      1,
                      0,
                      1,
                      0,
                      0,
                      0,
                      0,
                      0,
                      1,
                      1,
                      1,
                      1,
                      1,
                      0,
                      0,
                      0,
                      0,
                      1,
                      1,
                      1,
                      2,
                      1,
                      2,
                      0,
                      2,
                      3,
                      2,
                      3,
                      2,
                      1,
                      2,
                      1,
                      2,
                      3,
                      2,
                      1,
                      2,
                      3,
                      2,
                      1,
                      2,
                      1,
                      2,
                      0,
                      2,
                      3,
                      2,
                      3,
                      2,
                      3,
                      2,
                      3,
                      2,
                      3,
                      2,
                      3,
                      2,
                      0,
                      2,
                      1,
                      2,
                      3,
                      2,
                      3,
                      2,
                      3,
                      2,
                      3,
                      2,
                      3,
                      2,
                      3,
                      2,
                      3,
                      2,
                      3,
                      2,
                      3,
                      2,
                      3,
                      2,
                      3,
                      2,
                      3,
                      2,
                      3,
                      2,
                      3,
                      2,
                      3,
                      2,
                      3,
                      2,
                      3,
                      2,
                      3,
                      2
                    ],
                    "coloraxis": "coloraxis",
                    "symbol": "circle"
                  },
                  "mode": "markers",
                  "name": "",
                  "scene": "scene",
                  "showlegend": false,
                  "type": "scatter3d",
                  "x": [
                    0.019230769230769273,
                    0.05769230769230771,
                    0.03846153846153849,
                    0.0961538461538462,
                    0.25,
                    0.07692307692307698,
                    0.326923076923077,
                    0.0961538461538462,
                    0.8846153846153847,
                    0.23076923076923084,
                    0.9423076923076924,
                    0.326923076923077,
                    0.7692307692307693,
                    0.11538461538461542,
                    0.3653846153846154,
                    0.07692307692307698,
                    0.326923076923077,
                    0.03846153846153849,
                    0.6538461538461539,
                    0.326923076923077,
                    0.326923076923077,
                    0.13461538461538464,
                    0.5384615384615385,
                    0.25,
                    0.6923076923076924,
                    0.21153846153846156,
                    0.5192307692307693,
                    0.326923076923077,
                    0.42307692307692313,
                    0.0961538461538462,
                    0.8076923076923078,
                    0.05769230769230771,
                    0.6730769230769232,
                    0,
                    0.5961538461538463,
                    0.05769230769230771,
                    0.46153846153846156,
                    0.23076923076923084,
                    0.34615384615384615,
                    0.03846153846153849,
                    0.9038461538461539,
                    0.11538461538461542,
                    0.576923076923077,
                    0.25,
                    0.5961538461538463,
                    0.11538461538461542,
                    0.6153846153846154,
                    0.17307692307692313,
                    0.21153846153846156,
                    0.25,
                    0.5961538461538463,
                    0.28846153846153855,
                    0.25,
                    0.7884615384615384,
                    0.6153846153846154,
                    0.5576923076923077,
                    0.6346153846153847,
                    0.980769230769231,
                    0.17307692307692313,
                    0.6730769230769232,
                    1,
                    0.019230769230769273,
                    0.9423076923076924,
                    0.6923076923076924,
                    0.8653846153846155,
                    0,
                    0.48076923076923084,
                    0.9615384615384616,
                    0.019230769230769273,
                    0.2692307692307693,
                    1,
                    0.5576923076923077,
                    0.8076923076923078,
                    0.8076923076923078,
                    0.7884615384615384,
                    0.15384615384615385,
                    0.5192307692307693,
                    0.42307692307692313,
                    0.0961538461538462,
                    0.5961538461538463,
                    0.7500000000000001,
                    0.3846153846153847,
                    0.9423076923076924,
                    0.5384615384615385,
                    0.05769230769230771,
                    0.576923076923077,
                    0.7115384615384616,
                    0.07692307692307698,
                    0.3076923076923077,
                    0.6153846153846154,
                    0.9615384615384616,
                    0,
                    0.576923076923077,
                    0.42307692307692313,
                    0.2692307692307693,
                    0.11538461538461542,
                    0.5576923076923077,
                    0.17307692307692313,
                    0.576923076923077,
                    0.03846153846153849,
                    0.0961538461538462,
                    0.5961538461538463,
                    0.9423076923076924,
                    0.15384615384615385,
                    0.5961538461538463,
                    0.05769230769230771,
                    0.9230769230769232,
                    0.6923076923076924,
                    0.9615384615384616,
                    0.9230769230769232,
                    0.9038461538461539,
                    0.019230769230769273,
                    0.3846153846153847,
                    0.019230769230769273,
                    0,
                    0.019230769230769273,
                    0.8653846153846155,
                    0.5961538461538463,
                    0.6346153846153847,
                    0.6153846153846154,
                    0.17307692307692313,
                    0.3846153846153847,
                    0.42307692307692313,
                    0.40384615384615385,
                    0.0961538461538462,
                    0.25,
                    0.48076923076923084,
                    0.42307692307692313,
                    0.7884615384615384,
                    0.3846153846153847,
                    0.5576923076923077,
                    0.40384615384615385,
                    0.13461538461538464,
                    0.25,
                    0.03846153846153849,
                    0.21153846153846156,
                    0.5000000000000001,
                    0.2692307692307693,
                    0.019230769230769273,
                    0.326923076923077,
                    0.7500000000000001,
                    0.2692307692307693,
                    0.1923076923076924,
                    0.2692307692307693,
                    0.13461538461538464,
                    0.1923076923076924,
                    0.576923076923077,
                    0.2692307692307693,
                    0.3076923076923077,
                    0.3076923076923077,
                    0.48076923076923084,
                    0.40384615384615385,
                    0.5000000000000001,
                    0.3846153846153847,
                    0.5576923076923077,
                    0.17307692307692313,
                    0.3653846153846154,
                    0.23076923076923084,
                    0.3076923076923077,
                    0.23076923076923084,
                    0.730769230769231,
                    0.21153846153846156,
                    0.019230769230769273,
                    0.25,
                    0.6153846153846154,
                    0.34615384615384615,
                    0.46153846153846156,
                    0.28846153846153855,
                    0.34615384615384615,
                    0.2692307692307693,
                    0.42307692307692313,
                    0.1923076923076924,
                    0.34615384615384615,
                    0.34615384615384615,
                    0.6538461538461539,
                    0.23076923076923084,
                    0.7692307692307693,
                    0.17307692307692313,
                    0.7884615384615384,
                    0.326923076923077,
                    0.3653846153846154,
                    0.2692307692307693,
                    0.5384615384615385,
                    0.21153846153846156,
                    0.4423076923076924,
                    0.23076923076923084,
                    0.6923076923076924,
                    0.1923076923076924,
                    0.4423076923076924,
                    0.34615384615384615,
                    0.3076923076923077,
                    0.2692307692307693,
                    0.28846153846153855,
                    0.3846153846153847,
                    0.5576923076923077,
                    0.326923076923077,
                    0.5192307692307693,
                    0.2692307692307693,
                    0.2692307692307693,
                    0.23076923076923084
                  ],
                  "y": [
                    0,
                    0,
                    0.008196721311475405,
                    0.008196721311475405,
                    0.016393442622950824,
                    0.016393442622950824,
                    0.024590163934426215,
                    0.024590163934426215,
                    0.032786885245901634,
                    0.032786885245901634,
                    0.032786885245901634,
                    0.032786885245901634,
                    0.04098360655737705,
                    0.04098360655737705,
                    0.04098360655737705,
                    0.04098360655737705,
                    0.049180327868852444,
                    0.049180327868852444,
                    0.06557377049180328,
                    0.06557377049180328,
                    0.07377049180327867,
                    0.07377049180327867,
                    0.08196721311475409,
                    0.08196721311475409,
                    0.10655737704918032,
                    0.10655737704918032,
                    0.10655737704918032,
                    0.10655737704918032,
                    0.11475409836065574,
                    0.11475409836065574,
                    0.12295081967213116,
                    0.12295081967213116,
                    0.14754098360655737,
                    0.14754098360655737,
                    0.14754098360655737,
                    0.14754098360655737,
                    0.1557377049180328,
                    0.1557377049180328,
                    0.180327868852459,
                    0.180327868852459,
                    0.1885245901639344,
                    0.1885245901639344,
                    0.19672131147540983,
                    0.19672131147540983,
                    0.19672131147540983,
                    0.19672131147540983,
                    0.20491803278688525,
                    0.20491803278688525,
                    0.20491803278688525,
                    0.20491803278688525,
                    0.22131147540983603,
                    0.22131147540983603,
                    0.22950819672131145,
                    0.22950819672131145,
                    0.22950819672131145,
                    0.22950819672131145,
                    0.23770491803278687,
                    0.23770491803278687,
                    0.2540983606557377,
                    0.2540983606557377,
                    0.2540983606557377,
                    0.2540983606557377,
                    0.26229508196721313,
                    0.26229508196721313,
                    0.2704918032786885,
                    0.2704918032786885,
                    0.2704918032786885,
                    0.2704918032786885,
                    0.2704918032786885,
                    0.2704918032786885,
                    0.2786885245901639,
                    0.2786885245901639,
                    0.28688524590163933,
                    0.28688524590163933,
                    0.319672131147541,
                    0.319672131147541,
                    0.319672131147541,
                    0.319672131147541,
                    0.319672131147541,
                    0.319672131147541,
                    0.319672131147541,
                    0.319672131147541,
                    0.319672131147541,
                    0.319672131147541,
                    0.319672131147541,
                    0.319672131147541,
                    0.3442622950819672,
                    0.3442622950819672,
                    0.3524590163934426,
                    0.3524590163934426,
                    0.36065573770491804,
                    0.36065573770491804,
                    0.36885245901639346,
                    0.36885245901639346,
                    0.36885245901639346,
                    0.36885245901639346,
                    0.36885245901639346,
                    0.36885245901639346,
                    0.3770491803278688,
                    0.3770491803278688,
                    0.38524590163934425,
                    0.38524590163934425,
                    0.38524590163934425,
                    0.38524590163934425,
                    0.38524590163934425,
                    0.38524590163934425,
                    0.39344262295081966,
                    0.39344262295081966,
                    0.39344262295081966,
                    0.39344262295081966,
                    0.39344262295081966,
                    0.39344262295081966,
                    0.4016393442622951,
                    0.4016393442622951,
                    0.4098360655737705,
                    0.4098360655737705,
                    0.4098360655737705,
                    0.4098360655737705,
                    0.42622950819672134,
                    0.42622950819672134,
                    0.42622950819672134,
                    0.42622950819672134,
                    0.4426229508196722,
                    0.4426229508196722,
                    0.4508196721311476,
                    0.4508196721311476,
                    0.4590163934426229,
                    0.4590163934426229,
                    0.4590163934426229,
                    0.4590163934426229,
                    0.4590163934426229,
                    0.4590163934426229,
                    0.4672131147540983,
                    0.4672131147540983,
                    0.47540983606557374,
                    0.47540983606557374,
                    0.47540983606557374,
                    0.47540983606557374,
                    0.48360655737704916,
                    0.48360655737704916,
                    0.4918032786885246,
                    0.4918032786885246,
                    0.5,
                    0.5,
                    0.5081967213114754,
                    0.5081967213114754,
                    0.5081967213114754,
                    0.5081967213114754,
                    0.5163934426229508,
                    0.5163934426229508,
                    0.5163934426229508,
                    0.5163934426229508,
                    0.5163934426229508,
                    0.5163934426229508,
                    0.5163934426229508,
                    0.5163934426229508,
                    0.5163934426229508,
                    0.5163934426229508,
                    0.5163934426229508,
                    0.5163934426229508,
                    0.5245901639344263,
                    0.5245901639344263,
                    0.5409836065573771,
                    0.5409836065573771,
                    0.5737704918032787,
                    0.5737704918032787,
                    0.5819672131147541,
                    0.5819672131147541,
                    0.5901639344262295,
                    0.5901639344262295,
                    0.5901639344262295,
                    0.5901639344262295,
                    0.5901639344262295,
                    0.5901639344262295,
                    0.5983606557377049,
                    0.5983606557377049,
                    0.5983606557377049,
                    0.5983606557377049,
                    0.639344262295082,
                    0.639344262295082,
                    0.6721311475409836,
                    0.6721311475409836,
                    0.680327868852459,
                    0.680327868852459,
                    0.6885245901639344,
                    0.6885245901639344,
                    0.7049180327868853,
                    0.7049180327868853,
                    0.7213114754098361,
                    0.7213114754098361,
                    0.7213114754098361,
                    0.7213114754098361,
                    0.8032786885245902,
                    0.8032786885245902,
                    0.8606557377049181,
                    0.8606557377049181,
                    0.9098360655737705,
                    0.9098360655737705,
                    1,
                    1
                  ],
                  "z": [
                    0.38775510204081626,
                    0.8163265306122448,
                    0.05102040816326531,
                    0.7755102040816326,
                    0.39795918367346933,
                    0.7653061224489796,
                    0.05102040816326531,
                    0.9489795918367346,
                    0.020408163265306124,
                    0.7244897959183673,
                    0.13265306122448978,
                    0.9999999999999999,
                    0.14285714285714282,
                    0.7755102040816326,
                    0.12244897959183672,
                    0.7959183673469387,
                    0.346938775510204,
                    0.6632653061224489,
                    0.2857142857142857,
                    0.9897959183673468,
                    0.346938775510204,
                    0.7346938775510203,
                    0.04081632653061224,
                    0.7346938775510203,
                    0.13265306122448978,
                    0.8265306122448979,
                    0.31632653061224486,
                    0.6122448979591836,
                    0.3061224489795918,
                    0.8775510204081631,
                    0.030612244897959183,
                    0.7346938775510203,
                    0.030612244897959183,
                    0.9285714285714285,
                    0.13265306122448978,
                    0.8163265306122448,
                    0.16326530612244897,
                    0.7346938775510203,
                    0.2551020408163265,
                    0.7551020408163265,
                    0.346938775510204,
                    0.9285714285714285,
                    0.3571428571428571,
                    0.6122448979591836,
                    0.2755102040816326,
                    0.6530612244897959,
                    0.5510204081632653,
                    0.4693877551020408,
                    0.4183673469387755,
                    0.4183673469387755,
                    0.520408163265306,
                    0.6020408163265305,
                    0.5408163265306122,
                    0.6020408163265305,
                    0.44897959183673464,
                    0.4081632653061224,
                    0.5,
                    0.4591836734693877,
                    0.510204081632653,
                    0.4591836734693877,
                    0.5612244897959183,
                    0.5510204081632653,
                    0.520408163265306,
                    0.5918367346938775,
                    0.510204081632653,
                    0.5918367346938775,
                    0.5,
                    0.47959183673469385,
                    0.5918367346938775,
                    0.4693877551020408,
                    0.5510204081632653,
                    0.4183673469387755,
                    0.48979591836734687,
                    0.5612244897959183,
                    0.4693877551020408,
                    0.5408163265306122,
                    0.5306122448979591,
                    0.47959183673469385,
                    0.520408163265306,
                    0.4183673469387755,
                    0.510204081632653,
                    0.5510204081632653,
                    0.4081632653061224,
                    0.43877551020408156,
                    0.5714285714285714,
                    0.4591836734693877,
                    0.5816326530612245,
                    0.5510204081632653,
                    0.6020408163265305,
                    0.4591836734693877,
                    0.5510204081632653,
                    0.4081632653061224,
                    0.48979591836734687,
                    0.39795918367346933,
                    0.4183673469387755,
                    0.520408163265306,
                    0.4693877551020408,
                    0.5,
                    0.4183673469387755,
                    0.48979591836734687,
                    0.4081632653061224,
                    0.47959183673469385,
                    0.5918367346938775,
                    0.5510204081632653,
                    0.5612244897959183,
                    0.4183673469387755,
                    0.5,
                    0.4591836734693877,
                    0.42857142857142855,
                    0.47959183673469385,
                    0.520408163265306,
                    0.5408163265306122,
                    0.4183673469387755,
                    0.4591836734693877,
                    0.47959183673469385,
                    0.5,
                    0.42857142857142855,
                    0.5918367346938775,
                    0.42857142857142855,
                    0.5714285714285714,
                    0.5612244897959183,
                    0.39795918367346933,
                    0.5816326530612245,
                    0.9183673469387754,
                    0.2857142857142857,
                    0.7755102040816326,
                    0.346938775510204,
                    0.9591836734693877,
                    0.1020408163265306,
                    0.7551020408163265,
                    0.08163265306122448,
                    0.7551020408163265,
                    0.336734693877551,
                    0.7142857142857142,
                    0.04081632653061224,
                    0.8877551020408162,
                    0.061224489795918366,
                    0.7346938775510203,
                    0.09183673469387754,
                    0.7244897959183673,
                    0.04081632653061224,
                    0.9387755102040816,
                    0.39795918367346933,
                    0.8775510204081631,
                    0.11224489795918367,
                    0.9795918367346937,
                    0.3571428571428571,
                    0.7448979591836734,
                    0.21428571428571425,
                    0.9081632653061223,
                    0.16326530612244897,
                    0.8877551020408162,
                    0.19387755102040813,
                    0.7653061224489796,
                    0.1530612244897959,
                    0.8979591836734693,
                    0,
                    0.7857142857142856,
                    0,
                    0.7346938775510203,
                    0.346938775510204,
                    0.836734693877551,
                    0.04081632653061224,
                    0.9387755102040816,
                    0.2551020408163265,
                    0.7551020408163265,
                    0.19387755102040813,
                    0.9591836734693877,
                    0.26530612244897955,
                    0.6326530612244897,
                    0.12244897959183672,
                    0.7551020408163265,
                    0.09183673469387754,
                    0.9285714285714285,
                    0.12244897959183672,
                    0.8673469387755102,
                    0.14285714285714282,
                    0.693877551020408,
                    0.13265306122448978,
                    0.9081632653061223,
                    0.31632653061224486,
                    0.8673469387755102,
                    0.14285714285714282,
                    0.8877551020408162,
                    0.38775510204081626,
                    0.9795918367346937,
                    0.2346938775510204,
                    0.6836734693877551,
                    0.16326530612244897,
                    0.8571428571428571,
                    0.22448979591836732,
                    0.693877551020408,
                    0.07142857142857142,
                    0.9183673469387754,
                    0.1530612244897959,
                    0.7959183673469387,
                    0.2755102040816326,
                    0.7448979591836734,
                    0.173469387755102,
                    0.836734693877551
                  ]
                }
              ],
              "layout": {
                "coloraxis": {
                  "colorbar": {
                    "title": {
                      "text": "ClusterAgg"
                    }
                  },
                  "colorscale": [
                    [
                      0,
                      "#0d0887"
                    ],
                    [
                      0.1111111111111111,
                      "#46039f"
                    ],
                    [
                      0.2222222222222222,
                      "#7201a8"
                    ],
                    [
                      0.3333333333333333,
                      "#9c179e"
                    ],
                    [
                      0.4444444444444444,
                      "#bd3786"
                    ],
                    [
                      0.5555555555555556,
                      "#d8576b"
                    ],
                    [
                      0.6666666666666666,
                      "#ed7953"
                    ],
                    [
                      0.7777777777777778,
                      "#fb9f3a"
                    ],
                    [
                      0.8888888888888888,
                      "#fdca26"
                    ],
                    [
                      1,
                      "#f0f921"
                    ]
                  ]
                },
                "legend": {
                  "tracegroupgap": 0
                },
                "scene": {
                  "domain": {
                    "x": [
                      0,
                      1
                    ],
                    "y": [
                      0,
                      1
                    ]
                  },
                  "xaxis": {
                    "title": {
                      "text": "Age"
                    }
                  },
                  "yaxis": {
                    "title": {
                      "text": "Annual Income (k$)"
                    }
                  },
                  "zaxis": {
                    "title": {
                      "text": "Spending Score (1-100)"
                    }
                  }
                },
                "template": {
                  "data": {
                    "bar": [
                      {
                        "error_x": {
                          "color": "#2a3f5f"
                        },
                        "error_y": {
                          "color": "#2a3f5f"
                        },
                        "marker": {
                          "line": {
                            "color": "#E5ECF6",
                            "width": 0.5
                          },
                          "pattern": {
                            "fillmode": "overlay",
                            "size": 10,
                            "solidity": 0.2
                          }
                        },
                        "type": "bar"
                      }
                    ],
                    "barpolar": [
                      {
                        "marker": {
                          "line": {
                            "color": "#E5ECF6",
                            "width": 0.5
                          },
                          "pattern": {
                            "fillmode": "overlay",
                            "size": 10,
                            "solidity": 0.2
                          }
                        },
                        "type": "barpolar"
                      }
                    ],
                    "carpet": [
                      {
                        "aaxis": {
                          "endlinecolor": "#2a3f5f",
                          "gridcolor": "white",
                          "linecolor": "white",
                          "minorgridcolor": "white",
                          "startlinecolor": "#2a3f5f"
                        },
                        "baxis": {
                          "endlinecolor": "#2a3f5f",
                          "gridcolor": "white",
                          "linecolor": "white",
                          "minorgridcolor": "white",
                          "startlinecolor": "#2a3f5f"
                        },
                        "type": "carpet"
                      }
                    ],
                    "choropleth": [
                      {
                        "colorbar": {
                          "outlinewidth": 0,
                          "ticks": ""
                        },
                        "type": "choropleth"
                      }
                    ],
                    "contour": [
                      {
                        "colorbar": {
                          "outlinewidth": 0,
                          "ticks": ""
                        },
                        "colorscale": [
                          [
                            0,
                            "#0d0887"
                          ],
                          [
                            0.1111111111111111,
                            "#46039f"
                          ],
                          [
                            0.2222222222222222,
                            "#7201a8"
                          ],
                          [
                            0.3333333333333333,
                            "#9c179e"
                          ],
                          [
                            0.4444444444444444,
                            "#bd3786"
                          ],
                          [
                            0.5555555555555556,
                            "#d8576b"
                          ],
                          [
                            0.6666666666666666,
                            "#ed7953"
                          ],
                          [
                            0.7777777777777778,
                            "#fb9f3a"
                          ],
                          [
                            0.8888888888888888,
                            "#fdca26"
                          ],
                          [
                            1,
                            "#f0f921"
                          ]
                        ],
                        "type": "contour"
                      }
                    ],
                    "contourcarpet": [
                      {
                        "colorbar": {
                          "outlinewidth": 0,
                          "ticks": ""
                        },
                        "type": "contourcarpet"
                      }
                    ],
                    "heatmap": [
                      {
                        "colorbar": {
                          "outlinewidth": 0,
                          "ticks": ""
                        },
                        "colorscale": [
                          [
                            0,
                            "#0d0887"
                          ],
                          [
                            0.1111111111111111,
                            "#46039f"
                          ],
                          [
                            0.2222222222222222,
                            "#7201a8"
                          ],
                          [
                            0.3333333333333333,
                            "#9c179e"
                          ],
                          [
                            0.4444444444444444,
                            "#bd3786"
                          ],
                          [
                            0.5555555555555556,
                            "#d8576b"
                          ],
                          [
                            0.6666666666666666,
                            "#ed7953"
                          ],
                          [
                            0.7777777777777778,
                            "#fb9f3a"
                          ],
                          [
                            0.8888888888888888,
                            "#fdca26"
                          ],
                          [
                            1,
                            "#f0f921"
                          ]
                        ],
                        "type": "heatmap"
                      }
                    ],
                    "heatmapgl": [
                      {
                        "colorbar": {
                          "outlinewidth": 0,
                          "ticks": ""
                        },
                        "colorscale": [
                          [
                            0,
                            "#0d0887"
                          ],
                          [
                            0.1111111111111111,
                            "#46039f"
                          ],
                          [
                            0.2222222222222222,
                            "#7201a8"
                          ],
                          [
                            0.3333333333333333,
                            "#9c179e"
                          ],
                          [
                            0.4444444444444444,
                            "#bd3786"
                          ],
                          [
                            0.5555555555555556,
                            "#d8576b"
                          ],
                          [
                            0.6666666666666666,
                            "#ed7953"
                          ],
                          [
                            0.7777777777777778,
                            "#fb9f3a"
                          ],
                          [
                            0.8888888888888888,
                            "#fdca26"
                          ],
                          [
                            1,
                            "#f0f921"
                          ]
                        ],
                        "type": "heatmapgl"
                      }
                    ],
                    "histogram": [
                      {
                        "marker": {
                          "pattern": {
                            "fillmode": "overlay",
                            "size": 10,
                            "solidity": 0.2
                          }
                        },
                        "type": "histogram"
                      }
                    ],
                    "histogram2d": [
                      {
                        "colorbar": {
                          "outlinewidth": 0,
                          "ticks": ""
                        },
                        "colorscale": [
                          [
                            0,
                            "#0d0887"
                          ],
                          [
                            0.1111111111111111,
                            "#46039f"
                          ],
                          [
                            0.2222222222222222,
                            "#7201a8"
                          ],
                          [
                            0.3333333333333333,
                            "#9c179e"
                          ],
                          [
                            0.4444444444444444,
                            "#bd3786"
                          ],
                          [
                            0.5555555555555556,
                            "#d8576b"
                          ],
                          [
                            0.6666666666666666,
                            "#ed7953"
                          ],
                          [
                            0.7777777777777778,
                            "#fb9f3a"
                          ],
                          [
                            0.8888888888888888,
                            "#fdca26"
                          ],
                          [
                            1,
                            "#f0f921"
                          ]
                        ],
                        "type": "histogram2d"
                      }
                    ],
                    "histogram2dcontour": [
                      {
                        "colorbar": {
                          "outlinewidth": 0,
                          "ticks": ""
                        },
                        "colorscale": [
                          [
                            0,
                            "#0d0887"
                          ],
                          [
                            0.1111111111111111,
                            "#46039f"
                          ],
                          [
                            0.2222222222222222,
                            "#7201a8"
                          ],
                          [
                            0.3333333333333333,
                            "#9c179e"
                          ],
                          [
                            0.4444444444444444,
                            "#bd3786"
                          ],
                          [
                            0.5555555555555556,
                            "#d8576b"
                          ],
                          [
                            0.6666666666666666,
                            "#ed7953"
                          ],
                          [
                            0.7777777777777778,
                            "#fb9f3a"
                          ],
                          [
                            0.8888888888888888,
                            "#fdca26"
                          ],
                          [
                            1,
                            "#f0f921"
                          ]
                        ],
                        "type": "histogram2dcontour"
                      }
                    ],
                    "mesh3d": [
                      {
                        "colorbar": {
                          "outlinewidth": 0,
                          "ticks": ""
                        },
                        "type": "mesh3d"
                      }
                    ],
                    "parcoords": [
                      {
                        "line": {
                          "colorbar": {
                            "outlinewidth": 0,
                            "ticks": ""
                          }
                        },
                        "type": "parcoords"
                      }
                    ],
                    "pie": [
                      {
                        "automargin": true,
                        "type": "pie"
                      }
                    ],
                    "scatter": [
                      {
                        "fillpattern": {
                          "fillmode": "overlay",
                          "size": 10,
                          "solidity": 0.2
                        },
                        "type": "scatter"
                      }
                    ],
                    "scatter3d": [
                      {
                        "line": {
                          "colorbar": {
                            "outlinewidth": 0,
                            "ticks": ""
                          }
                        },
                        "marker": {
                          "colorbar": {
                            "outlinewidth": 0,
                            "ticks": ""
                          }
                        },
                        "type": "scatter3d"
                      }
                    ],
                    "scattercarpet": [
                      {
                        "marker": {
                          "colorbar": {
                            "outlinewidth": 0,
                            "ticks": ""
                          }
                        },
                        "type": "scattercarpet"
                      }
                    ],
                    "scattergeo": [
                      {
                        "marker": {
                          "colorbar": {
                            "outlinewidth": 0,
                            "ticks": ""
                          }
                        },
                        "type": "scattergeo"
                      }
                    ],
                    "scattergl": [
                      {
                        "marker": {
                          "colorbar": {
                            "outlinewidth": 0,
                            "ticks": ""
                          }
                        },
                        "type": "scattergl"
                      }
                    ],
                    "scattermapbox": [
                      {
                        "marker": {
                          "colorbar": {
                            "outlinewidth": 0,
                            "ticks": ""
                          }
                        },
                        "type": "scattermapbox"
                      }
                    ],
                    "scatterpolar": [
                      {
                        "marker": {
                          "colorbar": {
                            "outlinewidth": 0,
                            "ticks": ""
                          }
                        },
                        "type": "scatterpolar"
                      }
                    ],
                    "scatterpolargl": [
                      {
                        "marker": {
                          "colorbar": {
                            "outlinewidth": 0,
                            "ticks": ""
                          }
                        },
                        "type": "scatterpolargl"
                      }
                    ],
                    "scatterternary": [
                      {
                        "marker": {
                          "colorbar": {
                            "outlinewidth": 0,
                            "ticks": ""
                          }
                        },
                        "type": "scatterternary"
                      }
                    ],
                    "surface": [
                      {
                        "colorbar": {
                          "outlinewidth": 0,
                          "ticks": ""
                        },
                        "colorscale": [
                          [
                            0,
                            "#0d0887"
                          ],
                          [
                            0.1111111111111111,
                            "#46039f"
                          ],
                          [
                            0.2222222222222222,
                            "#7201a8"
                          ],
                          [
                            0.3333333333333333,
                            "#9c179e"
                          ],
                          [
                            0.4444444444444444,
                            "#bd3786"
                          ],
                          [
                            0.5555555555555556,
                            "#d8576b"
                          ],
                          [
                            0.6666666666666666,
                            "#ed7953"
                          ],
                          [
                            0.7777777777777778,
                            "#fb9f3a"
                          ],
                          [
                            0.8888888888888888,
                            "#fdca26"
                          ],
                          [
                            1,
                            "#f0f921"
                          ]
                        ],
                        "type": "surface"
                      }
                    ],
                    "table": [
                      {
                        "cells": {
                          "fill": {
                            "color": "#EBF0F8"
                          },
                          "line": {
                            "color": "white"
                          }
                        },
                        "header": {
                          "fill": {
                            "color": "#C8D4E3"
                          },
                          "line": {
                            "color": "white"
                          }
                        },
                        "type": "table"
                      }
                    ]
                  },
                  "layout": {
                    "annotationdefaults": {
                      "arrowcolor": "#2a3f5f",
                      "arrowhead": 0,
                      "arrowwidth": 1
                    },
                    "autotypenumbers": "strict",
                    "coloraxis": {
                      "colorbar": {
                        "outlinewidth": 0,
                        "ticks": ""
                      }
                    },
                    "colorscale": {
                      "diverging": [
                        [
                          0,
                          "#8e0152"
                        ],
                        [
                          0.1,
                          "#c51b7d"
                        ],
                        [
                          0.2,
                          "#de77ae"
                        ],
                        [
                          0.3,
                          "#f1b6da"
                        ],
                        [
                          0.4,
                          "#fde0ef"
                        ],
                        [
                          0.5,
                          "#f7f7f7"
                        ],
                        [
                          0.6,
                          "#e6f5d0"
                        ],
                        [
                          0.7,
                          "#b8e186"
                        ],
                        [
                          0.8,
                          "#7fbc41"
                        ],
                        [
                          0.9,
                          "#4d9221"
                        ],
                        [
                          1,
                          "#276419"
                        ]
                      ],
                      "sequential": [
                        [
                          0,
                          "#0d0887"
                        ],
                        [
                          0.1111111111111111,
                          "#46039f"
                        ],
                        [
                          0.2222222222222222,
                          "#7201a8"
                        ],
                        [
                          0.3333333333333333,
                          "#9c179e"
                        ],
                        [
                          0.4444444444444444,
                          "#bd3786"
                        ],
                        [
                          0.5555555555555556,
                          "#d8576b"
                        ],
                        [
                          0.6666666666666666,
                          "#ed7953"
                        ],
                        [
                          0.7777777777777778,
                          "#fb9f3a"
                        ],
                        [
                          0.8888888888888888,
                          "#fdca26"
                        ],
                        [
                          1,
                          "#f0f921"
                        ]
                      ],
                      "sequentialminus": [
                        [
                          0,
                          "#0d0887"
                        ],
                        [
                          0.1111111111111111,
                          "#46039f"
                        ],
                        [
                          0.2222222222222222,
                          "#7201a8"
                        ],
                        [
                          0.3333333333333333,
                          "#9c179e"
                        ],
                        [
                          0.4444444444444444,
                          "#bd3786"
                        ],
                        [
                          0.5555555555555556,
                          "#d8576b"
                        ],
                        [
                          0.6666666666666666,
                          "#ed7953"
                        ],
                        [
                          0.7777777777777778,
                          "#fb9f3a"
                        ],
                        [
                          0.8888888888888888,
                          "#fdca26"
                        ],
                        [
                          1,
                          "#f0f921"
                        ]
                      ]
                    },
                    "colorway": [
                      "#636efa",
                      "#EF553B",
                      "#00cc96",
                      "#ab63fa",
                      "#FFA15A",
                      "#19d3f3",
                      "#FF6692",
                      "#B6E880",
                      "#FF97FF",
                      "#FECB52"
                    ],
                    "font": {
                      "color": "#2a3f5f"
                    },
                    "geo": {
                      "bgcolor": "white",
                      "lakecolor": "white",
                      "landcolor": "#E5ECF6",
                      "showlakes": true,
                      "showland": true,
                      "subunitcolor": "white"
                    },
                    "hoverlabel": {
                      "align": "left"
                    },
                    "hovermode": "closest",
                    "mapbox": {
                      "style": "light"
                    },
                    "paper_bgcolor": "white",
                    "plot_bgcolor": "#E5ECF6",
                    "polar": {
                      "angularaxis": {
                        "gridcolor": "white",
                        "linecolor": "white",
                        "ticks": ""
                      },
                      "bgcolor": "#E5ECF6",
                      "radialaxis": {
                        "gridcolor": "white",
                        "linecolor": "white",
                        "ticks": ""
                      }
                    },
                    "scene": {
                      "xaxis": {
                        "backgroundcolor": "#E5ECF6",
                        "gridcolor": "white",
                        "gridwidth": 2,
                        "linecolor": "white",
                        "showbackground": true,
                        "ticks": "",
                        "zerolinecolor": "white"
                      },
                      "yaxis": {
                        "backgroundcolor": "#E5ECF6",
                        "gridcolor": "white",
                        "gridwidth": 2,
                        "linecolor": "white",
                        "showbackground": true,
                        "ticks": "",
                        "zerolinecolor": "white"
                      },
                      "zaxis": {
                        "backgroundcolor": "#E5ECF6",
                        "gridcolor": "white",
                        "gridwidth": 2,
                        "linecolor": "white",
                        "showbackground": true,
                        "ticks": "",
                        "zerolinecolor": "white"
                      }
                    },
                    "shapedefaults": {
                      "line": {
                        "color": "#2a3f5f"
                      }
                    },
                    "ternary": {
                      "aaxis": {
                        "gridcolor": "white",
                        "linecolor": "white",
                        "ticks": ""
                      },
                      "baxis": {
                        "gridcolor": "white",
                        "linecolor": "white",
                        "ticks": ""
                      },
                      "bgcolor": "#E5ECF6",
                      "caxis": {
                        "gridcolor": "white",
                        "linecolor": "white",
                        "ticks": ""
                      }
                    },
                    "title": {
                      "x": 0.05
                    },
                    "xaxis": {
                      "automargin": true,
                      "gridcolor": "white",
                      "linecolor": "white",
                      "ticks": "",
                      "title": {
                        "standoff": 15
                      },
                      "zerolinecolor": "white",
                      "zerolinewidth": 2
                    },
                    "yaxis": {
                      "automargin": true,
                      "gridcolor": "white",
                      "linecolor": "white",
                      "ticks": "",
                      "title": {
                        "standoff": 15
                      },
                      "zerolinecolor": "white",
                      "zerolinewidth": 2
                    }
                  }
                },
                "title": {
                  "text": "Agglomerative Clustering"
                }
              }
            }
          },
          "metadata": {},
          "output_type": "display_data"
        }
      ],
      "source": [
        "# 3D plot using Plotly for Agglomerative Clustering\n",
        "fig = px.scatter_3d(mall, x='Age', y='Annual Income (k$)', z='Spending Score (1-100)',\n",
        "               color='ClusterAgg', title='Agglomerative Clustering')\n",
        "fig.show()"
      ]
    },
    {
      "cell_type": "markdown",
      "metadata": {},
      "source": [
        "The main difference versus the previous one is that we have one less cluster, we go from 6 to 5 clusters. To do that, groups clusters 5 and 0 in the same cluster. This can be represented as a group formed by young customers with Incomes below the average, but Spending score above the average. This can be an interesting group to explore what kind of products or services they buy.\n",
        "\n",
        "The other clusters have mainly the same representation than using k-means algorithm, only change the color."
      ]
    },
    {
      "cell_type": "markdown",
      "metadata": {
        "id": "Oe2rbVRdv_MC"
      },
      "source": [
        "# Evaluating clustering\n",
        "\n",
        "Use silhouette scores as a way to evaluate the quality of the aggregated clustering. **What does the score mean?**"
      ]
    },
    {
      "cell_type": "code",
      "execution_count": 11,
      "metadata": {
        "id": "PiN-hSoywUs2"
      },
      "outputs": [
        {
          "name": "stdout",
          "output_type": "stream",
          "text": [
            "Silhouette Score: 0.3955454334726547\n"
          ]
        }
      ],
      "source": [
        "from sklearn.metrics import silhouette_score\n",
        "\n",
        "silhouette_avg = silhouette_score(X, mall['ClusterAgg'])\n",
        "print(f\"Silhouette Score: {silhouette_avg}\")"
      ]
    },
    {
      "cell_type": "markdown",
      "metadata": {},
      "source": [
        "The silhouette score is a metric used to evaluate the quality of a clustering model, the score ranges from -1 to +1, where:\n",
        "\n",
        "+1 -> Indicates that the data points are well clustered, with each point being close to its assigned cluster center and far from other clusters.\n",
        " 0 -> Indicates overlapping clusters, meaning the data points are on or near the boundary between clusters.\n",
        "-1 -> Indicates that the data points may have been assigned to the wrong cluster.\n",
        "\n",
        "The silhouette score of 0.3955... suggests that the clusters are moderately well separated but not ideal."
      ]
    },
    {
      "cell_type": "markdown",
      "metadata": {
        "id": "BePQAsHEWTgg"
      },
      "source": [
        "## 3. Association Rule Mining with Apriori Algorithm\n",
        "\n",
        "In this exercise, we will use the Apriori algorithm to find frequent itemsets and generate association rules from a simple dataset. Association Rule Mining is commonly used in market basket analysis to find relationships between items purchased together.\n",
        "\n",
        "This exercise utilizes the mlxtend library, which provides easy-to-use functions for Apriori."
      ]
    },
    {
      "cell_type": "code",
      "execution_count": null,
      "metadata": {
        "id": "1cJmMfLHYOiY"
      },
      "outputs": [],
      "source": [
        "# Importing required libraries\n",
        "import pandas as pd\n",
        "from mlxtend.frequent_patterns import apriori, association_rules\n"
      ]
    },
    {
      "cell_type": "markdown",
      "metadata": {
        "id": "nzND5FVWYKC5"
      },
      "source": [
        "We'll use a small synthetic dataset representing customer transactions in a store. Each transaction will contain a list of items purchased."
      ]
    },
    {
      "cell_type": "code",
      "execution_count": 13,
      "metadata": {
        "id": "1nvL2_s-YVbZ"
      },
      "outputs": [
        {
          "name": "stdout",
          "output_type": "stream",
          "text": [
            "Transaction Dataset:\n",
            "\n",
            "             milk  bread  butter  beer  cheese\n",
            "Transaction                                   \n",
            "0               1      1       1     1       0\n",
            "1               1      1       1     0       1\n",
            "2               0      0       1     1       0\n",
            "3               1      1       1     0       1\n",
            "4               0      0       0     1       1\n"
          ]
        }
      ],
      "source": [
        "# Create a sample transaction dataset\n",
        "data = {\n",
        "    'milk': [1, 1, 0, 1, 0],\n",
        "    'bread': [1, 1, 0, 1, 0],\n",
        "    'butter': [1, 1, 1, 1, 0],\n",
        "    'beer': [1, 0, 1, 0, 1],\n",
        "    'cheese': [0, 1, 0, 1, 1]\n",
        "}\n",
        "\n",
        "# Convert to a DataFrame\n",
        "df = pd.DataFrame(data)\n",
        "df.index.name = 'Transaction'\n",
        "print(\"Transaction Dataset:\\n\")\n",
        "print(df)\n"
      ]
    },
    {
      "cell_type": "markdown",
      "metadata": {
        "id": "FU4KjacUYZwJ"
      },
      "source": [
        "Apply the Apriori algorithm to find frequent itemsets with minimum support of 0.6."
      ]
    },
    {
      "cell_type": "code",
      "execution_count": 18,
      "metadata": {
        "id": "BFVt4ulNYhiI"
      },
      "outputs": [
        {
          "name": "stdout",
          "output_type": "stream",
          "text": [
            "\n",
            "Frequent Itemsets:\n",
            "\n",
            "   support               itemsets\n",
            "0      0.6                 (milk)\n",
            "1      0.6                (bread)\n",
            "2      0.8               (butter)\n",
            "3      0.6                 (beer)\n",
            "4      0.6               (cheese)\n",
            "5      0.6          (bread, milk)\n",
            "6      0.6         (butter, milk)\n",
            "7      0.6        (bread, butter)\n",
            "8      0.6  (butter, bread, milk)\n"
          ]
        }
      ],
      "source": [
        "# Applying Apriori to find frequent itemsets with minimum support of 0.6 (60%)\n",
        "\n",
        "df_bool = df.astype(bool) # Convert the dataset to boolean (True/False)\n",
        "\n",
        "frequent_itemsets = apriori(df_bool, min_support=0.6, use_colnames=True)\n",
        "print(\"\\nFrequent Itemsets:\\n\")\n",
        "print(frequent_itemsets)\n"
      ]
    },
    {
      "cell_type": "markdown",
      "metadata": {
        "id": "_bwe0YmZY45I"
      },
      "source": [
        "Generate association rules with a minimum confidence of 0.7"
      ]
    },
    {
      "cell_type": "code",
      "execution_count": 15,
      "metadata": {
        "id": "UkvUuEEQY33n"
      },
      "outputs": [
        {
          "name": "stdout",
          "output_type": "stream",
          "text": [
            "\n",
            "Association Rules:\n",
            "\n",
            "        antecedents      consequents  support  confidence      lift\n",
            "0           (bread)           (milk)      0.6        1.00  1.666667\n",
            "1            (milk)          (bread)      0.6        1.00  1.666667\n",
            "2          (butter)           (milk)      0.6        0.75  1.250000\n",
            "3            (milk)         (butter)      0.6        1.00  1.250000\n",
            "4           (bread)         (butter)      0.6        1.00  1.250000\n",
            "5          (butter)          (bread)      0.6        0.75  1.250000\n",
            "6   (bread, butter)           (milk)      0.6        1.00  1.666667\n",
            "7    (butter, milk)          (bread)      0.6        1.00  1.666667\n",
            "8     (bread, milk)         (butter)      0.6        1.00  1.250000\n",
            "9          (butter)    (bread, milk)      0.6        0.75  1.250000\n",
            "10          (bread)   (butter, milk)      0.6        1.00  1.666667\n",
            "11           (milk)  (bread, butter)      0.6        1.00  1.666667\n"
          ]
        }
      ],
      "source": [
        "# Generating association rules with a minimum confidence of 0.7 (70%)\n",
        "rules = association_rules(frequent_itemsets, metric=\"confidence\", min_threshold=0.7)\n",
        "print(\"\\nAssociation Rules:\\n\")\n",
        "print(rules[['antecedents', 'consequents', 'support', 'confidence', 'lift']])"
      ]
    },
    {
      "cell_type": "markdown",
      "metadata": {
        "id": "YiEjWp-FaHlB"
      },
      "source": [
        "**What does the confidence metric measure? What is the next step after having recovered these association rules?**"
      ]
    },
    {
      "cell_type": "markdown",
      "metadata": {},
      "source": [
        "As the ChatGPT says: In the context of Association Rule Mining, the confidence metric measures the reliability of a rule. It quantifies how often the rule has been found to be true in the dataset.\n",
        "\n",
        "Confidence metric alone does not guarantee a useful rule. Lift and other metrics are also used to validate the strength of a rule.\n",
        "\n",
        "After computing confidence and lift, you can sort rules by their significance. Typically, you might focus on rules with high confidence, high support, and lift values greater than 1. \n",
        "\n",
        "Once sorted these rules it can be used for business strategies like product recommendation, marketing or stock management. And other fields."
      ]
    },
    {
      "cell_type": "markdown",
      "metadata": {
        "id": "Or90oUZtbGDn"
      },
      "source": [
        "## Grading chart\n",
        "|Category |\tPoints |\tDescription|\n",
        "|---------|--------|-------------|\n",
        "|Code Functionality and report|\t4 |\tThe code runs without errors and all questions are answered in a readable manner. |\n",
        "| Elbow method to determine optimal clusters | 0.5 | Correct use of the Elbow method to find the optimal number of clusters.\n",
        " |  Cluster interpretation | 2 | Detailed explanation of what each cluster represents in terms of customer segmentation.\n",
        " |Comparison of agglomerative and K-Means clustering | 1 | Insightful comparison between the results of Agglomerative and K-Means clustering. |\n",
        " |Interpretation of silhouette score | 0.5 | Clear explanation of what the silhouette score means for cluster quality. |\n",
        " | Explanation of confidence metric in association rule mining | 2 | Clear explanation of what confidence measures and next steps after rule generation. |\n"
      ]
    }
  ],
  "metadata": {
    "colab": {
      "provenance": []
    },
    "kernelspec": {
      "display_name": ".venv",
      "language": "python",
      "name": "python3"
    },
    "language_info": {
      "codemirror_mode": {
        "name": "ipython",
        "version": 3
      },
      "file_extension": ".py",
      "mimetype": "text/x-python",
      "name": "python",
      "nbconvert_exporter": "python",
      "pygments_lexer": "ipython3",
      "version": "3.11.2"
    }
  },
  "nbformat": 4,
  "nbformat_minor": 0
}
