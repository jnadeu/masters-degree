{
  "cells": [
    {
      "cell_type": "markdown",
      "metadata": {
        "id": "ffGyEe1Yq3wS"
      },
      "source": [
        "# Stock Market Analysis\n",
        "\n",
        "This assignment is based on https://github.com/fares-ds/Predicting-the-closing-stock-price-of-APPLE-using-LSTM/blob/ce693c2b31e4fff90e2727be15defec1ee163e5b/README.md All copyright to Fares Sayah.\n",
        "\n",
        "In this notebook you will see the capabilities of the Yahoo finance yfinance library, practicing how to retrieve data and finally using the data for training an LSTM.\n",
        "\n",
        "# Submission instructions\n",
        "\n",
        "Throughout the notebook you will find questions **in bold**. You will be graded on the answers to the questions. Submit a pdf document with your answers to the questions, **not the jupyter notebook**. The deadline for the assignment is the 28th of february.\n",
        "\n"
      ]
    },
    {
      "cell_type": "markdown",
      "metadata": {
        "id": "2btATtgJq3wT"
      },
      "source": [
        "Time Series data is a series of data points indexed in time order. Time series data is everywhere, so manipulating them is important for any data analyst or data scientist.\n",
        "\n",
        "In this notebook, we will discover and explore data from the stock market, particularly some technology stocks (Apple, Amazon, Google, and Microsoft). We will learn how to use yfinance to get stock information, and visualize different aspects of it using Seaborn and Matplotlib. we will look at a few ways of analyzing the risk of a stock, based on its previous performance history. We will also be predicting future stock prices through a Long Short Term Memory (LSTM) method!\n",
        "\n",
        "We'll be answering the following questions along the way:\n",
        "\n",
        "    1.) What was the change in price of the stock over time?\n",
        "    2.) What was the daily return of the stock on average?\n",
        "    3.) What was the moving average of the various stocks?\n",
        "    4.) What was the correlation between different stocks'?\n",
        "    5.) How much value do we put at risk by investing in a particular stock?\n",
        "    6.) How can we attempt to predict future stock behavior? (Predicting the closing price stock price of APPLE inc using LSTM)\n",
        "\n",
        "***   \n",
        "\n",
        "## Getting the Data\n",
        "The first step is to get the data and load it to memory. We will get our stock data from the Yahoo Finance website. Yahoo Finance is a rich resource of financial market data and tools to find compelling investments. To get the data from Yahoo Finance, we will be using yfinance library which offers a threaded and Pythonic way to download market data from Yahoo. Check this article to learn more about yfinance: [Reliably download historical market data from with Python](https://aroussi.com/post/python-yahoo-finance)"
      ]
    },
    {
      "cell_type": "markdown",
      "metadata": {
        "id": "ciwB19PYq3wU"
      },
      "source": [
        "# 1. What was the change in price of the stock overtime?\n",
        "\n",
        "In this section we'll go over how to handle requesting stock information with pandas, and how to analyze basic attributes of a stock."
      ]
    },
    {
      "cell_type": "code",
      "execution_count": null,
      "metadata": {
        "_kg_hide-input": true,
        "_kg_hide-output": true,
        "execution": {
          "iopub.execute_input": "2023-01-30T22:53:03.550933Z",
          "iopub.status.busy": "2023-01-30T22:53:03.549762Z",
          "iopub.status.idle": "2023-01-30T22:53:15.422877Z",
          "shell.execute_reply": "2023-01-30T22:53:15.421628Z",
          "shell.execute_reply.started": "2023-01-30T22:53:03.55086Z"
        },
        "id": "7czzNH-Zq3wU",
        "trusted": true
      },
      "outputs": [],
      "source": [
        "!pip install -q yfinance\n",
        "!pip install -q --upgrade pandas-datareader"
      ]
    },
    {
      "cell_type": "code",
      "execution_count": null,
      "metadata": {
        "execution": {
          "iopub.execute_input": "2023-01-30T22:53:15.426113Z",
          "iopub.status.busy": "2023-01-30T22:53:15.425689Z",
          "iopub.status.idle": "2023-01-30T22:53:16.973427Z",
          "shell.execute_reply": "2023-01-30T22:53:16.972202Z",
          "shell.execute_reply.started": "2023-01-30T22:53:15.426073Z"
        },
        "id": "HWfNQESdq3wV",
        "trusted": true
      },
      "outputs": [],
      "source": [
        "import pandas as pd\n",
        "import numpy as np\n",
        "\n",
        "import matplotlib.pyplot as plt\n",
        "import seaborn as sns\n",
        "sns.set_style('whitegrid')\n",
        "plt.style.use(\"fivethirtyeight\")\n",
        "%matplotlib inline\n",
        "\n",
        "# For reading stock data from yahoo\n",
        "from pandas_datareader.data import DataReader\n",
        "import yfinance as yf\n",
        "from pandas_datareader import data as pdr\n",
        "\n",
        "\n",
        "# For time stamps\n",
        "from datetime import datetime\n",
        "\n",
        "\n",
        "# The tech stocks we'll use for this analysis\n",
        "tech_list = ['AAPL', 'GOOG', 'MSFT', 'AMZN']\n",
        "\n",
        "# Set up End and Start times for data grab\n",
        "\n",
        "end = datetime(2024, 12, 20)\n",
        "start = datetime(2024, 1, 20)\n",
        "\n",
        "for stock in tech_list:\n",
        "    globals()[stock] = yf.download(stock, start, end)\n",
        "\n",
        "\n",
        "company_list = [AAPL, GOOG, MSFT, AMZN]\n",
        "company_name = [\"APPLE\", \"GOOGLE\", \"MICROSOFT\", \"AMAZON\"]\n",
        "\n",
        "for company, com_name in zip(company_list, company_name):\n",
        "    company[\"company_name\"] = com_name\n",
        "\n"
      ]
    },
    {
      "cell_type": "markdown",
      "metadata": {
        "id": "OmGJD2oJq3wV"
      },
      "source": [
        "Reviewing the content of our data, we can see that the data is numeric and the date is the index of the data. Notice also that weekends are missing from the records.\n",
        "\n",
        "**Quick note:** Using `globals()` is a sloppy way of setting the `DataFrame` names, but it's simple. Now we have our data, let's perform some basic data analysis and check our data."
      ]
    },
    {
      "cell_type": "markdown",
      "metadata": {
        "id": "96-Nse4Bq3wW"
      },
      "source": [
        "**Question 1: Why is it important to choose a specific time range for stock data? How might this choice affect the analysis?**\n",
        "\n",
        "**Question 2: What are the potential limitations of using Yahoo Finance data for stock market analysis?**"
      ]
    },
    {
      "cell_type": "markdown",
      "metadata": {
        "id": "t3RpdpV-q3wV"
      },
      "source": [
        "## Descriptive Statistics about the Data\n",
        "`.describe()` generates descriptive statistics. Descriptive statistics include those that summarize the central tendency, dispersion, and shape of a dataset’s distribution, excluding `NaN` values.\n",
        "\n",
        "Analyzes both numeric and object series, as well as `DataFrame` column sets of mixed data types. The output will vary depending on what is provided. Refer to the notes below for more detail."
      ]
    },
    {
      "cell_type": "code",
      "execution_count": null,
      "metadata": {
        "execution": {
          "iopub.execute_input": "2023-01-30T22:53:16.976539Z",
          "iopub.status.busy": "2023-01-30T22:53:16.975716Z",
          "iopub.status.idle": "2023-01-30T22:53:17.010551Z",
          "shell.execute_reply": "2023-01-30T22:53:17.00843Z",
          "shell.execute_reply.started": "2023-01-30T22:53:16.9765Z"
        },
        "id": "8OlKPAbKq3wW",
        "trusted": true
      },
      "outputs": [],
      "source": [
        "# Summary Stats\n",
        "AAPL.describe()"
      ]
    },
    {
      "cell_type": "markdown",
      "metadata": {
        "id": "3ZAHCDNDq3wW"
      },
      "source": [
        "## Information About the Data\n",
        "`.info()` method prints information about a DataFrame including the index `dtype` and columns, non-null values, and memory usage."
      ]
    },
    {
      "cell_type": "code",
      "execution_count": null,
      "metadata": {
        "execution": {
          "iopub.execute_input": "2023-01-30T22:53:17.014269Z",
          "iopub.status.busy": "2023-01-30T22:53:17.013734Z",
          "iopub.status.idle": "2023-01-30T22:53:17.029859Z",
          "shell.execute_reply": "2023-01-30T22:53:17.028404Z",
          "shell.execute_reply.started": "2023-01-30T22:53:17.014233Z"
        },
        "id": "42htGugIq3wW",
        "trusted": true
      },
      "outputs": [],
      "source": [
        "# General info\n",
        "AAPL.info()"
      ]
    },
    {
      "cell_type": "markdown",
      "metadata": {
        "id": "Nsetbqx5q3wW"
      },
      "source": [
        "## Closing Price\n",
        "\n",
        "The closing price is the last price at which the stock is traded during the regular trading day. A stock’s closing price is the standard benchmark used by investors to track its performance over time."
      ]
    },
    {
      "cell_type": "code",
      "execution_count": null,
      "metadata": {
        "id": "ydHctiAKrTmy"
      },
      "outputs": [],
      "source": [
        "# Let's see a historical view of the closing price\n",
        "plt.figure(figsize=(15, 10))\n",
        "plt.subplots_adjust(top=1.25, bottom=1.2)\n",
        "\n",
        "for i, company in enumerate(company_list):\n",
        "    plt.subplot(2, 2, i + 1)\n",
        "    plt.plot(company.index, company['Close'])\n",
        "    plt.ylabel('Close')\n",
        "    plt.xlabel(None)\n",
        "    plt.title(f\"Closing Price of {tech_list[i]}\")\n",
        "\n",
        "plt.tight_layout()\n"
      ]
    },
    {
      "cell_type": "markdown",
      "metadata": {
        "id": "o7iVKpx0q3wX"
      },
      "source": [
        "## Volume of Sales\n",
        "Volume is the amount of an asset or security that changes hands over some period of time, often over the course of a day. For instance, the stock trading volume would refer to the number of shares of security traded between its daily open and close. Trading volume, and changes to volume over the course of time, are important inputs for technical traders."
      ]
    },
    {
      "cell_type": "code",
      "execution_count": null,
      "metadata": {
        "execution": {
          "iopub.execute_input": "2023-01-30T22:53:18.534757Z",
          "iopub.status.busy": "2023-01-30T22:53:18.534332Z",
          "iopub.status.idle": "2023-01-30T22:53:20.063873Z",
          "shell.execute_reply": "2023-01-30T22:53:20.062686Z",
          "shell.execute_reply.started": "2023-01-30T22:53:18.534721Z"
        },
        "id": "Z2cvIl3sq3wX",
        "trusted": true
      },
      "outputs": [],
      "source": [
        "# Now let's plot the total volume of stock being traded each day\n",
        "plt.figure(figsize=(15, 10))\n",
        "plt.subplots_adjust(top=1.25, bottom=1.2)\n",
        "\n",
        "for i, company in enumerate(company_list):\n",
        "    plt.subplot(2, 2, i + 1)\n",
        "    plt.plot(company.index, company['Volume'])\n",
        "    plt.ylabel('Volume')\n",
        "    plt.xlabel(None)\n",
        "    plt.title(f\"Sales Volume of {tech_list[i]}\")\n",
        "\n",
        "plt.tight_layout()\n"
      ]
    },
    {
      "cell_type": "markdown",
      "metadata": {
        "id": "Co-0GNweq3wX"
      },
      "source": [
        "Now that we've seen the visualizations for the closing price and the volume traded each day, let's go ahead and caculate the moving average for the stock."
      ]
    },
    {
      "cell_type": "markdown",
      "metadata": {
        "id": "oW3V3Criq3wX"
      },
      "source": [
        "# 2. What was the moving average of the various stocks?\n",
        "\n",
        "The moving average (MA) is a simple technical analysis tool that smooths out price data by creating a constantly updated average price. The average is taken over a specific period of time, like 10 days, 20 minutes, 30 weeks, or any time period the trader chooses."
      ]
    },
    {
      "cell_type": "code",
      "execution_count": null,
      "metadata": {
        "execution": {
          "iopub.execute_input": "2023-01-30T22:53:20.066321Z",
          "iopub.status.busy": "2023-01-30T22:53:20.065607Z",
          "iopub.status.idle": "2023-01-30T22:53:22.167966Z",
          "shell.execute_reply": "2023-01-30T22:53:22.166773Z",
          "shell.execute_reply.started": "2023-01-30T22:53:20.066274Z"
        },
        "id": "4Tt7xjuwq3wX",
        "trusted": true
      },
      "outputs": [],
      "source": [
        "ma_day = [10, 20, 50]\n",
        "\n",
        "for ma in ma_day:\n",
        "    for company in company_list:\n",
        "        column_name = f\"MA for {ma} days\"\n",
        "        company[column_name] = company['Close'].rolling(ma).mean()\n",
        "\n",
        "\n",
        "fig, axes = plt.subplots(nrows=2, ncols=2)\n",
        "fig.set_figheight(10)\n",
        "fig.set_figwidth(15)\n",
        "\n",
        "AAPL[['Close', 'MA for 10 days', 'MA for 20 days', 'MA for 50 days']].plot(ax=axes[0,0])\n",
        "axes[0,0].set_title('APPLE')\n",
        "\n",
        "GOOG[['Close', 'MA for 10 days', 'MA for 20 days', 'MA for 50 days']].plot(ax=axes[0,1])\n",
        "axes[0,1].set_title('GOOGLE')\n",
        "\n",
        "MSFT[['Close', 'MA for 10 days', 'MA for 20 days', 'MA for 50 days']].plot(ax=axes[1,0])\n",
        "axes[1,0].set_title('MICROSOFT')\n",
        "\n",
        "AMZN[['Close', 'MA for 10 days', 'MA for 20 days', 'MA for 50 days']].plot(ax=axes[1,1])\n",
        "axes[1,1].set_title('AMAZON')\n",
        "\n",
        "fig.tight_layout()"
      ]
    },
    {
      "cell_type": "markdown",
      "metadata": {
        "id": "qCgnBSOYq3wX"
      },
      "source": [
        "We see in the graph that the best values to measure the moving average are 10 and 20 days because we still capture trends in the data without noise."
      ]
    },
    {
      "cell_type": "markdown",
      "metadata": {
        "id": "lEkJCwSY3TzI"
      },
      "source": [
        "**Question 3: How does the choice of moving average window size (e.g., 20, 50, 100 days) impact the analysis of stock trends?**"
      ]
    },
    {
      "cell_type": "markdown",
      "metadata": {
        "id": "nUI7h1Ndq3wX"
      },
      "source": [
        "# 3. What was the daily return of the stock on average?"
      ]
    },
    {
      "cell_type": "markdown",
      "metadata": {
        "id": "cJCdLSCrq3wX"
      },
      "source": [
        "Now that we've done some baseline analysis, let's go ahead and dive a little deeper. We're now going to analyze the risk of the stock. In order to do so we'll need to take a closer look at the daily changes of the stock, and not just its absolute value."
      ]
    },
    {
      "cell_type": "code",
      "execution_count": null,
      "metadata": {
        "execution": {
          "iopub.execute_input": "2023-01-30T22:53:22.170167Z",
          "iopub.status.busy": "2023-01-30T22:53:22.169469Z",
          "iopub.status.idle": "2023-01-30T22:53:23.76016Z",
          "shell.execute_reply": "2023-01-30T22:53:23.758438Z",
          "shell.execute_reply.started": "2023-01-30T22:53:22.170126Z"
        },
        "id": "CVKd7SKmq3wX",
        "trusted": true
      },
      "outputs": [],
      "source": [
        "# We'll use pct_change to find the percent change for each day\n",
        "for company in company_list:\n",
        "    company['Daily Return'] = company['Close'].pct_change()\n",
        "\n",
        "# Then we'll plot the daily return percentage\n",
        "fig, axes = plt.subplots(nrows=2, ncols=2)\n",
        "fig.set_figheight(10)\n",
        "fig.set_figwidth(15)\n",
        "\n",
        "AAPL['Daily Return'].plot(ax=axes[0,0], legend=True, linestyle='--', marker='o')\n",
        "axes[0,0].set_title('APPLE')\n",
        "\n",
        "GOOG['Daily Return'].plot(ax=axes[0,1], legend=True, linestyle='--', marker='o')\n",
        "axes[0,1].set_title('GOOGLE')\n",
        "\n",
        "MSFT['Daily Return'].plot(ax=axes[1,0], legend=True, linestyle='--', marker='o')\n",
        "axes[1,0].set_title('MICROSOFT')\n",
        "\n",
        "AMZN['Daily Return'].plot(ax=axes[1,1], legend=True, linestyle='--', marker='o')\n",
        "axes[1,1].set_title('AMAZON')\n",
        "\n",
        "fig.tight_layout()"
      ]
    },
    {
      "cell_type": "markdown",
      "metadata": {
        "id": "6ccHQ4Lrq3wX"
      },
      "source": [
        "Great, now let's get an overall look at the average daily return using a histogram. We'll use seaborn to create both a histogram and kde plot on the same figure."
      ]
    },
    {
      "cell_type": "code",
      "execution_count": null,
      "metadata": {
        "execution": {
          "iopub.execute_input": "2023-01-30T22:53:23.762497Z",
          "iopub.status.busy": "2023-01-30T22:53:23.762096Z",
          "iopub.status.idle": "2023-01-30T22:53:25.223946Z",
          "shell.execute_reply": "2023-01-30T22:53:25.222884Z",
          "shell.execute_reply.started": "2023-01-30T22:53:23.762465Z"
        },
        "id": "xnJF3Rziq3wX",
        "trusted": true
      },
      "outputs": [],
      "source": [
        "plt.figure(figsize=(12, 9))\n",
        "\n",
        "for i, company in enumerate(company_list, 1):\n",
        "    plt.subplot(2, 2, i)\n",
        "    company['Daily Return'].hist(bins=50)\n",
        "    plt.xlabel('Daily Return')\n",
        "    plt.ylabel('Counts')\n",
        "    plt.title(f'{company_name[i - 1]}')\n",
        "\n",
        "plt.tight_layout()"
      ]
    },
    {
      "cell_type": "markdown",
      "metadata": {
        "id": "2OTW0a-hq3wX"
      },
      "source": [
        "# 4. What was the correlation between different stocks closing prices?"
      ]
    },
    {
      "cell_type": "markdown",
      "metadata": {
        "id": "ud1LE_9uq3wY"
      },
      "source": [
        "Correlation is a statistic that measures the degree to which two variables move in relation to each other which has a value that must fall between -1.0 and +1.0. Correlation measures association, but doesn’t show if x causes y or vice versa — or if the association is caused by a third factor[1].\n",
        "\n",
        "Now what if we wanted to analyze the returns of all the stocks in our list? Let's go ahead and build a DataFrame with all the ['Close'] columns for each of the stocks dataframes."
      ]
    },
    {
      "cell_type": "code",
      "execution_count": null,
      "metadata": {
        "execution": {
          "iopub.execute_input": "2023-01-30T22:53:25.228619Z",
          "iopub.status.busy": "2023-01-30T22:53:25.2276Z",
          "iopub.status.idle": "2023-01-30T22:53:25.672267Z",
          "shell.execute_reply": "2023-01-30T22:53:25.670437Z",
          "shell.execute_reply.started": "2023-01-30T22:53:25.228575Z"
        },
        "id": "rx5lnVfDq3wY",
        "trusted": true
      },
      "outputs": [],
      "source": [
        "# Grab all the closing prices for the tech stock list into one DataFrame\n",
        "\n",
        "closing_df = yf.download(tech_list, start=start, end=end)['Close']\n",
        "\n",
        "# Make a new tech returns DataFrame\n",
        "tech_rets = closing_df.pct_change()\n",
        "tech_rets.head()"
      ]
    },
    {
      "cell_type": "markdown",
      "metadata": {
        "id": "xZt1uJwTq3wY"
      },
      "source": [
        "Now we can compare the daily percentage return of two stocks to check how correlated. First let's see a sotck compared to itself."
      ]
    },
    {
      "cell_type": "code",
      "execution_count": null,
      "metadata": {
        "execution": {
          "iopub.execute_input": "2023-01-30T22:53:25.674901Z",
          "iopub.status.busy": "2023-01-30T22:53:25.674373Z",
          "iopub.status.idle": "2023-01-30T22:53:26.430112Z",
          "shell.execute_reply": "2023-01-30T22:53:26.428883Z",
          "shell.execute_reply.started": "2023-01-30T22:53:25.674841Z"
        },
        "id": "k-x6SOhMq3wY",
        "trusted": true
      },
      "outputs": [],
      "source": [
        "# Comparing Google to itself should show a perfectly linear relationship\n",
        "sns.jointplot(x='GOOG', y='GOOG', data=tech_rets, kind='scatter', color='seagreen')"
      ]
    },
    {
      "cell_type": "code",
      "execution_count": null,
      "metadata": {
        "execution": {
          "iopub.execute_input": "2023-01-30T22:53:26.433128Z",
          "iopub.status.busy": "2023-01-30T22:53:26.431785Z",
          "iopub.status.idle": "2023-01-30T22:53:27.137587Z",
          "shell.execute_reply": "2023-01-30T22:53:27.136302Z",
          "shell.execute_reply.started": "2023-01-30T22:53:26.433077Z"
        },
        "id": "CuXRfocwq3wY",
        "trusted": true
      },
      "outputs": [],
      "source": [
        "# We'll use joinplot to compare the daily returns of Google and Microsoft\n",
        "sns.jointplot(x='GOOG', y='MSFT', data=tech_rets, kind='scatter')"
      ]
    },
    {
      "cell_type": "markdown",
      "metadata": {
        "id": "VPbUpsjnq3wY"
      },
      "source": [
        "So now we can see that if two stocks are perfectly (and positivley) correlated with each other a linear relationship bewteen its daily return values should occur.\n",
        "\n",
        "Seaborn and pandas make it very easy to repeat this comparison analysis for every possible combination of stocks in our technology stock ticker list. We can use sns.pairplot() to automatically create this plot"
      ]
    },
    {
      "cell_type": "code",
      "execution_count": null,
      "metadata": {
        "execution": {
          "iopub.execute_input": "2023-01-30T22:53:27.139998Z",
          "iopub.status.busy": "2023-01-30T22:53:27.139622Z",
          "iopub.status.idle": "2023-01-30T22:53:32.327777Z",
          "shell.execute_reply": "2023-01-30T22:53:32.325975Z",
          "shell.execute_reply.started": "2023-01-30T22:53:27.139967Z"
        },
        "id": "fgAwN9Svq3wZ",
        "trusted": true
      },
      "outputs": [],
      "source": [
        "# We can simply call pairplot on our DataFrame for an automatic visual analysis\n",
        "# of all the comparisons\n",
        "\n",
        "sns.pairplot(tech_rets, kind='reg')"
      ]
    },
    {
      "cell_type": "markdown",
      "metadata": {
        "id": "8tHaRcGJq3wZ"
      },
      "source": [
        "\n",
        "\n",
        "Above we can see all the relationships on daily returns between all the stocks. Let's investigate further the correlation between Google and Amazon daily returns.\n",
        "\n",
        "While the simplicity of just calling `sns.pairplot()` is fantastic we can also use `sns.PairGrid()` for full control of the figure, including what kind of plots go in the diagonal, the upper triangle, and the lower triangle. Below is an example of utilizing the full power of seaborn to achieve this result."
      ]
    },
    {
      "cell_type": "code",
      "execution_count": null,
      "metadata": {
        "execution": {
          "iopub.execute_input": "2023-01-30T22:53:32.330154Z",
          "iopub.status.busy": "2023-01-30T22:53:32.329737Z",
          "iopub.status.idle": "2023-01-30T22:53:36.190698Z",
          "shell.execute_reply": "2023-01-30T22:53:36.189487Z",
          "shell.execute_reply.started": "2023-01-30T22:53:32.33012Z"
        },
        "id": "zDtAEKF9q3wZ",
        "trusted": true
      },
      "outputs": [],
      "source": [
        "# Set up our figure by naming it returns_fig, call PairPLot on the DataFrame\n",
        "return_fig = sns.PairGrid(tech_rets.dropna())\n",
        "\n",
        "# Using map_upper we can specify what the upper triangle will look like.\n",
        "return_fig.map_upper(plt.scatter, color='purple')\n",
        "\n",
        "# We can also define the lower triangle in the figure, inclufing the plot type (kde)\n",
        "# or the color map (BluePurple)\n",
        "return_fig.map_lower(sns.kdeplot, cmap='cool_d')\n",
        "\n",
        "# Finally we'll define the diagonal as a series of histogram plots of the daily return\n",
        "return_fig.map_diag(plt.hist, bins=30)"
      ]
    },
    {
      "cell_type": "code",
      "execution_count": null,
      "metadata": {
        "execution": {
          "iopub.execute_input": "2023-01-30T22:53:36.192306Z",
          "iopub.status.busy": "2023-01-30T22:53:36.191973Z",
          "iopub.status.idle": "2023-01-30T22:53:40.501339Z",
          "shell.execute_reply": "2023-01-30T22:53:40.50005Z",
          "shell.execute_reply.started": "2023-01-30T22:53:36.192275Z"
        },
        "id": "rONAp1dOq3wZ",
        "trusted": true
      },
      "outputs": [],
      "source": [
        "# Set up our figure by naming it returns_fig, call PairPLot on the DataFrame\n",
        "returns_fig = sns.PairGrid(closing_df)\n",
        "\n",
        "# Using map_upper we can specify what the upper triangle will look like.\n",
        "returns_fig.map_upper(plt.scatter,color='purple')\n",
        "\n",
        "# We can also define the lower triangle in the figure, inclufing the plot type (kde) or the color map (BluePurple)\n",
        "returns_fig.map_lower(sns.kdeplot,cmap='cool_d')\n",
        "\n",
        "# Finally we'll define the diagonal as a series of histogram plots of the daily return\n",
        "returns_fig.map_diag(plt.hist,bins=30)"
      ]
    },
    {
      "cell_type": "markdown",
      "metadata": {
        "id": "iqa0Fso4q3wZ"
      },
      "source": [
        "Finally, we could also do a correlation plot, to get actual numerical values for the correlation between the stocks' daily return values. By comparing the closing prices, we see an interesting relationship between Microsoft and Apple."
      ]
    },
    {
      "cell_type": "code",
      "execution_count": null,
      "metadata": {
        "execution": {
          "iopub.execute_input": "2023-01-30T22:53:40.504161Z",
          "iopub.status.busy": "2023-01-30T22:53:40.503245Z",
          "iopub.status.idle": "2023-01-30T22:53:41.154687Z",
          "shell.execute_reply": "2023-01-30T22:53:41.153398Z",
          "shell.execute_reply.started": "2023-01-30T22:53:40.504113Z"
        },
        "id": "roKk3te-q3wa",
        "trusted": true
      },
      "outputs": [],
      "source": [
        "plt.figure(figsize=(12, 10))\n",
        "\n",
        "plt.subplot(2, 2, 1)\n",
        "sns.heatmap(tech_rets.corr(), annot=True, cmap='summer')\n",
        "plt.title('Correlation of stock return')\n",
        "\n",
        "plt.subplot(2, 2, 2)\n",
        "sns.heatmap(closing_df.corr(), annot=True, cmap='summer')\n",
        "plt.title('Correlation of stock closing price')"
      ]
    },
    {
      "cell_type": "markdown",
      "metadata": {
        "id": "Ptsa7ujsq3wa"
      },
      "source": [
        "We see here numerically and visually that Microsoft and Amazon had the strongest correlation of daily stock return. It's also interesting to see that all the technology comapnies are positively correlated."
      ]
    },
    {
      "cell_type": "markdown",
      "metadata": {
        "id": "cmHzAY-yq3wa"
      },
      "source": [
        "# 5. How much value do we put at risk by investing in a particular stock?"
      ]
    },
    {
      "cell_type": "markdown",
      "metadata": {
        "id": "nYoD5PUbq3wh"
      },
      "source": [
        "There are many ways we can quantify risk, one of the most basic ways using the information we've gathered on daily percentage returns is by comparing the expected return with the standard deviation of the daily returns."
      ]
    },
    {
      "cell_type": "code",
      "execution_count": null,
      "metadata": {
        "execution": {
          "iopub.execute_input": "2023-01-30T22:53:41.156939Z",
          "iopub.status.busy": "2023-01-30T22:53:41.156429Z",
          "iopub.status.idle": "2023-01-30T22:53:41.598482Z",
          "shell.execute_reply": "2023-01-30T22:53:41.597219Z",
          "shell.execute_reply.started": "2023-01-30T22:53:41.156891Z"
        },
        "id": "ydUiHR5Jq3wh",
        "trusted": true
      },
      "outputs": [],
      "source": [
        "rets = tech_rets.dropna()\n",
        "\n",
        "area = np.pi * 20\n",
        "\n",
        "plt.figure(figsize=(10, 8))\n",
        "plt.scatter(rets.mean(), rets.std(), s=area)\n",
        "plt.xlabel('Expected return')\n",
        "plt.ylabel('Risk')\n",
        "\n",
        "for label, x, y in zip(rets.columns, rets.mean(), rets.std()):\n",
        "    plt.annotate(label, xy=(x, y), xytext=(50, 50), textcoords='offset points', ha='right', va='bottom',\n",
        "                 arrowprops=dict(arrowstyle='-', color='blue', connectionstyle='arc3,rad=-0.3'))"
      ]
    },
    {
      "cell_type": "markdown",
      "metadata": {
        "id": "zhYNOJw7q3wh"
      },
      "source": [
        "# 6. Predicting the closing price stock price of APPLE inc:"
      ]
    },
    {
      "cell_type": "code",
      "execution_count": null,
      "metadata": {
        "execution": {
          "iopub.execute_input": "2023-01-30T22:54:21.093063Z",
          "iopub.status.busy": "2023-01-30T22:54:21.092621Z",
          "iopub.status.idle": "2023-01-30T22:54:21.730045Z",
          "shell.execute_reply": "2023-01-30T22:54:21.728467Z",
          "shell.execute_reply.started": "2023-01-30T22:54:21.093029Z"
        },
        "id": "9ykIxcfeq3wh",
        "trusted": true
      },
      "outputs": [],
      "source": [
        "# Get the stock quote\n",
        "df = yf.download('AAPL', start='2012-01-01', end=datetime.now())\n",
        "# Show the data\n",
        "df"
      ]
    },
    {
      "cell_type": "code",
      "execution_count": null,
      "metadata": {
        "execution": {
          "iopub.execute_input": "2023-01-30T22:54:24.484575Z",
          "iopub.status.busy": "2023-01-30T22:54:24.484162Z",
          "iopub.status.idle": "2023-01-30T22:54:24.949002Z",
          "shell.execute_reply": "2023-01-30T22:54:24.947341Z",
          "shell.execute_reply.started": "2023-01-30T22:54:24.484543Z"
        },
        "id": "iBzqJ1I2q3wh",
        "trusted": true
      },
      "outputs": [],
      "source": [
        "plt.figure(figsize=(16,6))\n",
        "plt.title('Close Price History')\n",
        "plt.plot(df['Close'])\n",
        "plt.xlabel('Date', fontsize=18)\n",
        "plt.ylabel('Close Price USD ($)', fontsize=18)\n",
        "plt.show()"
      ]
    },
    {
      "cell_type": "code",
      "execution_count": null,
      "metadata": {
        "execution": {
          "iopub.execute_input": "2023-01-30T22:54:25.697256Z",
          "iopub.status.busy": "2023-01-30T22:54:25.696185Z",
          "iopub.status.idle": "2023-01-30T22:54:25.705935Z",
          "shell.execute_reply": "2023-01-30T22:54:25.704797Z",
          "shell.execute_reply.started": "2023-01-30T22:54:25.697213Z"
        },
        "id": "Au1mNpQLq3wh",
        "trusted": true
      },
      "outputs": [],
      "source": [
        "# Create a new dataframe with only the 'Close column\n",
        "data = df['Close']\n",
        "# Convert the dataframe to a numpy array\n",
        "dataset = data.values\n",
        "# Get the number of rows to train the model on\n",
        "training_data_len = int(np.ceil( len(dataset) * .95 ))\n",
        "\n",
        "training_data_len"
      ]
    },
    {
      "cell_type": "code",
      "execution_count": null,
      "metadata": {
        "execution": {
          "iopub.execute_input": "2023-01-30T22:54:26.923513Z",
          "iopub.status.busy": "2023-01-30T22:54:26.922566Z",
          "iopub.status.idle": "2023-01-30T22:54:27.008859Z",
          "shell.execute_reply": "2023-01-30T22:54:27.007904Z",
          "shell.execute_reply.started": "2023-01-30T22:54:26.923473Z"
        },
        "id": "2jk2x-aKq3wi",
        "trusted": true
      },
      "outputs": [],
      "source": [
        "# Scale the data\n",
        "from sklearn.preprocessing import MinMaxScaler\n",
        "\n",
        "scaler = MinMaxScaler(feature_range=(0,1))\n",
        "scaled_data = scaler.fit_transform(dataset)\n",
        "\n",
        "scaled_data"
      ]
    },
    {
      "cell_type": "code",
      "execution_count": null,
      "metadata": {
        "_kg_hide-output": true,
        "execution": {
          "iopub.execute_input": "2023-01-30T22:54:28.565665Z",
          "iopub.status.busy": "2023-01-30T22:54:28.564506Z",
          "iopub.status.idle": "2023-01-30T22:54:28.583517Z",
          "shell.execute_reply": "2023-01-30T22:54:28.581937Z",
          "shell.execute_reply.started": "2023-01-30T22:54:28.565624Z"
        },
        "id": "AGXYgVTnq3wi",
        "trusted": true
      },
      "outputs": [],
      "source": [
        "# Create the training data set\n",
        "# Create the scaled training data set\n",
        "train_data = scaled_data[0:int(training_data_len), :]\n",
        "# Split the data into x_train and y_train data sets\n",
        "x_train = []\n",
        "y_train = []\n",
        "\n",
        "for i in range(60, len(train_data)):\n",
        "    x_train.append(train_data[i-60:i, 0])\n",
        "    y_train.append(train_data[i, 0])\n",
        "    if i<= 61:\n",
        "        print(x_train)\n",
        "        print(y_train)\n",
        "        print()\n",
        "\n",
        "# Convert the x_train and y_train to numpy arrays\n",
        "x_train, y_train = np.array(x_train), np.array(y_train)\n",
        "\n",
        "# Reshape the data\n",
        "x_train = np.reshape(x_train, (x_train.shape[0], x_train.shape[1], 1))\n",
        "# x_train.shape"
      ]
    },
    {
      "cell_type": "code",
      "execution_count": null,
      "metadata": {
        "execution": {
          "iopub.execute_input": "2023-01-30T22:54:29.785159Z",
          "iopub.status.busy": "2023-01-30T22:54:29.78365Z",
          "iopub.status.idle": "2023-01-30T22:56:54.386331Z",
          "shell.execute_reply": "2023-01-30T22:56:54.385391Z",
          "shell.execute_reply.started": "2023-01-30T22:54:29.785089Z"
        },
        "id": "cR1aMMLrq3wi",
        "trusted": true
      },
      "outputs": [],
      "source": [
        "from keras.models import Sequential\n",
        "from keras.layers import Dense, LSTM\n",
        "\n",
        "# Build the LSTM model\n",
        "model = Sequential()\n",
        "model.add(LSTM(128, return_sequences=True, input_shape= (x_train.shape[1], 1)))\n",
        "model.add(LSTM(64, return_sequences=False))\n",
        "model.add(Dense(25))\n",
        "model.add(Dense(1))\n",
        "\n",
        "# Compile the model\n",
        "model.compile(optimizer='adam', loss='mean_squared_error')\n",
        "\n",
        "# Train the model\n",
        "model.fit(x_train, y_train, batch_size=1, epochs=1)"
      ]
    },
    {
      "cell_type": "code",
      "execution_count": null,
      "metadata": {
        "execution": {
          "iopub.execute_input": "2023-01-30T22:56:54.38823Z",
          "iopub.status.busy": "2023-01-30T22:56:54.387851Z",
          "iopub.status.idle": "2023-01-30T22:56:55.516442Z",
          "shell.execute_reply": "2023-01-30T22:56:55.515051Z",
          "shell.execute_reply.started": "2023-01-30T22:56:54.388197Z"
        },
        "id": "_4d-WNHsq3wi",
        "trusted": true
      },
      "outputs": [],
      "source": [
        "# Create the testing data set\n",
        "# Create a new array containing scaled values from index 1543 to 2002\n",
        "test_data = scaled_data[training_data_len - 60: , :]\n",
        "# Create the data sets x_test and y_test\n",
        "x_test = []\n",
        "y_test = dataset[training_data_len:, :]\n",
        "for i in range(60, len(test_data)):\n",
        "    x_test.append(test_data[i-60:i, 0])\n",
        "\n",
        "# Convert the data to a numpy array\n",
        "x_test = np.array(x_test)\n",
        "\n",
        "# Reshape the data\n",
        "x_test = np.reshape(x_test, (x_test.shape[0], x_test.shape[1], 1 ))\n",
        "\n",
        "# Get the models predicted price values\n",
        "predictions = model.predict(x_test)\n",
        "predictions = scaler.inverse_transform(predictions)\n",
        "\n",
        "# Get the root mean squared error (RMSE)\n",
        "rmse = np.sqrt(np.mean(((predictions - y_test) ** 2)))\n",
        "rmse"
      ]
    },
    {
      "cell_type": "code",
      "execution_count": null,
      "metadata": {
        "execution": {
          "iopub.execute_input": "2023-01-30T22:56:55.520239Z",
          "iopub.status.busy": "2023-01-30T22:56:55.519391Z",
          "iopub.status.idle": "2023-01-30T22:56:56.035566Z",
          "shell.execute_reply": "2023-01-30T22:56:56.034289Z",
          "shell.execute_reply.started": "2023-01-30T22:56:55.52019Z"
        },
        "id": "xg-J0WH2q3wi",
        "trusted": true
      },
      "outputs": [],
      "source": [
        "\n",
        "\n",
        "# Visualize the data\n",
        "plt.figure(figsize=(16,6))\n",
        "plt.title('Model')\n",
        "plt.xlabel('Date', fontsize=18)\n",
        "plt.ylabel('Close Price USD ($)', fontsize=18)\n",
        "plt.plot(y_test)\n",
        "plt.plot(predictions)\n",
        "plt.legend(['Train', 'Predictions'], loc='lower right')\n",
        "plt.show()"
      ]
    },
    {
      "cell_type": "markdown",
      "metadata": {
        "id": "xlZtXQFY3wjH"
      },
      "source": [
        "**Question 4: What are the key steps involved in preparing data for an LSTM model? Why are these steps necessary?**\n",
        "\n",
        "**Question 5: After training the LSTM, evaluate its performance. How well does the model predict stock prices, and what might be causing any inaccuracies?**\n",
        "\n",
        "**Question 6: Discuss the limitations of using an LSTM for stock price prediction. What other approaches could be used, and why?**\n",
        "\n",
        "**Question 7: You have a friend looking to invest. How would you explain the results of your model, so that your friend can make an informed decision whether to use it or not?**"
      ]
    },
    {
      "cell_type": "markdown",
      "metadata": {
        "id": "VyCUDOMauEBl"
      },
      "source": [
        "\n",
        "# Grading Chart\n",
        "\n",
        "| **Question** | **Criteria** | **Points** |\n",
        "|-------------|-------------|------------|\n",
        "| 1 |  Clear explanation of the importance of time range selection. <br>  Discussion on how it influences stock analysis. | 1|\n",
        "| 2|  Identification of key limitations. <br>  Explanation of potential biases or missing data. | 1 |\n",
        "|3 | Understanding of moving averages. <br> Explanation of how different window sizes affect trend analysis. | 1 |\n",
        "| 4 |  Explanation of data preparation | 2 |\n",
        "| 5 |   Explanation of LSTM for stock prediction. <br> Interpretation of results and model accuracy. | 2 |\n",
        "| 6|  Discussion of the limitations. <br> Proposals for other approaches. | 1 |\n",
        "| 7| Model results explanation. <br> Explanation of key factors. | 2 |\n",
        "\n"
      ]
    }
  ],
  "metadata": {
    "accelerator": "GPU",
    "colab": {
      "gpuType": "T4",
      "provenance": []
    },
    "kaggle": {
      "accelerator": "none",
      "dataSources": [
        {
          "datasetId": 1007,
          "sourceId": 1814,
          "sourceType": "datasetVersion"
        },
        {
          "datasetId": 1908,
          "sourceId": 17155,
          "sourceType": "datasetVersion"
        },
        {
          "datasetId": 195545,
          "sourceId": 433077,
          "sourceType": "datasetVersion"
        },
        {
          "datasetId": 533900,
          "sourceId": 976925,
          "sourceType": "datasetVersion"
        }
      ],
      "isGpuEnabled": false,
      "isInternetEnabled": false,
      "language": "python",
      "sourceType": "notebook"
    },
    "kernelspec": {
      "display_name": ".venv",
      "language": "python",
      "name": "python3"
    },
    "language_info": {
      "codemirror_mode": {
        "name": "ipython",
        "version": 3
      },
      "file_extension": ".py",
      "mimetype": "text/x-python",
      "name": "python",
      "nbconvert_exporter": "python",
      "pygments_lexer": "ipython3",
      "version": "3.11.2"
    }
  },
  "nbformat": 4,
  "nbformat_minor": 0
}
