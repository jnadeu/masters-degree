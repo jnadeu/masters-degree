{
 "cells": [
  {
   "cell_type": "markdown",
   "metadata": {},
   "source": [
    "# Bernoulli random experiment "
   ]
  },
  {
   "cell_type": "markdown",
   "metadata": {},
   "source": [
    "An experiment is called a Bernoulli distribution if it meets the following conditions:\n",
    "\n",
    "1.\tThe experiment consists of two outcomes: the outcome of interest (commonly called “success”) and the outcome not of interest (commonly called “failure”).\n",
    "2.\tThe experiment is performed only once\n"
   ]
  },
  {
   "cell_type": "code",
   "execution_count": 1,
   "metadata": {},
   "outputs": [
    {
     "data": {
      "text/plain": [
       "array([1], dtype=int64)"
      ]
     },
     "execution_count": 1,
     "metadata": {},
     "output_type": "execute_result"
    }
   ],
   "source": [
    "#For example, toss one coin with a success probability of 50%\n",
    "\n",
    "from scipy.stats import bernoulli\n",
    "bernoulli.rvs(p=0.5, size = 1)"
   ]
  },
  {
   "cell_type": "code",
   "execution_count": 2,
   "metadata": {},
   "outputs": [],
   "source": [
    "#Note: \n",
    "#p = probability of success\n",
    "#size = number of coins tossed\n"
   ]
  },
  {
   "cell_type": "code",
   "execution_count": 3,
   "metadata": {},
   "outputs": [
    {
     "data": {
      "text/plain": [
       "array([0, 1, 0, 1, 0, 1, 0, 0, 1, 1], dtype=int64)"
      ]
     },
     "execution_count": 3,
     "metadata": {},
     "output_type": "execute_result"
    }
   ],
   "source": [
    "#For example, change the number of coins tossed to 10\n",
    "from scipy.stats import bernoulli\n",
    "bernoulli.rvs(p=0.5, size = 10)"
   ]
  },
  {
   "cell_type": "code",
   "execution_count": 4,
   "metadata": {},
   "outputs": [
    {
     "data": {
      "text/plain": [
       "6"
      ]
     },
     "execution_count": 4,
     "metadata": {},
     "output_type": "execute_result"
    }
   ],
   "source": [
    "#To count the number of heads or tails that appear \n",
    "#How many heads\n",
    "sum(bernoulli.rvs(p=0.5, size = 10))"
   ]
  },
  {
   "cell_type": "code",
   "execution_count": 5,
   "metadata": {},
   "outputs": [
    {
     "data": {
      "text/plain": [
       "5"
      ]
     },
     "execution_count": 5,
     "metadata": {},
     "output_type": "execute_result"
    }
   ],
   "source": [
    "#another draw\n",
    "\n",
    "sum(bernoulli.rvs(p=0.5, size = 10))"
   ]
  },
  {
   "cell_type": "markdown",
   "metadata": {},
   "source": [
    "## Binomial random variable\n"
   ]
  },
  {
   "cell_type": "raw",
   "metadata": {},
   "source": [
    "\n",
    "An experiment is called a binomial distribution if it meets the following conditions:\n",
    "1.\tThe experiment consists of 2 events: success and failure\n",
    "2.\tThe experiment is repeated a fixed number of times\n",
    "3.\tThe probability of success and failure remains constant for each trial\n",
    "4.\tEach trial is independent"
   ]
  },
  {
   "cell_type": "code",
   "execution_count": 6,
   "metadata": {},
   "outputs": [
    {
     "data": {
      "text/plain": [
       "array([5], dtype=int64)"
      ]
     },
     "execution_count": 6,
     "metadata": {},
     "output_type": "execute_result"
    }
   ],
   "source": [
    "#For example, toss one coin 10 times with a success probability of 50%.\n",
    "from scipy.stats import binom\n",
    "binom.rvs(n=10, p=0.5, size=1)"
   ]
  },
  {
   "cell_type": "code",
   "execution_count": 7,
   "metadata": {},
   "outputs": [],
   "source": [
    "#Note: \n",
    "#n = number of trials\n",
    "#p = probability of success \n",
    "#size = number of coins tossed"
   ]
  },
  {
   "cell_type": "code",
   "execution_count": 8,
   "metadata": {},
   "outputs": [
    {
     "data": {
      "text/plain": [
       "array([8, 4, 4, 5, 5, 4, 4, 9, 4, 3], dtype=int64)"
      ]
     },
     "execution_count": 8,
     "metadata": {},
     "output_type": "execute_result"
    }
   ],
   "source": [
    "# For example, toss 10 coins in 10 trials with a success probability of 50%.\n",
    "from scipy.stats import binom\n",
    "binom.rvs(n=10, p=0.5, size=10)"
   ]
  },
  {
   "cell_type": "markdown",
   "metadata": {},
   "source": [
    "### Random generator seed\n"
   ]
  },
  {
   "cell_type": "raw",
   "metadata": {},
   "source": [
    "np.random.seed(42) is used to generate random values; the values produced will be the same whenever and wherever you run it.\n",
    "\n"
   ]
  },
  {
   "cell_type": "code",
   "execution_count": 9,
   "metadata": {},
   "outputs": [
    {
     "data": {
      "text/plain": [
       "array([4], dtype=int64)"
      ]
     },
     "execution_count": 9,
     "metadata": {},
     "output_type": "execute_result"
    }
   ],
   "source": [
    "from scipy.stats import binom\n",
    "import numpy as np\n",
    "np.random.seed(42)\n",
    "binom.rvs(n=10, p=0.5, size=1)"
   ]
  },
  {
   "cell_type": "code",
   "execution_count": 10,
   "metadata": {},
   "outputs": [
    {
     "data": {
      "text/plain": [
       "array([4], dtype=int64)"
      ]
     },
     "execution_count": 10,
     "metadata": {},
     "output_type": "execute_result"
    }
   ],
   "source": [
    "from scipy.stats import binom\n",
    "np.random.seed(42)\n",
    "binom.rvs(n=10, p=0.5, size=1)"
   ]
  },
  {
   "cell_type": "markdown",
   "metadata": {},
   "source": [
    "## Probability mass and distribution functions"
   ]
  },
  {
   "cell_type": "markdown",
   "metadata": {},
   "source": [
    "### Probability mass functions"
   ]
  },
  {
   "cell_type": "raw",
   "metadata": {},
   "source": [
    "Probability mass function (pmf) is a function that gives the probability that a discrete random variable is exactly equal to some value. (Source: Wikipedia)\n"
   ]
  },
  {
   "cell_type": "code",
   "execution_count": 11,
   "metadata": {},
   "outputs": [
    {
     "data": {
      "text/plain": [
       "0.04394531250000005"
      ]
     },
     "execution_count": 11,
     "metadata": {},
     "output_type": "execute_result"
    }
   ],
   "source": [
    "#For example, find the probability of getting exactly 2 heads in 10 trials \n",
    "#dan peluang berhasil sebanyak 50%.\n",
    "\n",
    "# Probability of 2 heads after 10 throws with a fair coin\n",
    "from scipy.stats import binom\n",
    "binom.pmf(k = 2, n = 10, p = 0.5)"
   ]
  },
  {
   "cell_type": "raw",
   "metadata": {},
   "source": [
    "# Note:\n",
    "k = number of expected successes  \n",
    "n = number of trials  \n",
    "p = probability of success  "
   ]
  },
  {
   "cell_type": "code",
   "execution_count": 12,
   "metadata": {},
   "outputs": [
    {
     "data": {
      "text/plain": [
       "0.24609375"
      ]
     },
     "execution_count": 12,
     "metadata": {},
     "output_type": "execute_result"
    }
   ],
   "source": [
    "#For example, find the probability of getting exactly 5 heads in 10 trials \n",
    "# and success probability of 50%.\n",
    "\n",
    "# Probability of 2 heads after 10 throws with a fair coin\n",
    "from scipy.stats import binom\n",
    "binom.pmf(k = 5, n = 10, p = 0.5)"
   ]
  },
  {
   "cell_type": "code",
   "execution_count": 13,
   "metadata": {},
   "outputs": [
    {
     "data": {
      "text/plain": [
       "1.3026227131445274e-05"
      ]
     },
     "execution_count": 13,
     "metadata": {},
     "output_type": "execute_result"
    }
   ],
   "source": [
    "#For example, find the probability of getting exactly 50 heads in 100 trials \n",
    "# and success probability of 30%.\n",
    "\n",
    "# Probability of 50 heads after 100 throws with p=0.3\n",
    "\n",
    "from scipy.stats import binom\n",
    "binom.pmf(k = 50, n = 100, p = 0.3)"
   ]
  },
  {
   "cell_type": "code",
   "execution_count": 14,
   "metadata": {},
   "outputs": [
    {
     "data": {
      "text/plain": [
       "0.046779682352730015"
      ]
     },
     "execution_count": 14,
     "metadata": {},
     "output_type": "execute_result"
    }
   ],
   "source": [
    "# For example, find the probability of getting exactly 65 heads in 100 trials\n",
    "# with a success probability of 70%.\n",
    "\n",
    "from scipy.stats import binom\n",
    "binom.pmf(k = 65, n = 100, p = 0.7)"
   ]
  },
  {
   "cell_type": "markdown",
   "metadata": {},
   "source": [
    "### Cumulative distribution function (cdf) "
   ]
  },
  {
   "cell_type": "markdown",
   "metadata": {},
   "source": [
    "### To find the probability of getting less than"
   ]
  },
  {
   "cell_type": "raw",
   "metadata": {},
   "source": [
    "Cumulative distribution function (cdf) or the cumulative distribution function (cdf) is a probability function that gives the probability that a discrete random variable will take a value less than or equal to a given number (Source: Wikipedia)"
   ]
  },
  {
   "cell_type": "code",
   "execution_count": 15,
   "metadata": {},
   "outputs": [
    {
     "data": {
      "text/plain": [
       "0.623046875"
      ]
     },
     "execution_count": 15,
     "metadata": {},
     "output_type": "execute_result"
    }
   ],
   "source": [
    "#For example, find the probability of getting 5 or fewer heads in 10 trials \n",
    "# and success probability of 50%.\n",
    "\n",
    "# Probability of 5 heads or less after 10 throws with a fair coin\n",
    "from scipy.stats import binom\n",
    "binom.cdf(k = 5, n = 10, p = 0.5)"
   ]
  },
  {
   "cell_type": "raw",
   "metadata": {},
   "source": [
    "# Note:\n",
    "k = number of expected successes  \n",
    "n = number of trials  \n",
    "p = probability of success  \n",
    "\n",
    "This cumulative distribution function computes the probability from k = 0 up to the specified k value.  \n",
    "This differs from the probability mass function, which computes the probability exactly at k.  "
   ]
  },
  {
   "cell_type": "code",
   "execution_count": 16,
   "metadata": {},
   "outputs": [
    {
     "data": {
      "text/plain": [
       "0.9999909653138043"
      ]
     },
     "execution_count": 16,
     "metadata": {},
     "output_type": "execute_result"
    }
   ],
   "source": [
    "#For example, find the probability of getting 50 or fewer heads in 100 trials \n",
    "# and success probability of 30%.\n",
    "\n",
    "# Probability of 50 heads or less after 100 throws with p=0.3\n",
    "from scipy.stats import binom\n",
    "binom.cdf(k=50, n=100, p=0.3)"
   ]
  },
  {
   "cell_type": "markdown",
   "metadata": {},
   "source": [
    "### To find the probability of getting more than"
   ]
  },
  {
   "cell_type": "code",
   "execution_count": 17,
   "metadata": {},
   "outputs": [
    {
     "data": {
      "text/plain": [
       "0.9875015928335618"
      ]
     },
     "execution_count": 17,
     "metadata": {},
     "output_type": "execute_result"
    }
   ],
   "source": [
    "#For example, find the probability of getting more than 59 heads in 100 trials \n",
    "# and success probability of 70%.\n",
    "\n",
    "# Probability of more than 59 heads after 100 throws with p=0.7\n",
    "1-binom.cdf(k=59,n=100,p=0.7)"
   ]
  },
  {
   "cell_type": "raw",
   "metadata": {},
   "source": [
    "# Note:\n",
    "k = number of expected successes  \n",
    "n = number of trials  \n",
    "p = probability of success  "
   ]
  },
  {
   "cell_type": "markdown",
   "metadata": {},
   "source": [
    "### Expected Value  "
   ]
  },
  {
   "cell_type": "markdown",
   "metadata": {},
   "source": [
    "Expected value of a random variable represents the average outcome expected from a random experiment, or the tendency of results that will occur."
   ]
  },
  {
   "cell_type": "markdown",
   "metadata": {},
   "source": [
    "### Arithmetic mean"
   ]
  },
  {
   "cell_type": "markdown",
   "metadata": {},
   "source": [
    "In Python, we use scipy.stats.describe() to obtain the arithmetic mean."
   ]
  },
  {
   "cell_type": "code",
   "execution_count": 18,
   "metadata": {},
   "outputs": [
    {
     "data": {
      "text/plain": [
       "0.5"
      ]
     },
     "execution_count": 18,
     "metadata": {},
     "output_type": "execute_result"
    }
   ],
   "source": [
    "# For example, find the mean of 0 and 1\n",
    "from scipy.stats import describe\n",
    "describe([0,1]).mean"
   ]
  },
  {
   "cell_type": "markdown",
   "metadata": {},
   "source": [
    "## Variance"
   ]
  },
  {
   "cell_type": "markdown",
   "metadata": {},
   "source": [
    "Variance is used to describe the spread of a distribution around its center. The expected value does not explain the shape or variability of a distribution."
   ]
  },
  {
   "cell_type": "markdown",
   "metadata": {},
   "source": [
    "In Python, we use scipy.stats.describe() to obtain the variance."
   ]
  },
  {
   "cell_type": "code",
   "execution_count": 19,
   "metadata": {},
   "outputs": [
    {
     "data": {
      "text/plain": [
       "0.5"
      ]
     },
     "execution_count": 19,
     "metadata": {},
     "output_type": "execute_result"
    }
   ],
   "source": [
    "from scipy.stats import describe\n",
    "describe ([0,1]).variance"
   ]
  },
  {
   "cell_type": "markdown",
   "metadata": {},
   "source": [
    "# Binomial distribution expected value and variance"
   ]
  },
  {
   "cell_type": "markdown",
   "metadata": {},
   "source": [
    "In Python, we use binom.stats() to obtain the mean and variance of the binomial distribution"
   ]
  },
  {
   "cell_type": "markdown",
   "metadata": {},
   "source": [
    "E(X) = n × p\n"
   ]
  },
  {
   "cell_type": "markdown",
   "metadata": {},
   "source": [
    "Var(X) = n × p × (1 − p)"
   ]
  },
  {
   "cell_type": "raw",
   "metadata": {},
   "source": [
    "# Note:\n",
    "n = number of trials  \n",
    "p = probability  "
   ]
  },
  {
   "cell_type": "raw",
   "metadata": {},
   "source": [
    "For example, n = 10 and p = 0.5  \n",
    "E(X) = 10 * 0.5  \n",
    "= 5"
   ]
  },
  {
   "cell_type": "raw",
   "metadata": {},
   "source": [
    "Var(X) = 10 × 0.5 × (1 − 0.5)\n",
    "= 2.5"
   ]
  },
  {
   "cell_type": "code",
   "execution_count": 20,
   "metadata": {},
   "outputs": [
    {
     "data": {
      "text/plain": [
       "(5.0, 2.5)"
      ]
     },
     "execution_count": 20,
     "metadata": {},
     "output_type": "execute_result"
    }
   ],
   "source": [
    "#Using Python\n",
    "from scipy.stats import binom\n",
    "binom.stats(n=10, p = 0.5)"
   ]
  },
  {
   "cell_type": "raw",
   "metadata": {},
   "source": [
    "# Note:\n",
    "Mean: array(5.)  \n",
    "Variance: array(2.5)  "
   ]
  },
  {
   "cell_type": "code",
   "execution_count": 21,
   "metadata": {},
   "outputs": [
    {
     "data": {
      "text/plain": [
       "(0.3, 0.21)"
      ]
     },
     "execution_count": 21,
     "metadata": {},
     "output_type": "execute_result"
    }
   ],
   "source": [
    "#For example, find the expected value and variance for one trial with p = 0.3\n",
    "from scipy.stats import binom\n",
    "binom.stats(n=1, p = 0.3)"
   ]
  },
  {
   "cell_type": "raw",
   "metadata": {},
   "source": [
    "Mean : array(0.3)\n",
    "Variansi : array(0.21)"
   ]
  },
  {
   "cell_type": "code",
   "execution_count": 22,
   "metadata": {},
   "outputs": [
    {
     "data": {
      "text/plain": [
       "(5.0, 2.5)"
      ]
     },
     "execution_count": 22,
     "metadata": {},
     "output_type": "execute_result"
    }
   ],
   "source": [
    "#For example, find the expected value and variance for ten trials with p = 0.5\n",
    "from scipy.stats import binom\n",
    "binom.stats(n=10, p = 0.5)"
   ]
  },
  {
   "cell_type": "raw",
   "metadata": {},
   "source": [
    "Mean : array(5.)\n",
    "Variance: array(2.5)"
   ]
  },
  {
   "cell_type": "code",
   "execution_count": null,
   "metadata": {},
   "outputs": [],
   "source": []
  },
  {
   "cell_type": "code",
   "execution_count": null,
   "metadata": {},
   "outputs": [],
   "source": []
  },
  {
   "cell_type": "code",
   "execution_count": null,
   "metadata": {},
   "outputs": [],
   "source": []
  }
 ],
 "metadata": {
  "kernelspec": {
   "display_name": "Python 3 (ipykernel)",
   "language": "python",
   "name": "python3"
  },
  "language_info": {
   "codemirror_mode": {
    "name": "ipython",
    "version": 3
   },
   "file_extension": ".py",
   "mimetype": "text/x-python",
   "name": "python",
   "nbconvert_exporter": "python",
   "pygments_lexer": "ipython3",
   "version": "3.12.0"
  }
 },
 "nbformat": 4,
 "nbformat_minor": 4
}
