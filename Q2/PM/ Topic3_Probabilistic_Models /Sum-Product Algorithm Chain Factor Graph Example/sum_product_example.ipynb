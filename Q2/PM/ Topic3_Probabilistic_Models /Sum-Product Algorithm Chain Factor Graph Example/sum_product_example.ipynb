{
 "cells": [
  {
   "cell_type": "markdown",
   "id": "d6a5695b",
   "metadata": {},
   "source": [
    "# Sum-Product Algorithm Example "
   ]
  },
  {
   "cell_type": "markdown",
   "id": "166fa287",
   "metadata": {},
   "source": [
    "\n",
    "This notebook demonstrates the **Sum-Product Algorithm** on a simple factor graph:\n",
    "\n",
    "We consider a chain structured graphical model over binary variables $(x_1, x_2, x_3 \\in \\{0, 1\\})$:\n",
    "\n",
    "$p(x_1, x_2, x_3) = f_1(x_1) \\cdot f_2(x_1, x_2) \\cdot f_3(x_2, x_3)$\n",
    "\n",
    "We aim to compute the marginal distribution \\(p(x_2)\\) using message passing.\n"
   ]
  },
  {
   "cell_type": "markdown",
   "id": "b6c5bb06",
   "metadata": {},
   "source": [
    "## Define Factor Values"
   ]
  },
  {
   "cell_type": "code",
   "execution_count": 1,
   "id": "819ab036",
   "metadata": {},
   "outputs": [],
   "source": [
    "import numpy as np\n",
    "\n",
    "# f1(x1): prior on x1\n",
    "f1 = np.array([0.6, 0.4])\n",
    "# f2(x1, x2)\n",
    "f2 = np.array([[0.3, 0.7],\n",
    "               [0.9, 0.1]])\n",
    "# f3(x2, x3)\n",
    "f3 = np.array([[0.2, 0.8],\n",
    "               [0.6, 0.4]])"
   ]
  },
  {
   "cell_type": "markdown",
   "id": "a17a4709",
   "metadata": {},
   "source": [
    "## Messages from f1 to x1 and x1 to f2"
   ]
  },
  {
   "cell_type": "code",
   "execution_count": 2,
   "id": "3cc04b92",
   "metadata": {},
   "outputs": [
    {
     "name": "stdout",
     "output_type": "stream",
     "text": [
      "mu_f1->x1 = [0.6 0.4]\n"
     ]
    }
   ],
   "source": [
    "mu_f1_to_x1 = f1\n",
    "mu_x1_to_f2 = mu_f1_to_x1.copy()\n",
    "print(\"mu_f1->x1 =\", mu_f1_to_x1)"
   ]
  },
  {
   "cell_type": "markdown",
   "id": "0a183c7d",
   "metadata": {},
   "source": [
    "## Message from f2 to x2"
   ]
  },
  {
   "cell_type": "code",
   "execution_count": 3,
   "id": "df010948",
   "metadata": {},
   "outputs": [
    {
     "name": "stdout",
     "output_type": "stream",
     "text": [
      "mu_f2->x2 = [0.54 0.46]\n"
     ]
    }
   ],
   "source": [
    "mu_f2_to_x2 = np.zeros(2)\n",
    "for x2 in [0, 1]:\n",
    "    mu_f2_to_x2[x2] = np.sum(f2[:, x2] * mu_x1_to_f2)\n",
    "print(\"mu_f2->x2 =\", mu_f2_to_x2)"
   ]
  },
  {
   "cell_type": "markdown",
   "id": "0abdd626",
   "metadata": {},
   "source": [
    "## Message from f3 to x2 (from x3 side)"
   ]
  },
  {
   "cell_type": "code",
   "execution_count": 4,
   "id": "51a31676",
   "metadata": {},
   "outputs": [
    {
     "name": "stdout",
     "output_type": "stream",
     "text": [
      "mu_f3->x2 = [1. 1.]\n"
     ]
    }
   ],
   "source": [
    "mu_x3_to_f3 = np.ones(2)\n",
    "mu_f3_to_x2 = np.sum(f3 * mu_x3_to_f3, axis=1)\n",
    "print(\"mu_f3->x2 =\", mu_f3_to_x2)"
   ]
  },
  {
   "cell_type": "markdown",
   "id": "99a8245d",
   "metadata": {},
   "source": [
    "## Compute Unnormalized Marginal for x2"
   ]
  },
  {
   "cell_type": "code",
   "execution_count": 5,
   "id": "6e9ae162",
   "metadata": {},
   "outputs": [
    {
     "name": "stdout",
     "output_type": "stream",
     "text": [
      "Normalized marginal p(x2): [0.54 0.46]\n"
     ]
    }
   ],
   "source": [
    "unnormalized_p_x2 = mu_f2_to_x2 * mu_f3_to_x2\n",
    "p_x2 = unnormalized_p_x2 / np.sum(unnormalized_p_x2)\n",
    "print(\"Normalized marginal p(x2):\", p_x2)"
   ]
  },
  {
   "cell_type": "markdown",
   "id": "53814b27",
   "metadata": {},
   "source": [
    "## Final Result"
   ]
  },
  {
   "cell_type": "markdown",
   "id": "9ecbeb9c",
   "metadata": {},
   "source": [
    "\n",
    "$\\boxed{p(x_2 = 0) \\approx 0.54, \\quad p(x_2 = 1) \\approx 0.46}$\n"
   ]
  }
 ],
 "metadata": {
  "kernelspec": {
   "display_name": "Python 3 (ipykernel)",
   "language": "python",
   "name": "python3"
  },
  "language_info": {
   "codemirror_mode": {
    "name": "ipython",
    "version": 3
   },
   "file_extension": ".py",
   "mimetype": "text/x-python",
   "name": "python",
   "nbconvert_exporter": "python",
   "pygments_lexer": "ipython3",
   "version": "3.12.5"
  }
 },
 "nbformat": 4,
 "nbformat_minor": 5
}
