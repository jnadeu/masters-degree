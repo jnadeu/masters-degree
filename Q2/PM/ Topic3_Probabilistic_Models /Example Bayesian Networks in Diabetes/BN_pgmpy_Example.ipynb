{
 "cells": [
  {
   "cell_type": "markdown",
   "metadata": {},
   "source": [
    "# Bayesian Network Example using pgmpy\n",
    "\n",
    "This notebook demonstrates:\n",
    "1. Defining a Bayesian Network structure\n",
    "2. Specifying Conditional Probability Tables (CPTs)\n",
    "3. Performing conditional-independence checks (d-separation)\n",
    "4. Exact inference by enumeration\n",
    "5. Factor-graph construction and sum-product message-passing"
   ]
  },
  {
   "cell_type": "code",
   "execution_count": 1,
   "metadata": {},
   "outputs": [],
   "source": [
    "# Install pgmpy if not already installed\n",
    "# !pip install pgmpy"
   ]
  },
  {
   "cell_type": "code",
   "execution_count": 2,
   "metadata": {},
   "outputs": [],
   "source": [
    "import pandas as pd\n",
    "import numpy as np\n",
    "import networkx as nx\n",
    "import matplotlib.pyplot as plt\n",
    "\n",
    "from pgmpy.models import DiscreteBayesianNetwork, FactorGraph\n",
    "from pgmpy.factors.discrete import TabularCPD\n",
    "from pgmpy.inference import VariableElimination, BeliefPropagation"
   ]
  },
  {
   "cell_type": "code",
   "execution_count": 3,
   "metadata": {},
   "outputs": [
    {
     "data": {
      "text/html": [
       "<div>\n",
       "<style scoped>\n",
       "    .dataframe tbody tr th:only-of-type {\n",
       "        vertical-align: middle;\n",
       "    }\n",
       "\n",
       "    .dataframe tbody tr th {\n",
       "        vertical-align: top;\n",
       "    }\n",
       "\n",
       "    .dataframe thead th {\n",
       "        text-align: right;\n",
       "    }\n",
       "</style>\n",
       "<table border=\"1\" class=\"dataframe\">\n",
       "  <thead>\n",
       "    <tr style=\"text-align: right;\">\n",
       "      <th></th>\n",
       "      <th>gender</th>\n",
       "      <th>hypertension</th>\n",
       "      <th>heart_disease</th>\n",
       "      <th>smoking_history</th>\n",
       "      <th>bmi_bin</th>\n",
       "      <th>glucose_bin</th>\n",
       "      <th>diabetes</th>\n",
       "    </tr>\n",
       "  </thead>\n",
       "  <tbody>\n",
       "    <tr>\n",
       "      <th>0</th>\n",
       "      <td>Female</td>\n",
       "      <td>0</td>\n",
       "      <td>1</td>\n",
       "      <td>never</td>\n",
       "      <td>Overweight</td>\n",
       "      <td>Normal</td>\n",
       "      <td>0</td>\n",
       "    </tr>\n",
       "    <tr>\n",
       "      <th>1</th>\n",
       "      <td>Female</td>\n",
       "      <td>0</td>\n",
       "      <td>0</td>\n",
       "      <td>No Info</td>\n",
       "      <td>Overweight</td>\n",
       "      <td>Low</td>\n",
       "      <td>0</td>\n",
       "    </tr>\n",
       "    <tr>\n",
       "      <th>2</th>\n",
       "      <td>Male</td>\n",
       "      <td>0</td>\n",
       "      <td>0</td>\n",
       "      <td>never</td>\n",
       "      <td>Overweight</td>\n",
       "      <td>High</td>\n",
       "      <td>0</td>\n",
       "    </tr>\n",
       "    <tr>\n",
       "      <th>3</th>\n",
       "      <td>Female</td>\n",
       "      <td>0</td>\n",
       "      <td>0</td>\n",
       "      <td>current</td>\n",
       "      <td>Normal</td>\n",
       "      <td>High</td>\n",
       "      <td>0</td>\n",
       "    </tr>\n",
       "    <tr>\n",
       "      <th>4</th>\n",
       "      <td>Male</td>\n",
       "      <td>1</td>\n",
       "      <td>1</td>\n",
       "      <td>current</td>\n",
       "      <td>Normal</td>\n",
       "      <td>High</td>\n",
       "      <td>0</td>\n",
       "    </tr>\n",
       "  </tbody>\n",
       "</table>\n",
       "</div>"
      ],
      "text/plain": [
       "   gender hypertension heart_disease smoking_history     bmi_bin glucose_bin  \\\n",
       "0  Female            0             1           never  Overweight      Normal   \n",
       "1  Female            0             0         No Info  Overweight         Low   \n",
       "2    Male            0             0           never  Overweight        High   \n",
       "3  Female            0             0         current      Normal        High   \n",
       "4    Male            1             1         current      Normal        High   \n",
       "\n",
       "  diabetes  \n",
       "0        0  \n",
       "1        0  \n",
       "2        0  \n",
       "3        0  \n",
       "4        0  "
      ]
     },
     "execution_count": 3,
     "metadata": {},
     "output_type": "execute_result"
    }
   ],
   "source": [
    "# 1a. Load data\n",
    "df = pd.read_csv('diabetes_prediction_dataset.csv')\n",
    "\n",
    "# 1b. Bin BMI\n",
    "df['bmi_bin'] = pd.cut(\n",
    "    df.bmi,\n",
    "    bins=[0,18.5,25,30,np.inf],\n",
    "    labels=['Underweight','Normal','Overweight','Obese']\n",
    ")\n",
    "\n",
    "# 1c. Bin blood glucose\n",
    "df['glucose_bin'] = pd.cut(\n",
    "    df.blood_glucose_level,\n",
    "    bins=[0,100,140,np.inf],\n",
    "    labels=['Low','Normal','High']\n",
    ")\n",
    "\n",
    "# 1d. Keep and drop NA\n",
    "data = df[\n",
    "    ['gender','hypertension','heart_disease','smoking_history',\n",
    "     'bmi_bin','glucose_bin','diabetes']\n",
    "].dropna()\n",
    "\n",
    "# 1e. Convert all to categorical strings\n",
    "for col in ['gender','hypertension','heart_disease','smoking_history',\n",
    "            'bmi_bin','glucose_bin','diabetes']:\n",
    "    data[col] = data[col].astype(str)\n",
    "\n",
    "data.head()\n"
   ]
  },
  {
   "cell_type": "markdown",
   "metadata": {},
   "source": [
    "## 1. Defining a Bayesian Network structure"
   ]
  },
  {
   "cell_type": "code",
   "execution_count": 4,
   "metadata": {},
   "outputs": [],
   "source": [
    "model = DiscreteBayesianNetwork([\n",
    "    ('gender','diabetes'),\n",
    "    ('hypertension','diabetes'),\n",
    "    ('heart_disease','diabetes'),\n",
    "    ('smoking_history','diabetes'),\n",
    "    ('bmi_bin','diabetes'),\n",
    "    ('glucose_bin','diabetes')\n",
    "])\n"
   ]
  },
  {
   "cell_type": "markdown",
   "metadata": {},
   "source": [
    "# 2. Specifying Conditional Probability Tables (CPTs)"
   ]
  },
  {
   "cell_type": "code",
   "execution_count": 28,
   "metadata": {},
   "outputs": [
    {
     "name": "stdout",
     "output_type": "stream",
     "text": [
      "First 10 rows of the CPT for 'diabetes':\n",
      "                                                                       diabetes=0  \\\n",
      "bmi_bin gender glucose_bin heart_disease hypertension smoking_history               \n",
      "Normal  Female High        0             0            No Info            0.982882   \n",
      "                                                      current            0.950680   \n",
      "                                                      ever               0.946237   \n",
      "                                                      former             0.936123   \n",
      "                                                      never              0.965003   \n",
      "                                                      not current        0.949198   \n",
      "                                         1            No Info            0.707317   \n",
      "                                                      current            0.789474   \n",
      "                                                      ever               0.642857   \n",
      "                                                      former             0.800000   \n",
      "\n",
      "                                                                       diabetes=1  \n",
      "bmi_bin gender glucose_bin heart_disease hypertension smoking_history              \n",
      "Normal  Female High        0             0            No Info            0.017118  \n",
      "                                                      current            0.049320  \n",
      "                                                      ever               0.053763  \n",
      "                                                      former             0.063877  \n",
      "                                                      never              0.034997  \n",
      "                                                      not current        0.050802  \n",
      "                                         1            No Info            0.292683  \n",
      "                                                      current            0.210526  \n",
      "                                                      ever               0.357143  \n",
      "                                                      former             0.200000  \n",
      "Full CPT saved to diabetes_CPT.csv\n"
     ]
    }
   ],
   "source": [
    "import pandas as pd\n",
    "\n",
    "# 1. Extract the CPT object\n",
    "cpd = model.get_cpds('diabetes')\n",
    "\n",
    "# 2. Identify child and parent variables\n",
    "child = cpd.variable\n",
    "parents = cpd.variables[1:]    # first element is the child\n",
    "\n",
    "# 3. Gather state names\n",
    "state_names = cpd.state_names  # dict mapping each var → list of its states\n",
    "child_states = state_names[child]\n",
    "parent_states = [state_names[p] for p in parents]\n",
    "\n",
    "# 4. Build a MultiIndex of all parent‐configurations\n",
    "index = pd.MultiIndex.from_product(parent_states, names=parents)\n",
    "\n",
    "# 5. Get the raw CPT values and transpose so rows match parent‐configs\n",
    "#    cpd.get_values() returns an array of shape (child_card, prod(evidence_card))\n",
    "values = cpd.get_values().T\n",
    "\n",
    "# 6. Build the DataFrame\n",
    "df_cpt = pd.DataFrame(\n",
    "    values,\n",
    "    index=index,\n",
    "    columns=[f\"{child}={s}\" for s in child_states]\n",
    ")\n",
    "\n",
    "# 7. Display the first few rows\n",
    "print(\"First 10 rows of the CPT for 'diabetes':\")\n",
    "print(df_cpt.head(10))\n",
    "\n",
    "# 8. Optionally save to CSV for full inspection\n",
    "df_cpt.to_csv('diabetes_CPT.csv')\n",
    "print(\"Full CPT saved to diabetes_CPT.csv\")\n",
    "\n"
   ]
  },
  {
   "cell_type": "markdown",
   "metadata": {},
   "source": [
    "## 2.1 Specify Conditional Distributions"
   ]
  },
  {
   "cell_type": "markdown",
   "metadata": {},
   "source": [
    "## 2.2 Priors for Root Nodes"
   ]
  },
  {
   "cell_type": "code",
   "execution_count": 29,
   "metadata": {},
   "outputs": [],
   "source": [
    "def make_root_cpd(var):\n",
    "    # Compute normalized frequency for each state\n",
    "    freqs = data[var].value_counts(normalize=True).sort_index()\n",
    "    # Reshape to a (n_states × 1) list of lists\n",
    "    values = freqs.values.reshape(-1, 1).tolist()\n",
    "    return TabularCPD(\n",
    "        variable=var,\n",
    "        variable_card=len(freqs),\n",
    "        values=values,\n",
    "        state_names={var: freqs.index.tolist()}\n",
    "    )\n",
    "\n",
    "cpd_gender       = make_root_cpd('gender')\n",
    "cpd_hypertension = make_root_cpd('hypertension')\n",
    "cpd_hd           = make_root_cpd('heart_disease')\n",
    "cpd_smoke        = make_root_cpd('smoking_history')\n",
    "cpd_bmi          = make_root_cpd('bmi_bin')\n",
    "cpd_glu          = make_root_cpd('glucose_bin')\n"
   ]
  },
  {
   "cell_type": "markdown",
   "metadata": {},
   "source": [
    "## 3.2 Child Node CPT"
   ]
  },
  {
   "cell_type": "code",
   "execution_count": 30,
   "metadata": {},
   "outputs": [
    {
     "name": "stderr",
     "output_type": "stream",
     "text": [
      "INFO:pgmpy: Datatype (N=numerical, C=Categorical Unordered, O=Categorical Ordered) inferred from data: \n",
      " {'gender': 'C', 'hypertension': 'C', 'heart_disease': 'C', 'smoking_history': 'C', 'bmi_bin': 'C', 'glucose_bin': 'C', 'diabetes': 'C'}\n",
      "WARNING:pgmpy:Replacing existing CPD for gender\n",
      "WARNING:pgmpy:Replacing existing CPD for diabetes\n",
      "WARNING:pgmpy:Replacing existing CPD for hypertension\n",
      "WARNING:pgmpy:Replacing existing CPD for heart_disease\n",
      "WARNING:pgmpy:Replacing existing CPD for smoking_history\n",
      "WARNING:pgmpy:Replacing existing CPD for bmi_bin\n",
      "WARNING:pgmpy:Replacing existing CPD for glucose_bin\n"
     ]
    },
    {
     "name": "stdout",
     "output_type": "stream",
     "text": [
      "+-----------------+-----+------------------------------+\n",
      "| bmi_bin         | ... | bmi_bin(Underweight)         |\n",
      "+-----------------+-----+------------------------------+\n",
      "| gender          | ... | gender(Other)                |\n",
      "+-----------------+-----+------------------------------+\n",
      "| glucose_bin     | ... | glucose_bin(Normal)          |\n",
      "+-----------------+-----+------------------------------+\n",
      "| heart_disease   | ... | heart_disease(1)             |\n",
      "+-----------------+-----+------------------------------+\n",
      "| hypertension    | ... | hypertension(1)              |\n",
      "+-----------------+-----+------------------------------+\n",
      "| smoking_history | ... | smoking_history(not current) |\n",
      "+-----------------+-----+------------------------------+\n",
      "| diabetes(0)     | ... | 0.5                          |\n",
      "+-----------------+-----+------------------------------+\n",
      "| diabetes(1)     | ... | 0.5                          |\n",
      "+-----------------+-----+------------------------------+\n"
     ]
    }
   ],
   "source": [
    "from pgmpy.estimators import BayesianEstimator\n",
    "\n",
    "# Fit all CPDs, including the big CPT for 'diabetes', with Dirichlet prior\n",
    "model.fit(\n",
    "    data,\n",
    "    estimator=BayesianEstimator,\n",
    "    prior_type='dirichlet',\n",
    "    pseudo_counts=1\n",
    ")\n",
    "\n",
    "# Retrieve the CPT for 'diabetes'\n",
    "cpd_diabetes = model.get_cpds('diabetes')\n",
    "print(cpd_diabetes)\n"
   ]
  },
  {
   "cell_type": "markdown",
   "metadata": {},
   "source": [
    "# 3. Performing conditional-independence checks (d-separation)"
   ]
  },
  {
   "cell_type": "code",
   "execution_count": 31,
   "metadata": {},
   "outputs": [
    {
     "name": "stdout",
     "output_type": "stream",
     "text": [
      "gender ⟂ heart_disease | []?  --> True\n",
      "gender ⟂ hypertension | ['diabetes']?  --> False\n",
      "bmi_bin ⟂ smoking_history | ['diabetes']?  --> False\n"
     ]
    },
    {
     "name": "stderr",
     "output_type": "stream",
     "text": [
      "C:\\Users\\crist\\AppData\\Local\\Temp\\ipykernel_33372\\338394384.py:13: DeprecationWarning: d_separated is deprecated and will be removed in NetworkX v3.5.Please use `is_d_separator(G, x, y, z)`.\n",
      "  sep = d_separated(G, {X}, {Y}, set(Z))\n"
     ]
    }
   ],
   "source": [
    "# Conditional-Independence Checks via d-Separation\n",
    "\n",
    "import networkx as nx\n",
    "from networkx.algorithms.d_separation import d_separated\n",
    "\n",
    "# 1. Build a plain DiGraph from the BayesianNetwork edges\n",
    "G = nx.DiGraph()\n",
    "G.add_nodes_from(model.nodes())\n",
    "G.add_edges_from(model.edges())\n",
    "\n",
    "# 2. Define a helper to print results\n",
    "def check_sep(X, Y, Z):\n",
    "    sep = d_separated(G, {X}, {Y}, set(Z))\n",
    "    print(f\"{X} ⟂ {Y} | {Z}?  --> {sep}\")\n",
    "\n",
    "# 3. Perform checks\n",
    "check_sep('gender',        'heart_disease',    [])                # root vs root\n",
    "check_sep('gender',        'hypertension',     ['diabetes'])     # conditional on child\n",
    "check_sep('bmi_bin',       'smoking_history',  ['diabetes'])     # conditional on common child\n"
   ]
  },
  {
   "cell_type": "markdown",
   "metadata": {},
   "source": [
    "# Exact inference by enumeration"
   ]
  },
  {
   "cell_type": "code",
   "execution_count": 33,
   "metadata": {},
   "outputs": [
    {
     "name": "stdout",
     "output_type": "stream",
     "text": [
      "Exact inference result:\n",
      "+-------------+-----------------+\n",
      "| diabetes    |   phi(diabetes) |\n",
      "+=============+=================+\n",
      "| diabetes(0) |          0.7661 |\n",
      "+-------------+-----------------+\n",
      "| diabetes(1) |          0.2339 |\n",
      "+-------------+-----------------+\n"
     ]
    }
   ],
   "source": [
    "# 7. Exact Inference by Enumeration\n",
    "from pgmpy.inference import VariableElimination\n",
    "\n",
    "# Create inference object\n",
    "infer = VariableElimination(model)\n",
    "\n",
    "# Query: P(diabetes | bmi_bin=Obese, glucose_bin=High)\n",
    "posterior = infer.query(\n",
    "    variables=['diabetes'],\n",
    "    evidence={'bmi_bin': 'Obese', 'glucose_bin': 'High'}\n",
    ")\n",
    "\n",
    "# Print the resulting posterior distribution\n",
    "print(\"Exact inference result:\")\n",
    "print(posterior)\n"
   ]
  },
  {
   "cell_type": "markdown",
   "metadata": {},
   "source": [
    "# Factor‐Graph & Sum‐Product Message‐Passing"
   ]
  },
  {
   "cell_type": "code",
   "execution_count": 34,
   "metadata": {},
   "outputs": [
    {
     "name": "stdout",
     "output_type": "stream",
     "text": [
      "+-------------+-----------------+\n",
      "| diabetes    |   phi(diabetes) |\n",
      "+=============+=================+\n",
      "| diabetes(0) |          0.7661 |\n",
      "+-------------+-----------------+\n",
      "| diabetes(1) |          0.2339 |\n",
      "+-------------+-----------------+\n"
     ]
    }
   ],
   "source": [
    "from pgmpy.models import FactorGraph\n",
    "from pgmpy.inference import BeliefPropagation\n",
    "\n",
    "# 1. Build an empty FactorGraph\n",
    "fg = FactorGraph()\n",
    "\n",
    "# 2. Add all variable nodes\n",
    "fg.add_nodes_from(model.nodes())\n",
    "\n",
    "# 3. Add factors (one per CPD) and connect them\n",
    "for cpd in model.get_cpds():\n",
    "    factor = cpd.to_factor()\n",
    "    fg.add_factors(factor)\n",
    "    # Connect each variable in the factor’s scope to the factor node\n",
    "    for var in factor.scope():\n",
    "        fg.add_edge(var, factor)\n",
    "\n",
    "# 4. Run Belief Propagation\n",
    "bp = BeliefPropagation(fg)\n",
    "\n",
    "# 5. Query the same evidence you used for enumeration:\n",
    "#    Only use variables actually in the model!\n",
    "fg_post = bp.query(\n",
    "    variables=['diabetes'],\n",
    "    evidence={'bmi_bin': 'Obese', 'glucose_bin': 'High'}\n",
    ")\n",
    "\n",
    "# 6. Display the posterior\n",
    "print(fg_post)\n"
   ]
  },
  {
   "cell_type": "code",
   "execution_count": 35,
   "metadata": {},
   "outputs": [
    {
     "data": {
      "image/png": "[encoded data removed]",
      "text/plain": [
       "<Figure size 800x600 with 1 Axes>"
      ]
     },
     "metadata": {},
     "output_type": "display_data"
    }
   ],
   "source": [
    "import networkx as nx\n",
    "\n",
    "# Plot the factor graph\n",
    "plt.figure(figsize=(8, 6))\n",
    "variable_nodes = list(model.nodes())\n",
    "factor_nodes = [n for n in fg.nodes() if n not in variable_nodes]\n",
    "\n",
    "pos_var = nx.spring_layout(fg.subgraph(variable_nodes), seed=1)\n",
    "pos_fac = nx.spring_layout(fg.subgraph(factor_nodes), seed=2)\n",
    "pos = {**pos_var, **{k: v*0.5+0.5 for k, v in pos_fac.items()}}\n",
    "\n",
    "nx.draw_networkx_nodes(fg, pos, nodelist=variable_nodes,\n",
    "                       node_color='lightblue', node_shape='o', node_size=800)\n",
    "nx.draw_networkx_nodes(fg, pos, nodelist=factor_nodes,\n",
    "                       node_color='lightgreen', node_shape='s', node_size=600)\n",
    "nx.draw_networkx_edges(fg, pos, width=1)\n",
    "nx.draw_networkx_labels(fg, pos,\n",
    "                        labels={n: n for n in variable_nodes},\n",
    "                        font_size=9)\n",
    "nx.draw_networkx_labels(fg, pos,\n",
    "                        labels={n: f\"φ{idx}\" for idx, n in enumerate(factor_nodes)},\n",
    "                        font_size=9)\n",
    "\n",
    "plt.title(\"Factor Graph\")\n",
    "plt.axis('off')\n",
    "plt.show()\n"
   ]
  },
  {
   "cell_type": "code",
   "execution_count": null,
   "metadata": {},
   "outputs": [],
   "source": []
  }
 ],
 "metadata": {
  "kernelspec": {
   "display_name": "Python 3 (ipykernel)",
   "language": "python",
   "name": "python3"
  },
  "language_info": {
   "codemirror_mode": {
    "name": "ipython",
    "version": 3
   },
   "file_extension": ".py",
   "mimetype": "text/x-python",
   "name": "python",
   "nbconvert_exporter": "python",
   "pygments_lexer": "ipython3",
   "version": "3.12.5"
  }
 },
 "nbformat": 4,
 "nbformat_minor": 4
}
